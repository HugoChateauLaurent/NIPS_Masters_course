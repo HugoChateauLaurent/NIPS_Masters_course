{
 "cells": [
  {
   "cell_type": "code",
   "execution_count": 1,
   "metadata": {
    "colab_type": "text",
    "id": "q69LXWGjKTN8"
   },
   "outputs": [],
   "source": [
    "# Group number: 24\n",
    "# Franka Buytenhuijs, s4356845\n",
    "# Hugo Chateau-Laurent, s1023970\n",
    "# Maria Tsfasman, s1021505"
   ]
  },
  {
   "cell_type": "markdown",
   "metadata": {
    "colab_type": "text",
    "id": "zZyd2ovRFa8-"
   },
   "source": [
    "**SOW-MKI49: Neural Information Processing Systems**\n",
    "\n",
    "**Assignment 5: Neural Decoding**\n",
    "\n",
    "**Total points: 100**\n",
    "\n",
    "**Author: Umut**\n",
    "\n",
    "In this assignment, you will implement a neural decoder for reconstructing perceived stimuli from brain responses. We will be using the dataset that was previously used in a number of papers. These papers along with additional lecture notes on neural decoding can be found in Brightspace. You can refer them for more details on the dataset and/or the method.\n",
    "\n",
    "The dataset contains fMRI data acquired from the early visual cortex of one subject as the subject was presented with 100 grayscale images of handwritten sixes and nines (50 sixes and 50 nines). The fMRI data has been realigned and slice time corrected. Furthermore, stimulus specific response amplitudes have been estimated with a general linear model.\n",
    "\n",
    "Let's first familiarize ourselves with the dataset. It contains a number of variables:\n",
    "\n",
    "* **X** -> This is a 100 x 784 matrix. The ith row contains the pixel values of the stimulus that was presented in the ith trial of the experiment. Note that the stimuli are 28 pixel x 28 pixel images, which were reshaped to 1 x 784 vectors.\n",
    "\n",
    "* **Y** -> This is a 100 x 3092 matrix. The ith row contains the voxel values of the responses that were measured in the ith trial of the experiment.\n",
    "\n",
    "* **X_prior** -> This is a 2000 x 784 matrix. Each row contains the pixel values of a different stimulus, which was not used in the experiment. Note that the stimuli are 28 pixel x 28 pixel images, which were reshaped to 1 x 784 vectors.\n",
    "\n",
    "Note: In the remainder of this document, we will use **x** for referring to a 784 x 1 stimulus vector and **y** for referring to a 3092 x 1 response vector."
   ]
  },
  {
   "cell_type": "markdown",
   "metadata": {
    "colab_type": "text",
    "id": "t03M9EgdGwiZ"
   },
   "source": [
    "## Task 1 (10 points)\n",
    "\n",
    "* Load the dataset.\n",
    "* Visualize some of the stimuli.\n",
    "* Normalize X and Y to have zero mean and unit variance. Tip: Recall that normalization means subtracting the mean of each pixel/voxel from itself and dividing it by its standard deviation. You can use zscore function.\n",
    "* Split X and Y in two parts called X_training and X_test, and Y_training and Y_test. The training set should contain 80 stimulus-response pairs (40 pairs for sixes and 40 pairs for nines). The test set should contain 20 stimulus-response pairs (10 pairs for sixes and 10 pairs for nines)."
   ]
  },
  {
   "cell_type": "code",
   "execution_count": 0,
   "metadata": {
    "colab": {},
    "colab_type": "code",
    "id": "pF6EIju9FZx6"
   },
   "outputs": [],
   "source": [
    "###"
   ]
  },
  {
   "cell_type": "markdown",
   "metadata": {
    "colab_type": "text",
    "id": "wVkO8xGCHe0z"
   },
   "source": [
    "Our goal is to solve the problem of reconstructing **x** from **y**. One possible approach to solve this problem is to use a *discriminative* model. Discriminative models predict **x** as a function of **y**. That is:\n",
    "\n",
    "**x** = f(**y**)\n",
    "\n",
    "We will assume that f is a linear function. That is:\n",
    "\n",
    "**x** = **B'** **y**\n",
    "\n",
    "f can be seen as a very simple linear neural network comprising one layer of weights (i.e., **B**). We can estimate **B** in close form with ridge regression. That is:\n",
    "\n",
    "**B** = inv(**Y**\\_training' **Y**\\_training + lambda **I**) **Y**\\_training' **X**\\_training\n",
    "\n",
    "where lambda is the regularization coefficient, **I** is the *q* x *q* identity matrix, and *q* is the number of voxels. Note that we can safely ignore the intercept since we normalized our data to have zero mean and unit variance."
   ]
  },
  {
   "cell_type": "markdown",
   "metadata": {
    "colab_type": "text",
    "id": "ewW8yODUIVbP"
   },
   "source": [
    "## Task 2  (15 points)\n",
    "\n",
    "* Estimate **B** on the training set. Tip: Normally, you should use cross validation to estimate lambda. For simplicity, you can assume that lambda = 10 ^ -6.\n",
    "* Reconstruct **x** from **y** in the test set.\n",
    "* Visualize the reconstructions."
   ]
  },
  {
   "cell_type": "code",
   "execution_count": 0,
   "metadata": {
    "colab": {},
    "colab_type": "code",
    "id": "DRxkSzGyH8Bh"
   },
   "outputs": [],
   "source": [
    "###"
   ]
  },
  {
   "cell_type": "markdown",
   "metadata": {
    "colab_type": "text",
    "id": "LYLXZGJ4H8LP"
   },
   "source": [
    "Another possible approach to solve the problem of reconstructing **x** from **y** is to use a *generative* model and invert it with Bayes' rule. We reformulate the problem as finding the most probable **x** that could have caused **y**. That is:\n",
    "\n",
    "argmax_**x** P(**x** | **y**)\n",
    "\n",
    "where P(**x** | **y**) is called the posterior (probability of the stimulus being **x** if the observation is **y**). In other words, we have to define the posterior, estimate its parameters and find the argument that maximizes it, which will be the reconstruction of **x** from **y**. While, this may seem daunting, it actually has a simple solution. The posterior assigns a probability to an event by combining our observations and beliefs about it, and can be decomposed with Bayes' rule as the product of how likely our observations are given the event (probability of observing **y** if the stimulus is **x**) and how likely the event is independent of our observations (probability of the stimulus being **x**). That is:\n",
    "\n",
    "P(**x** | **y**) ~ P(**y** | **x**) * P(**x**)\n",
    "\n",
    "where P(**y** | **x**) is called the likelihood and P(x) is called the prior.\n",
    "\n",
    "We will assume that the likelihood and the prior are multivariate Gaussian distributions. A Gaussian is characterized by two parameters: a mean vector and a covariance matrix. In the case of the likelihood, the mean of the Gaussian is given by:\n",
    "\n",
    "**mu**\\_likelihood = **B'** **x**\n",
    "\n",
    "As before, we can estimate **B** in close form with ridge regression:\n",
    "\n",
    "**B** = inv(**X**\\_training' **X**\\_training + lambda **I**) **X**\\_training' **Y**\\_training\n",
    "\n",
    "where lambda is the regularization coefficient, I is the *p* x *p* identity matrix, and *p* is the number of pixels. The covariance matrix of the likelihood is given by:\n",
    "\n",
    "**Sigma**_likelihood = diag(E[||**y** - **B'** **x**|| ^ 2]). \n",
    "\n",
    "In the case of the prior, the mean of the Gaussian is given by:\n",
    "\n",
    "**mu**\\_prior = **0** (which is a vector of zeros)\n",
    "\n",
    "The covariance matrix of the prior is given by:\n",
    "\n",
    "**Sigma**\\_prior = **X**\\_prior' * **X**\\_prior / (n - 1)\n",
    "\n",
    "where n is the length of **X**\\_prior."
   ]
  },
  {
   "cell_type": "markdown",
   "metadata": {
    "colab_type": "text",
    "id": "ITe4_zh1JZn1"
   },
   "source": [
    "## Task 3 (20 points)\n",
    "\n",
    "* Estimate **B** on the training set. Tip: Normally, you should use cross-validation to estimate lambda and Sigma_likelihood. For simplicity, you can assume that lambda = 10 ^ -6 and Sigma_likelihood = 10 ^ -3 **I**.\n",
    "* Estimate **Sigma**\\_prior. Tip: Add 10 ^ -6 to the diagonal of Sigma_prior for regularization.\n",
    "* Visualize **Sigma**\\_prior. Can you explain what it shows?"
   ]
  },
  {
   "cell_type": "code",
   "execution_count": 0,
   "metadata": {
    "colab": {},
    "colab_type": "code",
    "id": "vePaLa1sJiFB"
   },
   "outputs": [],
   "source": [
    "###"
   ]
  },
  {
   "cell_type": "markdown",
   "metadata": {
    "colab_type": "text",
    "id": "6PMMnQfeJidL"
   },
   "source": [
    "Having defined the likelihood and the prior as Gaussians, we can derive the posterior by multiplying them. It turns out that the product of two Gaussians is another Gaussian, whose mean vector is given by:\n",
    "\n",
    "**mu**\\_posterior = inv(inv(**Sigma**\\_prior) + **B** inv(**Sigma**\\_likelihood) **B**') **B** * inv(**Sigma**\\_likelihood) **y**\n",
    "\n",
    "We are almost done. Recall that the reconstruction of **x** from **y** is the argument that maximizes the posterior, which we derived to be a Gaussian. We will be completely done once we answer the following question: What is the argument that maximizes a Gaussian?\n",
    "\n",
    ".  \n",
    ".  \n",
    ".  \n",
    ".  \n",
    ".  \n",
    ".\n",
    "\n",
    "The answer is its mean vector, which is the solution of our initial problem. That is:\n",
    "\n",
    "argmax_**x** P(**x** | **y**) =  \n",
    "**mu**\\_posterior =  \n",
    "inv(inv(**Sigma**\\_prior) + **B** inv(**Sigma**\\_likelihood) **B**') **B** * inv(**Sigma**\\_likelihood) **y**\n",
    "\n",
    "Now, we can plug any **y** in the above equation and reconstruct the most probable **x** that could have caused it.\n"
   ]
  },
  {
   "cell_type": "markdown",
   "metadata": {
    "colab_type": "text",
    "id": "TLn3_7q2J93x"
   },
   "source": [
    "## Task 4 (25 points)\n",
    "\n",
    "- Reconstruct **x** from **y** in the test set.\n",
    "- Visualize the reconstructions.\n",
    "- Compare the reconstructions with the earlier reconstructions. Which one is better? Why? Can you think of ways to improve the results?"
   ]
  },
  {
   "cell_type": "code",
   "execution_count": 0,
   "metadata": {
    "colab": {},
    "colab_type": "code",
    "id": "miP-WjfCKma7"
   },
   "outputs": [],
   "source": [
    "###"
   ]
  },
  {
   "cell_type": "markdown",
   "metadata": {
    "colab_type": "text",
    "id": "mQwBsKfdKzJc"
   },
   "source": [
    "Now the real fight begins! You might have already realized that the second approach is very similar to the one in the face reconstruction paper that we have discussed in the last lecture. The main difference is how the stimuli are encoded. So far, we have been encoding the stimuli with an identity transformation:\n",
    "\n",
    "**mu**\\_likelihood = **B'** g(**x**)\n",
    "\n",
    "where g(**x**) = **x**\n",
    "\n",
    "In the paper, they are encoded as the features extracted from a DNN:\n",
    "\n",
    "**mu**\\_likelihood = **B'** DNN(**x**)\n",
    "\n",
    "Similarly, we have been decoding the responses with MAP estimation of the stimuli:\n",
    "\n",
    "g ^ -1(argmax_g(**x**) P(g(**x**) | **y**))\n",
    "\n",
    "where g ^ -1(**y**) = **y**\n",
    "\n",
    "In the paper, they are decoded with MAP estimation of the features followed by an inverse DNN:\n",
    "\n",
    "DNN ^ -1(argmax_DNN(**x**) P(DNN(**x**) | **y**))"
   ]
  },
  {
   "cell_type": "markdown",
   "metadata": {
    "colab_type": "text",
    "id": "6prNNFgwN9jA"
   },
   "source": [
    "## Task 5 (30 points)\n",
    "\n",
    "- Train a simple DNN for digit classification on the MNIST dataset.\n",
    "- Select an indermediate layer of the DNN as your feature extractor.\n",
    "- Train another simple DNN to invert the first DNN. That is, it should transform features extracted by the selected layer of the first DNN to stimuli.\n",
    "- Repeat Task 3 but use the trained DNNs instead of identity transformation."
   ]
  },
  {
   "cell_type": "code",
   "execution_count": 0,
   "metadata": {
    "colab": {},
    "colab_type": "code",
    "id": "SssHo2EKPlSu"
   },
   "outputs": [],
   "source": [
    "###"
   ]
  }
 ],
 "metadata": {
  "colab": {
   "name": "assignment_5.ipynb",
   "provenance": [],
   "version": "0.3.2"
  },
  "kernelspec": {
   "display_name": "Python 3",
   "language": "python",
   "name": "python3"
  },
  "language_info": {
   "codemirror_mode": {
    "name": "ipython",
    "version": 3
   },
   "file_extension": ".py",
   "mimetype": "text/x-python",
   "name": "python",
   "nbconvert_exporter": "python",
   "pygments_lexer": "ipython3",
   "version": "3.5.2"
  }
 },
 "nbformat": 4,
 "nbformat_minor": 1
}
