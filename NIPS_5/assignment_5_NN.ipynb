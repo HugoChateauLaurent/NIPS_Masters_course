{
 "cells": [
  {
   "cell_type": "code",
   "execution_count": 1,
   "metadata": {
    "colab_type": "text",
    "collapsed": true,
    "id": "q69LXWGjKTN8"
   },
   "outputs": [],
   "source": [
    "# Group number: 24\n",
    "# Franka Buytenhuijs, s4356845\n",
    "# Hugo Chateau-Laurent, s1023970\n",
    "# Maria Tsfasman, s1021505"
   ]
  },
  {
   "cell_type": "markdown",
   "metadata": {
    "colab_type": "text",
    "id": "zZyd2ovRFa8-"
   },
   "source": [
    "**SOW-MKI49: Neural Information Processing Systems**\n",
    "\n",
    "**Assignment 5: Neural Decoding**\n",
    "\n",
    "**Total points: 100**\n",
    "\n",
    "**Author: Umut**\n",
    "\n",
    "In this assignment, you will implement a neural decoder for reconstructing perceived stimuli from brain responses. We will be using the dataset that was previously used in a number of papers. These papers along with additional lecture notes on neural decoding can be found in Brightspace. You can refer them for more details on the dataset and/or the method.\n",
    "\n",
    "The dataset contains fMRI data acquired from the early visual cortex of one subject as the subject was presented with 100 grayscale images of handwritten sixes and nines (50 sixes and 50 nines). The fMRI data has been realigned and slice time corrected. Furthermore, stimulus specific response amplitudes have been estimated with a general linear model.\n",
    "\n",
    "Let's first familiarize ourselves with the dataset. It contains a number of variables:\n",
    "\n",
    "* **X** -> This is a 100 x 784 matrix. The ith row contains the pixel values of the stimulus that was presented in the ith trial of the experiment. Note that the stimuli are 28 pixel x 28 pixel images, which were reshaped to 1 x 784 vectors.\n",
    "\n",
    "* **Y** -> This is a 100 x 3092 matrix. The ith row contains the voxel values of the responses that were measured in the ith trial of the experiment.\n",
    "\n",
    "* **X_prior** -> This is a 2000 x 784 matrix. Each row contains the pixel values of a different stimulus, which was not used in the experiment. Note that the stimuli are 28 pixel x 28 pixel images, which were reshaped to 1 x 784 vectors.\n",
    "\n",
    "Note: In the remainder of this document, we will use **x** for referring to a 784 x 1 stimulus vector and **y** for referring to a 3092 x 1 response vector."
   ]
  },
  {
   "cell_type": "markdown",
   "metadata": {
    "colab_type": "text",
    "id": "t03M9EgdGwiZ"
   },
   "source": [
    "## Task 1 (10 points)\n",
    "\n",
    "* Load the dataset.\n",
    "* Visualize some of the stimuli.\n",
    "* Normalize X and Y to have zero mean and unit variance. Tip: Recall that normalization means subtracting the mean of each pixel/voxel from itself and dividing it by its standard deviation. You can use zscore function.\n",
    "* Split X and Y in two parts called X_training and X_test, and Y_training and Y_test. The training set should contain 80 stimulus-response pairs (40 pairs for sixes and 40 pairs for nines). The test set should contain 20 stimulus-response pairs (10 pairs for sixes and 10 pairs for nines)."
   ]
  },
  {
   "cell_type": "code",
   "execution_count": 7,
   "metadata": {
    "colab": {},
    "colab_type": "code",
    "collapsed": true,
    "id": "pF6EIju9FZx6"
   },
   "outputs": [],
   "source": [
    "gpu = False\n",
    "\n",
    "if gpu:\n",
    "    import cupy as np\n",
    "else:\n",
    "    import numpy as np\n",
    "    \n",
    "from scipy.io import loadmat\n",
    "from scipy.stats import zscore\n",
    "\n",
    "import scipy\n",
    "\n",
    "from chainer import cuda, datasets, serializers, optimizers\n",
    "from chainer.dataset import DatasetMixin, concat_examples\n",
    "import chainer.iterators as iterators\n",
    "from chainer.iterators import MultithreadIterator\n",
    "\n",
    "import chainer\n",
    "import chainer.functions as F\n",
    "import chainer.links as L\n",
    "\n",
    "import math\n",
    "import matplotlib.pyplot as plt\n",
    "import seaborn as sns\n"
   ]
  },
  {
   "cell_type": "code",
   "execution_count": 8,
   "metadata": {
    "scrolled": true
   },
   "outputs": [
    {
     "name": "stdout",
     "output_type": "stream",
     "text": [
      "Keys in data:\n",
      "  __header__\n",
      "  __version__\n",
      "  __globals__\n",
      "  X\n",
      "  X_prior\n",
      "  Y\n",
      "  anatomical\n",
      "  region_of_interest_label\n",
      "  region_of_interest_mask\n",
      "  stimulus_label\n"
     ]
    },
    {
     "data": {
      "image/png": "[encoded data removed]",
      "text/plain": [
       "<matplotlib.figure.Figure at 0x2157adf7e80>"
      ]
     },
     "metadata": {},
     "output_type": "display_data"
    }
   ],
   "source": [
    "def prepare(arr):\n",
    "    # prepare array to plot it the right way\n",
    "    return np.flipud(np.rot90(arr.reshape(28,-1),1))\n",
    "\n",
    "\n",
    "data = scipy.io.loadmat('69dataset2.mat')\n",
    "\n",
    "X = zscore(data['X'], axis = None) # normalize X\n",
    "Y = zscore(data['Y'], axis=None) #normalize Y\n",
    "X_prior = zscore(data['X_prior'], axis=None) #normalize X_prior\n",
    "\n",
    "\n",
    "# print all keys\n",
    "print('Keys in data:')\n",
    "for key in data:\n",
    "    print('  '+key)\n",
    "\n",
    "plt.figure(figsize=(18,6))\n",
    "tot = 10\n",
    "for i in range(tot):   \n",
    "    \n",
    "    #Plot 6\n",
    "    plt.subplot(2,tot,1+i)    \n",
    "    plt.imshow(prepare(X[i]), cmap='gray')\n",
    "    plt.xticks([])\n",
    "    plt.yticks([])\n",
    "    \n",
    "    #Plot 9\n",
    "    plt.subplot(2,tot,1+i+tot)  \n",
    "    plt.imshow(prepare(X[i+50]), cmap='gray')\n",
    "    plt.xticks([])\n",
    "    plt.yticks([])\n",
    "\n",
    "plt.show()\n",
    "\n",
    "\n",
    "X_training = np.concatenate((X[:40], X[50:90]))\n",
    "X_test = np.concatenate((X[40:50], X[90:]))\n",
    "\n",
    "Y_training = np.concatenate((Y[:40], Y[50:90]))\n",
    "Y_test = np.concatenate((Y[40:50], Y[90:]))\n",
    "\n"
   ]
  },
  {
   "cell_type": "markdown",
   "metadata": {
    "colab_type": "text",
    "id": "wVkO8xGCHe0z"
   },
   "source": [
    "##### Our goal is to solve the problem of reconstructing **x** from **y**. One possible approach to solve this problem is to use a *discriminative* model. Discriminative models predict **x** as a function of **y**. That is:\n",
    "\n",
    "**x** = f(**y**)\n",
    "\n",
    "We will assume that f is a linear function. That is:\n",
    "\n",
    "**x** = **B'** **y**\n",
    "\n",
    "f can be seen as a very simple linear neural network comprising one layer of weights (i.e., **B**). We can estimate **B** in close form with ridge regression. That is:\n",
    "\n",
    "**B** = inv(**Y**\\_training' **Y**\\_training + lambda **I**) **Y**\\_training' **X**\\_training\n",
    "\n",
    "where lambda is the regularization coefficient, **I** is the *q* x *q* identity matrix, and *q* is the number of voxels. Note that we can safely ignore the intercept since we normalized our data to have zero mean and unit variance."
   ]
  },
  {
   "cell_type": "markdown",
   "metadata": {
    "colab_type": "text",
    "id": "ewW8yODUIVbP"
   },
   "source": [
    "## Task 2  (15 points)\n",
    "\n",
    "* Estimate **B** on the training set. Tip: Normally, you should use cross validation to estimate lambda. For simplicity, you can assume that lambda = 10 ^ -6.\n",
    "* Reconstruct **x** from **y** in the test set.\n",
    "* Visualize the reconstructions."
   ]
  },
  {
   "cell_type": "code",
   "execution_count": 9,
   "metadata": {
    "colab": {},
    "colab_type": "code",
    "id": "DRxkSzGyH8Bh"
   },
   "outputs": [
    {
     "name": "stdout",
     "output_type": "stream",
     "text": [
      "(80, 3092)\n",
      "(20, 784)\n"
     ]
    },
    {
     "data": {
      "image/png": "[encoded data removed]",
      "text/plain": [
       "<matplotlib.figure.Figure at 0x2157ab064a8>"
      ]
     },
     "metadata": {},
     "output_type": "display_data"
    }
   ],
   "source": [
    "#Define q and lambda\n",
    "q = np.size(Y_training, 1)\n",
    "print(Y_training.shape)\n",
    "lamb = math.pow(10,-6)\n",
    "\n",
    "#Estimate B on the training set\n",
    "# use lstq\n",
    "B_temp = Y_training.T @ Y_training + lamb * np.identity(q)\n",
    "B = np.linalg.solve(B_temp, Y_training.T) @ X_training\n",
    "\n",
    "#Reconstruct x from y in the test set.\n",
    "X_reconstruct = np.matmul(Y_test, B)\n",
    "\n",
    "print(X_reconstruct.shape)\n",
    "#Visualize the reconstructions\n",
    "plt.figure(figsize=(18,6))\n",
    "tot = 10\n",
    "for i in range(tot):   \n",
    "    \n",
    "    #Plot x_test\n",
    "    plt.subplot(2,tot,1+i)    \n",
    "    plt.imshow(prepare(X_test[i]), cmap='gray')\n",
    "    \n",
    "    #Plot x_reconstruct\n",
    "    plt.subplot(2,tot,1+i+tot)  \n",
    "    plt.imshow(prepare(X_reconstruct[i]), cmap='gray')\n",
    "    \n",
    "plt.show()\n"
   ]
  },
  {
   "cell_type": "markdown",
   "metadata": {
    "colab_type": "text",
    "id": "LYLXZGJ4H8LP"
   },
   "source": [
    "Another possible approach to solve the problem of reconstructing **x** from **y** is to use a *generative* model and invert it with Bayes' rule. We reformulate the problem as finding the most probable **x** that could have caused **y**. That is:\n",
    "\n",
    "argmax_**x** P(**x** | **y**)\n",
    "\n",
    "where P(**x** | **y**) is called the posterior (probability of the stimulus being **x** if the observation is **y**). In other words, we have to define the posterior, estimate its parameters and find the argument that maximizes it, which will be the reconstruction of **x** from **y**. While, this may seem daunting, it actually has a simple solution. The posterior assigns a probability to an event by combining our observations and beliefs about it, and can be decomposed with Bayes' rule as the product of how likely our observations are given the event (probability of observing **y** if the stimulus is **x**) and how likely the event is independent of our observations (probability of the stimulus being **x**). That is:\n",
    "\n",
    "P(**x** | **y**) ~ P(**y** | **x**) * P(**x**)\n",
    "\n",
    "where P(**y** | **x**) is called the likelihood and P(x) is called the prior.\n",
    "\n",
    "We will assume that the likelihood and the prior are multivariate Gaussian distributions. A Gaussian is characterized by two parameters: a mean vector and a covariance matrix. In the case of the likelihood, the mean of the Gaussian is given by:\n",
    "\n",
    "**mu**\\_likelihood = **B'** **x**\n",
    "\n",
    "As before, we can estimate **B** in close form with ridge regression:\n",
    "\n",
    "**B** = inv(**X**\\_training' **X**\\_training + lambda **I**) **X**\\_training' **Y**\\_training\n",
    "\n",
    "where lambda is the regularization coefficient, I is the *p* x *p* identity matrix, and *p* is the number of pixels. The covariance matrix of the likelihood is given by:\n",
    "\n",
    "**Sigma**_likelihood = diag(E[||**y** - **B'** **x**|| ^ 2]). \n",
    "\n",
    "In the case of the prior, the mean of the Gaussian is given by:\n",
    "\n",
    "**mu**\\_prior = **0** (which is a vector of zeros)\n",
    "\n",
    "The covariance matrix of the prior is given by:\n",
    "\n",
    "**Sigma**\\_prior = **X**\\_prior' * **X**\\_prior / (n - 1)\n",
    "\n",
    "where n is the length of **X**\\_prior."
   ]
  },
  {
   "cell_type": "markdown",
   "metadata": {
    "colab_type": "text",
    "id": "ITe4_zh1JZn1"
   },
   "source": [
    "## Task 3 (20 points)\n",
    "\n",
    "* Estimate **B** on the training set. Tip: Normally, you should use cross-validation to estimate lambda and Sigma_likelihood. For simplicity, you can assume that lambda = 10 ^ -6 and Sigma_likelihood = 10 ^ -3 **I**.\n",
    "* Estimate **Sigma**\\_prior. Tip: Add 10 ^ -6 to the diagonal of Sigma_prior for regularization.\n",
    "* Visualize **Sigma**\\_prior. Can you explain what it shows?"
   ]
  },
  {
   "cell_type": "code",
   "execution_count": 10,
   "metadata": {
    "colab": {},
    "colab_type": "code",
    "id": "vePaLa1sJiFB"
   },
   "outputs": [
    {
     "name": "stdout",
     "output_type": "stream",
     "text": [
      "(80, 784)\n",
      "784\n",
      "(784, 784)\n"
     ]
    },
    {
     "data": {
      "image/png": "[encoded data removed]",
      "text/plain": [
       "<matplotlib.figure.Figure at 0x2157adf72b0>"
      ]
     },
     "metadata": {},
     "output_type": "display_data"
    }
   ],
   "source": [
    "#Define lamda, sigma and q\n",
    "p = np.size(X_training, 1)\n",
    "print(X_training.shape)\n",
    "print(p)\n",
    "lamb = math.pow(10,-6)\n",
    "sigma_like = math.pow(10, -3) * np.identity(p)\n",
    "\n",
    "\n",
    "\n",
    "#Estimate B on the training set\n",
    "#B = inv(X_training' X_training + lambda I) X_training' Y_training\n",
    "B_temp = X_training.T @ X_training + lamb * np.identity(p)\n",
    "B = np.linalg.solve(B_temp, X_training.T) @ Y_training\n",
    "\n",
    "#Estimate sigma_prior\n",
    "n = np.size(X_prior)\n",
    "sigma_prior = np.matmul(np.transpose(X_prior), X_prior) / (n-1)\n",
    "sigma_prior_reg = sigma_prior + lamb * np.identity(p)\n",
    "print(sigma_prior_reg.shape)\n",
    "\n",
    "plt.imshow(sigma_prior_reg)\n",
    "plt.show()\n",
    "\n",
    "#Explain what sigma_prior shows\n",
    "#TODO"
   ]
  },
  {
   "cell_type": "markdown",
   "metadata": {
    "colab_type": "text",
    "id": "6PMMnQfeJidL"
   },
   "source": [
    "Having defined the likelihood and the prior as Gaussians, we can derive the posterior by multiplying them. It turns out that the product of two Gaussians is another Gaussian, whose mean vector is given by:\n",
    "\n",
    "**mu**\\_posterior = inv(inv(**Sigma**\\_prior) + **B** inv(**Sigma**\\_likelihood) **B**') **B** * inv(**Sigma**\\_likelihood) **y**\n",
    "\n",
    "We are almost done. Recall that the reconstruction of **x** from **y** is the argument that maximizes the posterior, which we derived to be a Gaussian. We will be completely done once we answer the following question: What is the argument that maximizes a Gaussian?\n",
    "\n",
    ".  \n",
    ".  \n",
    ".  \n",
    ".  \n",
    ".  \n",
    ".\n",
    "\n",
    "The answer is its mean vector, which is the solution of our initial problem. That is:\n",
    "\n",
    "argmax_**x** P(**x** | **y**) =  \n",
    "**mu**\\_posterior =  \n",
    "inv(inv(**Sigma**\\_prior) + **B** inv(**Sigma**\\_likelihood) **B**') **B** * inv(**Sigma**\\_likelihood) **y**\n",
    "\n",
    "Now, we can plug any **y** in the above equation and reconstruct the most probable **x** that could have caused it.\n"
   ]
  },
  {
   "cell_type": "markdown",
   "metadata": {
    "colab_type": "text",
    "id": "TLn3_7q2J93x"
   },
   "source": [
    "## Task 4 (25 points)\n",
    "\n",
    "- Reconstruct **x** from **y** in the test set.\n",
    "- Visualize the reconstructions.\n",
    "- Compare the reconstructions with the earlier reconstructions. Which one is better? Why? Can you think of ways to improve the results?"
   ]
  },
  {
   "cell_type": "code",
   "execution_count": 11,
   "metadata": {
    "colab": {},
    "colab_type": "code",
    "id": "miP-WjfCKma7"
   },
   "outputs": [
    {
     "ename": "LinAlgError",
     "evalue": "Incompatible dimensions",
     "output_type": "error",
     "traceback": [
      "\u001b[1;31m---------------------------------------------------------------------------\u001b[0m",
      "\u001b[1;31mLinAlgError\u001b[0m                               Traceback (most recent call last)",
      "\u001b[1;32m<ipython-input-11-71e5c9d883e9>\u001b[0m in \u001b[0;36m<module>\u001b[1;34m()\u001b[0m\n\u001b[0;32m      6\u001b[0m \u001b[1;31m#X_test_reconstructed = np.matmul(np.transpose(np.matmul(np.matmul(X_test_reconstructed_temp, B).T, np.linalg.inv(sigma_like))), np.transpose(Y_test))\u001b[0m\u001b[1;33m\u001b[0m\u001b[1;33m\u001b[0m\u001b[0m\n\u001b[0;32m      7\u001b[0m \u001b[1;33m\u001b[0m\u001b[0m\n\u001b[1;32m----> 8\u001b[1;33m \u001b[0mX_test_reconstructed_tempo\u001b[0m \u001b[1;33m=\u001b[0m \u001b[0mnp\u001b[0m\u001b[1;33m.\u001b[0m\u001b[0mlinalg\u001b[0m\u001b[1;33m.\u001b[0m\u001b[0minv\u001b[0m\u001b[1;33m(\u001b[0m\u001b[0msigma_prior_reg\u001b[0m\u001b[1;33m)\u001b[0m \u001b[1;33m+\u001b[0m \u001b[0mnp\u001b[0m\u001b[1;33m.\u001b[0m\u001b[0mlinalg\u001b[0m\u001b[1;33m.\u001b[0m\u001b[0mlstsq\u001b[0m\u001b[1;33m(\u001b[0m\u001b[0mB\u001b[0m\u001b[1;33m.\u001b[0m\u001b[0mT\u001b[0m\u001b[1;33m,\u001b[0m \u001b[0msigma_like\u001b[0m\u001b[1;33m.\u001b[0m\u001b[0mT\u001b[0m\u001b[1;33m)\u001b[0m\u001b[1;33m[\u001b[0m\u001b[1;36m0\u001b[0m\u001b[1;33m]\u001b[0m\u001b[1;33m.\u001b[0m\u001b[0mT\u001b[0m \u001b[1;33m@\u001b[0m \u001b[0mB\u001b[0m\u001b[1;33m.\u001b[0m\u001b[0mT\u001b[0m\u001b[1;33m\u001b[0m\u001b[0m\n\u001b[0m\u001b[0;32m      9\u001b[0m \u001b[0mX_test_reconstructed_temp\u001b[0m \u001b[1;33m=\u001b[0m \u001b[0mnp\u001b[0m\u001b[1;33m.\u001b[0m\u001b[0mlinalg\u001b[0m\u001b[1;33m.\u001b[0m\u001b[0msolve\u001b[0m\u001b[1;33m(\u001b[0m\u001b[0mX_test_reconstructed_tempo\u001b[0m\u001b[1;33m,\u001b[0m \u001b[0mB\u001b[0m\u001b[1;33m)\u001b[0m\u001b[1;33m\u001b[0m\u001b[0m\n\u001b[0;32m     10\u001b[0m \u001b[0mX_test_reconstructed\u001b[0m \u001b[1;33m=\u001b[0m \u001b[0mnp\u001b[0m\u001b[1;33m.\u001b[0m\u001b[0mlinalg\u001b[0m\u001b[1;33m.\u001b[0m\u001b[0msolve\u001b[0m\u001b[1;33m(\u001b[0m\u001b[0mX_test_reconstructed_temp\u001b[0m\u001b[1;33m.\u001b[0m\u001b[0mT\u001b[0m\u001b[1;33m,\u001b[0m \u001b[0msigma_like\u001b[0m\u001b[1;33m.\u001b[0m\u001b[0mT\u001b[0m\u001b[1;33m)\u001b[0m\u001b[1;33m.\u001b[0m\u001b[0mT\u001b[0m \u001b[1;33m@\u001b[0m \u001b[0mY_test\u001b[0m\u001b[1;33m.\u001b[0m\u001b[0mT\u001b[0m\u001b[1;33m\u001b[0m\u001b[0m\n",
      "\u001b[1;32m~\\Anaconda3\\lib\\site-packages\\numpy\\linalg\\linalg.py\u001b[0m in \u001b[0;36mlstsq\u001b[1;34m(a, b, rcond)\u001b[0m\n\u001b[0;32m   1982\u001b[0m     \u001b[0mldb\u001b[0m \u001b[1;33m=\u001b[0m \u001b[0mmax\u001b[0m\u001b[1;33m(\u001b[0m\u001b[0mn\u001b[0m\u001b[1;33m,\u001b[0m \u001b[0mm\u001b[0m\u001b[1;33m)\u001b[0m\u001b[1;33m\u001b[0m\u001b[0m\n\u001b[0;32m   1983\u001b[0m     \u001b[1;32mif\u001b[0m \u001b[0mm\u001b[0m \u001b[1;33m!=\u001b[0m \u001b[0mb\u001b[0m\u001b[1;33m.\u001b[0m\u001b[0mshape\u001b[0m\u001b[1;33m[\u001b[0m\u001b[1;36m0\u001b[0m\u001b[1;33m]\u001b[0m\u001b[1;33m:\u001b[0m\u001b[1;33m\u001b[0m\u001b[0m\n\u001b[1;32m-> 1984\u001b[1;33m         \u001b[1;32mraise\u001b[0m \u001b[0mLinAlgError\u001b[0m\u001b[1;33m(\u001b[0m\u001b[1;34m'Incompatible dimensions'\u001b[0m\u001b[1;33m)\u001b[0m\u001b[1;33m\u001b[0m\u001b[0m\n\u001b[0m\u001b[0;32m   1985\u001b[0m \u001b[1;33m\u001b[0m\u001b[0m\n\u001b[0;32m   1986\u001b[0m     \u001b[0mt\u001b[0m\u001b[1;33m,\u001b[0m \u001b[0mresult_t\u001b[0m \u001b[1;33m=\u001b[0m \u001b[0m_commonType\u001b[0m\u001b[1;33m(\u001b[0m\u001b[0ma\u001b[0m\u001b[1;33m,\u001b[0m \u001b[0mb\u001b[0m\u001b[1;33m)\u001b[0m\u001b[1;33m\u001b[0m\u001b[0m\n",
      "\u001b[1;31mLinAlgError\u001b[0m: Incompatible dimensions"
     ]
    }
   ],
   "source": [
    "#Reconstruct x from y in the test set.\n",
    "#mu_posterior = inv(inv(Sigma_prior) + B inv(Sigma_likelihood) B') B inv(Sigma_likelihood) *y\n",
    "#had some problems with matrix dimensions here. Could not exactly do what is described above\n",
    "\n",
    "#X_test_reconstructed_temp = np.linalg.inv(np.linalg.inv(sigma_prior_reg) + np.matmul(np.matmul(np.linalg.inv(sigma_like), B), np.transpose(B)))\n",
    "#X_test_reconstructed = np.matmul(np.transpose(np.matmul(np.matmul(X_test_reconstructed_temp, B).T, np.linalg.inv(sigma_like))), np.transpose(Y_test))\n",
    "\n",
    "X_test_reconstructed_tempo = np.linalg.inv(sigma_prior_reg) + np.linalg.lstsq(B.T, sigma_like.T)[0].T @ B.T\n",
    "X_test_reconstructed_temp = np.linalg.solve(X_test_reconstructed_tempo, B)\n",
    "X_test_reconstructed = np.linalg.solve(X_test_reconstructed_temp.T, sigma_like.T).T @ Y_test.T\n",
    "X_test_reconstructed_trans = np.transpose(X_test_reconstructed)\n",
    "\n",
    "plt.figure(figsize=(18,6))\n",
    "tot = 10\n",
    "for i in range(tot):   \n",
    "    \n",
    "    #Plot x_test\n",
    "    plt.subplot(2,tot,1+i)    \n",
    "    plt.imshow(prepare(X_test[i]), cmap='gray')\n",
    "    \n",
    "    #Plot x_reconstruct\n",
    "    plt.subplot(2,tot,1+i+tot)  \n",
    "    plt.imshow(prepare(X_test_reconstructed_trans[i]), cmap='gray')\n",
    "    \n",
    "plt.show()"
   ]
  },
  {
   "cell_type": "markdown",
   "metadata": {
    "colab_type": "text",
    "id": "mQwBsKfdKzJc"
   },
   "source": [
    "Now the real fight begins! You might have already realized that the second approach is very similar to the one in the face reconstruction paper that we have discussed in the last lecture. The main difference is how the stimuli are encoded. So far, we have been encoding the stimuli with an identity transformation:\n",
    "\n",
    "**mu**\\_likelihood = **B'** g(**x**)\n",
    "\n",
    "where g(**x**) = **x**\n",
    "\n",
    "In the paper, they are encoded as the features extracted from a DNN:\n",
    "\n",
    "**mu**\\_likelihood = **B'** DNN(**x**)\n",
    "\n",
    "Similarly, we have been decoding the responses with MAP estimation of the stimuli:\n",
    "\n",
    "g ^ -1(argmax_g(**x**) P(g(**x**) | **y**))\n",
    "\n",
    "where g ^ -1(**y**) = **y**\n",
    "\n",
    "In the paper, they are decoded with MAP estimation of the features followed by an inverse DNN:\n",
    "\n",
    "DNN ^ -1(argmax_DNN(**x**) P(DNN(**x**) | **y**))"
   ]
  },
  {
   "cell_type": "markdown",
   "metadata": {
    "colab_type": "text",
    "id": "6prNNFgwN9jA"
   },
   "source": [
    "## Task 5 (30 points)\n",
    "\n",
    "- Train a simple DNN for digit classification on the MNIST dataset.\n",
    "- Select an indermediate layer of the DNN as your feature extractor.\n",
    "- Train another simple DNN to invert the first DNN. That is, it should transform features extracted by the selected layer of the first DNN to stimuli.\n",
    "- Repeat Task 3 but use the trained DNNs instead of identity transformation."
   ]
  },
  {
   "cell_type": "code",
   "execution_count": 11,
   "metadata": {
    "colab": {},
    "colab_type": "code",
    "id": "SssHo2EKPlSu"
   },
   "outputs": [
    {
     "name": "stdout",
     "output_type": "stream",
     "text": [
      "Encoder: 3\n",
      "Decoder: 3\n"
     ]
    }
   ],
   "source": [
    "dropout = .2 # global dropout rate\n",
    "\n",
    "class Decoder(chainer.ChainList):\n",
    "    def __init__(self, n_hlay, n_z, n_h, n_x): # <= you might want to pass some architecture parameters (e.g., #i/o units, etc.) here\n",
    "        \n",
    "        # Parameters:\n",
    "        #  n_hlay: number of hidden layers\n",
    "        #  n_z: dimension of latent space\n",
    "        #  n_h: dimension of hidden layers (if n_hlay>0)\n",
    "        #  n_x: dimension of x_out (=dimension of x_in)\n",
    "        \n",
    "        links=()\n",
    "        \n",
    "        if(n_hlay>0):\n",
    "            links += (L.Linear(n_z, n_h),)\n",
    "            for _ in range(n_hlay-1):\n",
    "                links += (L.Linear(n_h, n_h),)\n",
    "            n_z = n_h\n",
    "        \n",
    "        links += (L.Linear(n_z, n_x),)\n",
    "        \n",
    "        print('Decoder:', len(links))\n",
    "                \n",
    "        super(Decoder, self).__init__(*links)\n",
    "\n",
    "    def __call__(self, z):         \n",
    "        for layer in self[:-2]:\n",
    "            z = F.relu(layer(z))   \n",
    "            z = F.dropout(z, dropout)\n",
    "        z = self[-1](z)       \n",
    "        \n",
    "        return z\n",
    "\n",
    "class Encoder(chainer.ChainList):\n",
    "    def __init__(self, n_hlay, n_x, n_h, n_z):\n",
    "        # Parameters:\n",
    "        #  n_hlay: number of hidden layers\n",
    "        #  n_x: dimension of x_out (=dimension of x_in)\n",
    "        #  n_h: dimension of hidden layers (if n_hlay>0)\n",
    "        #  n_z: dimension of latent space\n",
    "\n",
    "        links=()\n",
    "        \n",
    "        if(n_hlay>0):\n",
    "            links += (L.Linear(n_x, n_h),)\n",
    "            for _ in range(n_hlay-1):\n",
    "                links += (L.Linear(n_h, n_h),)\n",
    "            n_x = n_h\n",
    "        \n",
    "        links += (L.Linear(n_x, n_z),)\n",
    "        \n",
    "        print('Encoder:', len(links))\n",
    "                \n",
    "        super(Encoder, self).__init__(*links)\n",
    "\n",
    "    def __call__(self, x):  \n",
    "        for layer in self[:-2]:\n",
    "            x = F.relu(layer(x))\n",
    "            x = F.dropout(x, dropout)\n",
    "        \n",
    "        x = self[-1](x)     \n",
    "        \n",
    "        return x\n",
    "    \n",
    "class Loss_encoder(object):\n",
    "    def __call__(self, y, t):\n",
    "        return softmax_cross_entropy(y,t)\n",
    "\n",
    "    \n",
    "class Loss_decoder(object):\n",
    "    def __call__(self, y, t):\n",
    "        return softmax_cross_entropy(y,t)\n",
    "    \n",
    "    \n",
    "class Mnist(DatasetMixin):\n",
    "    def __init__(self, start_proportion, end_proportion):\n",
    "        dataset = datasets.get_mnist(False)[0 if chainer.config.train else 1]\n",
    "        size = dataset.shape[0]\n",
    "        self.dataset = dataset[int(size*start_proportion):int(size*end_proportion),:]\n",
    "\n",
    "    def __len__(self):\n",
    "        return len(self.dataset)\n",
    "\n",
    "    def get_example(self, i):\n",
    "        return self.dataset[i]\n",
    "    \n",
    "class Optimizer():\n",
    "    def __init__(self, model, loss):\n",
    "        self.model = model\n",
    "        self.log = {'training':[], 'test':[]}   \n",
    "        self.optimizer = optimizers.Adam()\n",
    "        self.optimizer.setup(self.model)\n",
    "        self.loss = loss \n",
    "        \n",
    "    def test(self, x, t):\n",
    "        with chainer.using_config('train', False):\n",
    "            y = self.model(x)\n",
    "            err = self.loss(y, t)   \n",
    "            return float(err.data)\n",
    "    \n",
    "    def train(self, x, t):\n",
    "        err = self.loss(self.model(x), t) # Forward propagation \n",
    "        self.model.cleargrads()\n",
    "        err.backward() # backpropagation\n",
    "        self.optimizer.update() \n",
    "        return float(err.data)\n",
    "    \n",
    "    @classmethod\n",
    "    def load(cls, model, loss, directory):\n",
    "        self = cls(model)\n",
    "        self.log = np.load('{}/log.npy'.format(directory))\n",
    "        serializers.load_npz('{}/weights.npz'.format(directory), self.model)\n",
    "        serializers.load_npz('{}/optimizer.npz'.format(directory), self.optimizer)\n",
    "\n",
    "        return self\n",
    "\n",
    "    def save(self, directory):\n",
    "        np.save('{}/log.npy'.format(directory), self.log)\n",
    "        serializers.save_npz('{}/weights.npz'.format(directory), self.model)\n",
    "        serializers.save_npz('{}/optimizer.npz'.format(directory), self.optimizer)\n",
    "\n",
    "# model from scratch\n",
    "encoder = Encoder(2,784,500,20) # (n_hlay, n_x, n_h, n_z)\n",
    "decoder = Decoder(2,20,500,784) # (n_hlay, n_z, n_h, n_x)\n",
    "\n",
    "if gpu:\n",
    "    encoder.to_gpu()\n",
    "    decoder.to_gpu()\n",
    "    \n",
    "\n",
    "\n",
    "load = False\n",
    "if load:\n",
    "    optimizer_encoder = Optimizer.load(encoder, Loss_encoder(), \"./MNIST/Weights_0/15\")\n",
    "    optimizer_decoder = Optimizer.load(decoder, Loss_decoder(), \"./MNIST/Weights_0/15\")\n",
    "else:\n",
    "    optimizer_encoder = Optimizer(encoder, Loss_encoder())\n",
    "    optimizer_decoder = Optimizer(decoder, Loss_decoder())\n",
    "if gpu:\n",
    "    optimizer.model.to_gpu() \n",
    "\n",
    "epochs = 100\n",
    "batch_size = 100\n",
    "\n",
    "training_set = Mnist(0.,.8)\n",
    "validation_set = Mnist(.8,.9)\n",
    "test_set = Mnist(.9,1.)\n",
    "\n",
    "training_iterator = iterators.SerialIterator(training_set, batch_size, False, True)\n",
    "validation_iterator = iterators.SerialIterator(validation_set , batch_size, False, False)"
   ]
  },
  {
   "cell_type": "code",
   "execution_count": null,
   "metadata": {
    "collapsed": true
   },
   "outputs": [],
   "source": [
    "# Train encoder\n",
    "root = '.'\n",
    "i=-1\n",
    "path = '{}/Models'.format(root)\n",
    "if not os.path.isdir(path):\n",
    "    os.makedirs(path)\n",
    "while i==-1 or os.path.isdir(path):\n",
    "    i+=1\n",
    "    path = '{}/Encoder/Models/Weights_{}'.format(root, i)\n",
    "os.makedirs('{}/Encoder/Models/Weights_{}'.format(root, i))\n",
    "\n",
    "optimizer.log['training'] = []\n",
    "optimizer.log['test'] = []\n",
    "\n",
    "for epoch in tqdm.tnrange(epochs):\n",
    "    \n",
    "    training_iterator.reset()\n",
    "    test_iterator.reset()\n",
    "    \n",
    "    mean_loss = []\n",
    "    for j, batch in enumerate(training_iterator):\n",
    "        mean_loss.append(optimizer.train(np.array(batch)))\n",
    "    optimizer.log['training'] += [numpy.mean(mean_loss)]\n",
    "\n",
    "    mean_loss = []\n",
    "    for j, batch in enumerate(test_iterator):\n",
    "        mean_loss.append(optimizer.test(np.array(batch)))\n",
    "    optimizer.log['test'] += [numpy.mean(mean_loss)]\n",
    "    \n",
    "    IPython.display.clear_output()\n",
    "    \n",
    "    plt.figure(figsize=(18,6))\n",
    "    samples_toshow = 8\n",
    "    for i in range(samples_toshow):\n",
    "        plt.subplot(2,samples_toshow,1+i)\n",
    "        optimizer.test(np.array(batch), show=i)\n",
    "        plt.subplot(2,samples_toshow,1+samples_toshow+i)\n",
    "        plt.imshow(batch[i].reshape(28,-1), cmap='gray')\n",
    "    plt.title(\"Epoch \"+str(epoch+1))\n",
    "    plt.show()\n",
    "    \n",
    "    if False:\n",
    "        # store weights and loss\n",
    "        os.makedirs('{}/{}'.format(path, epoch))\n",
    "        optimizer.save('{}/{}'.format(path, epoch))\n",
    "    \n",
    "    plt.plot(range(epoch+1), optimizer.log['test'], label='test')\n",
    "    plt.plot(range(epoch+1), optimizer.log['training'], label='training')\n",
    "    plt.xlabel('iteration')\n",
    "    plt.ylabel('loss')\n",
    "    plt.legend()    \n",
    "    plt.show()"
   ]
  },
  {
   "cell_type": "code",
   "execution_count": null,
   "metadata": {
    "collapsed": true
   },
   "outputs": [],
   "source": [
    "# Train decoder\n",
    "\n",
    "root = '.'\n",
    "i=-1\n",
    "path = '{}/Models'.format(root)\n",
    "if not os.path.isdir(path):\n",
    "    os.makedirs(path)\n",
    "while i==-1 or os.path.isdir(path):\n",
    "    i+=1\n",
    "    path = '{}/Models/Weights_{}'.format(root, i)\n",
    "os.makedirs('{}/Models/Weights_{}'.format(root, i))\n",
    "\n",
    "optimizer.log['training'] = []\n",
    "optimizer.log['test'] = []\n",
    "\n",
    "for epoch in tqdm.tnrange(epochs):\n",
    "    \n",
    "    training_iterator.reset()\n",
    "    test_iterator.reset()\n",
    "    \n",
    "    mean_loss = []\n",
    "    for j, batch in enumerate(training_iterator):\n",
    "        mean_loss.append(optimizer.train(np.array(batch)))\n",
    "    optimizer.log['training'] += [numpy.mean(mean_loss)]\n",
    "\n",
    "    mean_loss = []\n",
    "    for j, batch in enumerate(test_iterator):\n",
    "        mean_loss.append(optimizer.test(np.array(batch)))\n",
    "    optimizer.log['test'] += [numpy.mean(mean_loss)]\n",
    "    \n",
    "    IPython.display.clear_output()\n",
    "    \n",
    "    plt.figure(figsize=(18,6))\n",
    "    samples_toshow = 8\n",
    "    for i in range(samples_toshow):\n",
    "        plt.subplot(2,samples_toshow,1+i)\n",
    "        optimizer.test(np.array(batch), show=i)\n",
    "        plt.subplot(2,samples_toshow,1+samples_toshow+i)\n",
    "        plt.imshow(batch[i].reshape(28,-1), cmap='gray')\n",
    "    plt.title(\"Epoch \"+str(epoch+1))\n",
    "    plt.show()\n",
    "    \n",
    "    if False:\n",
    "        # store weights and loss\n",
    "        os.makedirs('{}/{}'.format(path, epoch))\n",
    "        optimizer.save('{}/{}'.format(path, epoch))\n",
    "    \n",
    "    plt.plot(range(epoch+1), optimizer.log['test'], label='test')\n",
    "    plt.plot(range(epoch+1), optimizer.log['training'], label='training')\n",
    "    plt.xlabel('iteration')\n",
    "    plt.ylabel('loss')\n",
    "    plt.legend()    \n",
    "    plt.show()"
   ]
  }
 ],
 "metadata": {
  "colab": {
   "name": "assignment_5.ipynb",
   "provenance": [],
   "version": "0.3.2"
  },
  "kernelspec": {
   "display_name": "Python 3",
   "language": "python",
   "name": "python3"
  },
  "language_info": {
   "codemirror_mode": {
    "name": "ipython",
    "version": 3
   },
   "file_extension": ".py",
   "mimetype": "text/x-python",
   "name": "python",
   "nbconvert_exporter": "python",
   "pygments_lexer": "ipython3",
   "version": "3.6.6"
  }
 },
 "nbformat": 4,
 "nbformat_minor": 1
}
