{
 "cells": [
  {
   "cell_type": "markdown",
   "metadata": {
    "colab_type": "text",
    "id": "CGc6Y5_eKaPD"
   },
   "source": [
    "**SOW-MKI49: Neural Information Processing Systems**  \n",
    "*Weeks 4 and 5: Assignment (100 points + 20 bonus points)  \n",
    "Author: Luca and Umut"
   ]
  },
  {
   "cell_type": "code",
   "execution_count": 1,
   "metadata": {
    "colab": {},
    "colab_type": "code",
    "id": "cBlzrHdoKzvY"
   },
   "outputs": [],
   "source": [
    "# Group number: 24\n",
    "# Franka Buytenhuijs, s4356845\n",
    "# Hugo Chateau-Laurent, s1023970\n",
    "# Maria Tsfasman, s1021505"
   ]
  },
  {
   "cell_type": "code",
   "execution_count": 2,
   "metadata": {},
   "outputs": [],
   "source": [
    "gpu = True"
   ]
  },
  {
   "cell_type": "code",
   "execution_count": 3,
   "metadata": {
    "colab": {},
    "colab_type": "code",
    "id": "Gz0FZAwiJ-al"
   },
   "outputs": [],
   "source": [
    "from chainer import cuda, datasets, serializers, optimizers\n",
    "from chainer.dataset import DatasetMixin, concat_examples\n",
    "import chainer.iterators as iterators\n",
    "from chainer.iterators import MultithreadIterator\n",
    "\n",
    "import chainer\n",
    "import chainer.functions as F\n",
    "import chainer.links as L\n",
    "\n",
    "import matplotlib.pyplot as plt\n",
    "import numpy\n",
    "\n",
    "if gpu:\n",
    "    import cupy as np\n",
    "else:\n",
    "    import numpy as np\n",
    "    \n",
    "import tqdm\n",
    "import os\n",
    "import IPython\n",
    "from math import exp"
   ]
  },
  {
   "cell_type": "markdown",
   "metadata": {
    "colab_type": "text",
    "id": "ckO0T0SLAFf7"
   },
   "source": [
    "This is the decoder class. It transforms latents (features) to observables (images). It corresponds to p(x | z) in the context of variational inference (and the slides), where x is observables and y is latents.\n",
    "\n",
    "Task: (10 points)\n",
    "\n",
    "- Implement the decoder class for a variational autoencoder. Note that the decoder should output the Gaussian distribution parameters (mean and variance per pixel) of images rather than images themselves."
   ]
  },
  {
   "cell_type": "code",
   "execution_count": 4,
   "metadata": {
    "colab": {},
    "colab_type": "code",
    "id": "ew8VZCkl-FdE"
   },
   "outputs": [],
   "source": [
    "# define useful links for more convenient feedforward implementation\n",
    "\n",
    "class dropout(chainer.Link):\n",
    "    def __init__(self, ratio=.5):\n",
    "        super(dropout, self).__init__()\n",
    "        with self.init_scope():\n",
    "            self.ratio = ratio\n",
    "    def forward(self, x):\n",
    "        return F.dropout(x, self.ratio)\n",
    "    \n",
    "class activation(chainer.Link):\n",
    "    def __init__(self, function):\n",
    "        super(activation, self).__init__()\n",
    "        with self.init_scope():\n",
    "            self.function = function\n",
    "    def forward(self, x):\n",
    "        return self.function(x)\n",
    "\n",
    "class unpooling_2d(chainer.Link):\n",
    "    def __init__(self, ksize, outsize):\n",
    "        super(unpooling_2d, self).__init__()\n",
    "        with self.init_scope():\n",
    "            self.ksize = ksize\n",
    "            self.outsize = outsize\n",
    "    def forward(self, x):\n",
    "        return F.unpooling_2d(x, self.ksize, outsize=self.outsize)\n",
    "    \n",
    "class max_pooling_2d(chainer.Link):\n",
    "    def __init__(self, ksize):\n",
    "        super(max_pooling_2d, self).__init__()\n",
    "        with self.init_scope():\n",
    "            self.ksize = ksize\n",
    "    def forward(self, x):\n",
    "        return F.max_pooling_2d(x, self.ksize)\n",
    "    \n",
    "class reshape(chainer.Link):\n",
    "    def __init__(self, dim):\n",
    "        super(reshape, self).__init__()\n",
    "        with self.init_scope():\n",
    "            self.dim = dim\n",
    "    def forward(self, x):\n",
    "        shape = list(self.dim)\n",
    "        shape.insert(0, x.shape[0])\n",
    "        shape = tuple(shape)\n",
    "        return F.reshape(x, shape)\n",
    "    \n",
    "class BatchNormalization(chainer.Link):\n",
    "    def __init__(self, size, finetune):\n",
    "        super(BatchNormalization, self).__init__()\n",
    "        with self.init_scope():\n",
    "            self.finetune = finetune\n",
    "            self.bn = L.BatchNormalization(size)\n",
    "    def forward(self, x):\n",
    "        return self.bn(x, finetune=self.finetune)\n",
    "\n",
    "class Decoder(chainer.ChainList):\n",
    "    def __init__(self, n_z, n_x, x_channels, dropout_ratio=.5, activation_f='relu', architecture='cnn'): # <= you might want to pass some architecture parameters (e.g., #i/o units, etc.) here\n",
    "        \n",
    "        # Parameters:\n",
    "        #\n",
    "        # n_z: dimension of latent space\n",
    "        # n_x: dimension of x_out (=dimension of x_in)\n",
    "        \n",
    "        activation_f = {'relu': F.relu, 'sigmoid': F.sigmoid}[activation_f]\n",
    "        links=()\n",
    "        \n",
    "        if architecture == 'fully-connected':\n",
    "            \n",
    "            n_hlay=2\n",
    "            n_h=500\n",
    "            \n",
    "            if(n_hlay>0):\n",
    "                links += (L.Linear(n_z, n_h),)\n",
    "                links += (activation(activation_f),)\n",
    "                links += (dropout(dropout_ratio),)\n",
    "                for _ in range(n_hlay-1):\n",
    "                    links += (L.Linear(n_h, n_h),)\n",
    "                    links += (activation(activation_f),)\n",
    "                    links += (dropout(dropout_ratio),)\n",
    "                n_z = n_h\n",
    "                    \n",
    "        \n",
    "        \n",
    "        else:\n",
    "            links += (L.Linear(n_z,x_channels*64*24*24),)\n",
    "            links += (activation(activation_f),)\n",
    "            links += (dropout(dropout_ratio),)            \n",
    "            links += (reshape((64,24,24)),)\n",
    "            #links += (reshape((64,8,8)),)\n",
    "            #links += (L.Deconvolution2D(64,64,ksize=3, stride=3, nobias=True),) #unpooling\n",
    "            #links += (L.BatchNormalization(64),)\n",
    "            #links += (activation(activation_f),)\n",
    "\n",
    "            #links += (unpooling_2d(ksize=3, outsize=(24,24)),)\n",
    "            links += (L.Deconvolution2D(64, 32, ksize=3, nobias=True),)\n",
    "            links += (L.BatchNormalization(32),)\n",
    "            links += (activation(activation_f),)\n",
    "            \n",
    "            links += (L.Deconvolution2D(32, x_channels, ksize=3, nobias=True),) # mean\n",
    "            links += (L.BatchNormalization(x_channels),)\n",
    "\n",
    "            n_z = x_channels*n_x**2\n",
    "            \n",
    "        links += (L.Linear(n_z, n_x**2),) # mean\n",
    "        links += (activation(F.sigmoid),)\n",
    "        links += (dropout(dropout_ratio),)\n",
    "        \n",
    "        links += (L.Linear(n_z, n_x**2),) # variance\n",
    "        links += (activation(F.sigmoid),)\n",
    "        links += (dropout(dropout_ratio),)\n",
    "        \n",
    "        \n",
    "        super(Decoder, self).__init__(*links)\n",
    "\n",
    "    def __call__(self, z):         \n",
    "        for layer in self[:-6]:\n",
    "            try:\n",
    "                z = layer(z, finetune=True) \n",
    "            except TypeError:\n",
    "                z = layer(z)\n",
    "        \n",
    "        mean = z\n",
    "        var = z\n",
    "                  \n",
    "        for layer in self[-6:-3]:\n",
    "              mean = layer(mean)\n",
    "        for layer in self[-3:]:\n",
    "              var = layer(var)\n",
    "        \n",
    "        return mean,var"
   ]
  },
  {
   "cell_type": "markdown",
   "metadata": {
    "colab_type": "text",
    "id": "d36RjWO6AKqO"
   },
   "source": [
    "This is the encoder class. It transforms observables (images) to latents (features). It corresponds to q(z | x) in the context of variational inference (and the slides), where z is latents and x is observables.\n",
    "\n",
    "Task: (10 points)\n",
    "\n",
    "- Implement the encoder class for a variational autoencoder. Note that the encoder should output the Gaussian distribution parameters (mean and variance per feature) of features rather than features themselves."
   ]
  },
  {
   "cell_type": "code",
   "execution_count": 5,
   "metadata": {
    "colab": {},
    "colab_type": "code",
    "id": "V-5xcJAWAFIC"
   },
   "outputs": [],
   "source": [
    "class Encoder(chainer.ChainList):\n",
    "    def __init__(self, n_channels, n_x, n_z, dropout_ratio=.5, activation_f='relu', architecture='cnn'): # <= you might want to pass some architecture parameters (e.g., #i/o units, etc.) here\n",
    "        \n",
    "        # Parameters:\n",
    "        #\n",
    "        # n_z: dimension of latent space\n",
    "        # n_x: dimension of x_out (=dimension of x_in)\n",
    "        \n",
    "        activation_f = {'relu': F.relu, 'sigmoid': F.sigmoid}[activation_f]\n",
    "        \n",
    "        links=()\n",
    "        \n",
    "        if architecture == 'fully-connected':\n",
    "            \n",
    "            n_hlay=2\n",
    "            n_h=500\n",
    "            \n",
    "            if(n_hlay>0):\n",
    "                links += (L.Linear(n_x**2, n_h),)\n",
    "                links += (activation(activation_f),)\n",
    "                links += (dropout(dropout_ratio),)\n",
    "                for _ in range(n_hlay-1):\n",
    "                    links += (L.Linear(n_h, n_h),)\n",
    "                    links += (activation(activation_f),)\n",
    "                    links += (dropout(dropout_ratio),)\n",
    "                n_x = n_h\n",
    "        \n",
    "        else:\n",
    "            links += (reshape((n_channels,n_x,n_x)),)\n",
    "            links += (L.Convolution2D(n_channels, 32, ksize=3, nobias=True),)\n",
    "            links += (L.BatchNormalization(32),)\n",
    "            links += (activation(activation_f),)\n",
    "            links += (L.Convolution2D(32, 64, ksize=3, nobias=True),)\n",
    "            links += (L.BatchNormalization(64),)\n",
    "            links += (activation(activation_f),) \n",
    "            \n",
    "            links += (max_pooling_2d(3),)\n",
    "            \n",
    "            links += (reshape((-1,)),)\n",
    "            \n",
    "            n_x = n_channels*64*8*8\n",
    "            links += (L.Linear(n_x,n_x),)\n",
    "            links += (dropout(dropout_ratio),)\n",
    "                    \n",
    "        links += (L.Linear(n_x, n_z),) # mean\n",
    "        links += (activation(F.sigmoid),)\n",
    "        links += (dropout(dropout_ratio),)\n",
    "                  \n",
    "        links += (L.Linear(n_x, n_z),) # variance\n",
    "        links += (activation(F.sigmoid),)\n",
    "        links += (dropout(dropout_ratio),)\n",
    "                  \n",
    "                        \n",
    "        super(Encoder, self).__init__(*links)\n",
    "\n",
    "    def __call__(self, x):         \n",
    "        for layer in self[:-6]:\n",
    "            try:\n",
    "                x = layer(x, finetune=True) \n",
    "            except TypeError:\n",
    "                x = layer(x)\n",
    "                \n",
    "        \n",
    "        mean = x\n",
    "        var = x\n",
    "                  \n",
    "        for layer in self[-6:-3]:\n",
    "              mean = layer(mean)\n",
    "        for layer in self[-3:]:\n",
    "              var = layer(var)\n",
    "        \n",
    "        return mean,var"
   ]
  },
  {
   "cell_type": "markdown",
   "metadata": {
    "colab_type": "text",
    "id": "8ch2iPFbBWVu"
   },
   "source": [
    "This is the loss class. The loss of encoder and decoder of a variational autoencoder is the evidence lower bound as follows:\n",
    "\n",
    "$L = D_{KL}(q(z | x), p(z)) -  E_{z\\sim q}[log p(x | z)]$\n",
    "\n",
    "The first term above is the KL divergence between the approximate posterior (q) and the prior (p), which can be interpreted as a form of regularization. You can assume that the prior is unit Gaussian. It can be implemented with the F.gaussian_kl_divergence function in Chainer.\n",
    "\n",
    "The second term above is the Gaussian negative log likelihood. This is the term that fits the data, which is very similar to the usual loss functions that you use in deep learning. It can be implemented with the F.gaussian_nll function in Chainer.\n",
    "\n",
    "Task: \n",
    "\n",
    "- Implement the loss class. (10 points)\n",
    "\n",
    "As input, it gets the following arguments:\n",
    "\n",
    "mean_y => mean of the encoded features (output of the encoder)  \n",
    "ln_var_y => log variance of the encoded features (output of the encoder)  \n",
    "x => input images (mini batch)  \n",
    "mean_x => mean of the decoded images (output of the decoder)  \n",
    "ln_var_x => mean of the decoded images (output of the decoder)  \n",
    "\n",
    "As output, it gives the loss.\n",
    "\n",
    "- Explain why we use log variance instead of variance. (5 points)\n",
    "\n",
    "    <span style=\"color:blue\">https://stats.stackexchange.com/questions/353220/why-in-variational-auto-encoder-gaussian-variational-family-we-model-log-sig</span>\n",
    "    "
   ]
  },
  {
   "cell_type": "code",
   "execution_count": 6,
   "metadata": {
    "colab": {},
    "colab_type": "code",
    "id": "iN6gKfG9BWfC"
   },
   "outputs": [],
   "source": [
    "class Loss(object):\n",
    "    def __call__(self, mean_z, ln_var_z, x, mean_x, ln_var_x):\n",
    "        loss = F.gaussian_kl_divergence(mean_z, ln_var_z) + F.gaussian_nll(x, mean_x, ln_var_x)\n",
    "        return loss"
   ]
  },
  {
   "cell_type": "markdown",
   "metadata": {
    "colab_type": "text",
    "id": "wuS4ynBqBYt9"
   },
   "source": [
    "This is the model class. It combines the encoder and the decoder.\n",
    "\n",
    "Task: (20 points)\n",
    "\n",
    "- Implement the reparameterziation trick for sampling latents. (10 points)\n",
    "- Explain why we need to use this trick. (10 points)\n",
    "\n",
    "    <span style=\"color:blue\">As drawing a sample from a normal distribution is a stochastic process, you cannot backpropagate through it. The trick is to separate the parameters you want to optimize from the random process.</span>"
   ]
  },
  {
   "cell_type": "code",
   "execution_count": 7,
   "metadata": {
    "colab": {},
    "colab_type": "code",
    "id": "kTLyWlw2BY3H"
   },
   "outputs": [],
   "source": [
    "class Model(chainer.Chain):\n",
    "    def __init__(self, decoder, encoder):\n",
    "        super(Model, self).__init__()\n",
    "\n",
    "        with self.init_scope():\n",
    "            self.decoder = decoder\n",
    "            self.encoder = encoder\n",
    "\n",
    "    def __call__(self, x):\n",
    "        ln_var_z, mean_z = self.encoder(x)\n",
    "                \n",
    "        z = F.gaussian(mean_z, ln_var_z) # no need to use reparametrization here, otherwise:\n",
    "        #z = np.random.normal()*exp(ln_var_z**1./2)+mean_z\n",
    "        \n",
    "        ln_var_x, mean_x = self.decoder(z)\n",
    "\n",
    "        return mean_z, ln_var_z, x, mean_x, ln_var_x\n",
    "    "
   ]
  },
  {
   "cell_type": "code",
   "execution_count": 8,
   "metadata": {
    "colab": {},
    "colab_type": "code",
    "id": "12AV4tiBHo0W"
   },
   "outputs": [],
   "source": [
    "class Mnist(DatasetMixin):\n",
    "    def __init__(self):\n",
    "        self.dataset = datasets.get_mnist(False)[0 if chainer.config.train else 1]\n",
    "\n",
    "    def __len__(self):\n",
    "        return len(self.dataset)\n",
    "\n",
    "    def get_example(self, i):\n",
    "        return self.dataset[i]"
   ]
  },
  {
   "cell_type": "markdown",
   "metadata": {
    "colab_type": "text",
    "id": "6UYXDr2-HrrA"
   },
   "source": [
    "This is a helper class to use the Mnist dataset."
   ]
  },
  {
   "cell_type": "markdown",
   "metadata": {
    "colab_type": "text",
    "id": "tC5HdWquIw7B"
   },
   "source": [
    "Task: (50 points)\n",
    "\n",
    "- Train the above defined variational autoencoder on the Mnist dataset. You can refer to the earlier assignments to implement your training loop. (25 points)\n",
    "\n",
    "- How good are the samples? Randomy sample some digits and visualize them. (10 points)\n",
    "\n",
    "- How good are the reconstructions? Draw an Mnist like digit, encode it, decode it and visualize the digits. How different is the reconstruction from the original. (10 points)\n",
    "\n",
    "- Repeat the last task but by drawing something other than a digit (e.g., a face). How accuracte is the reconstructions? Explain the results. (5 points)"
   ]
  },
  {
   "cell_type": "code",
   "execution_count": 9,
   "metadata": {},
   "outputs": [
    {
     "name": "stdout",
     "output_type": "stream",
     "text": [
      "<chainer.links.normalization.batch_normalization.BatchNormalization object at 0x7f66bfdcc550>\n",
      "<chainer.links.normalization.batch_normalization.BatchNormalization object at 0x7f66bfdcc978>\n",
      "<chainer.links.normalization.batch_normalization.BatchNormalization object at 0x7f66bfda8f60>\n",
      "<chainer.links.normalization.batch_normalization.BatchNormalization object at 0x7f66bfd9e470>\n"
     ]
    }
   ],
   "source": [
    "class Optimizer():\n",
    "    def __init__(self, model):\n",
    "        self.model = model\n",
    "        self.log = {'training':[], 'test':[]}   \n",
    "        self.optimizer = optimizers.Adam()\n",
    "        self.optimizer.setup(self.model)\n",
    "        self.loss = Loss()\n",
    "        \n",
    "    def test(self, x, show=False):\n",
    "        with chainer.using_config('train', False):\n",
    "            mean_z, ln_var_z, x, mean_x, ln_var_x = self.model(x)\n",
    "            if show:\n",
    "                toshow = mean_x.data[0].reshape(28,-1)\n",
    "                if gpu:\n",
    "                    toshow = np.asnumpy(toshow)\n",
    "                print(toshow.shape)\n",
    "                plt.imshow(toshow, cmap='gray')\n",
    "                plt.show()\n",
    "            err = self.loss(mean_z, ln_var_z, x, mean_x, ln_var_x)   \n",
    "            return float(err.data)\n",
    "    \n",
    "    def train(self, x):\n",
    "        err = self.loss(*self.model(x)) # Forward propagation \n",
    "        self.model.cleargrads()\n",
    "        err.backward() # backpropagation\n",
    "        self.optimizer.update() \n",
    "        return float(err.data)\n",
    "    \n",
    "    @classmethod\n",
    "    def load(cls, directory):\n",
    "        self = cls()\n",
    "        self.log = np.load('{}/log.npy'.format(directory))\n",
    "        serializers.load_npz('{}/weights.npz'.format(directory), self.model)\n",
    "        serializers.load_npz('{}/optimizer.npz'.format(directory), self.optimizer)\n",
    "\n",
    "        return self\n",
    "\n",
    "    def save(self, directory):\n",
    "        np.save('{}/log.npy'.format(directory), self.log)\n",
    "        serializers.save_npz('{}/weights.npz'.format(directory), self.model)\n",
    "        serializers.save_npz('{}/optimizer.npz'.format(directory), self.optimizer)\n",
    "\n",
    "load = False\n",
    "# model from scratch\n",
    "encoder = Encoder(1,28,20, architecture='cnn') \n",
    "decoder = Decoder(20,28,1, architecture='cnn') \n",
    "vae = Model(decoder, encoder)\n",
    "\n",
    "if gpu:\n",
    "    vae.to_gpu()\n",
    "    for subnet in vae.children():\n",
    "        for layer in subnet.children():\n",
    "            if \"BatchNormalization\" in str(layer):\n",
    "                print(str(layer))\n",
    "                layer.to_gpu()\n",
    "optimizer = Optimizer(vae)   \n",
    "\n",
    "if load:\n",
    "    optimizer.load(\"./Models/100\")\n",
    "if gpu:\n",
    "    optimizer.model.to_gpu()\n",
    "    \n",
    "\n",
    "epochs = 100\n",
    "batch_size = 10\n",
    "\n",
    "training_set = Mnist()\n",
    "test_set = Mnist()\n",
    "training_iterator = iterators.SerialIterator(training_set, batch_size, False, True)\n",
    "test_iterator = iterators.SerialIterator(test_set , batch_size, False, False)\n"
   ]
  },
  {
   "cell_type": "code",
   "execution_count": 10,
   "metadata": {
    "colab": {},
    "colab_type": "code",
    "id": "I34eP98AIV-j"
   },
   "outputs": [
    {
     "name": "stdout",
     "output_type": "stream",
     "text": [
      "(784,)\n",
      "(28, 28)\n"
     ]
    },
    {
     "data": {
      "image/png": "[encoded data removed]",
      "text/plain": [
       "<matplotlib.figure.Figure at 0x7f66be394518>"
      ]
     },
     "metadata": {},
     "output_type": "display_data"
    },
    {
     "data": {
      "image/png": "[encoded data removed]",
      "text/plain": [
       "<matplotlib.figure.Figure at 0x7f66be497ef0>"
      ]
     },
     "metadata": {},
     "output_type": "display_data"
    },
    {
     "name": "stdout",
     "output_type": "stream",
     "text": [
      "[7519.825184570313, 7509.435048177083, 7504.125419189453, 7499.374203287761, 7503.575080159505, 7498.733091227214, 7493.719092529297, 7494.2968260904945, 7499.199319254557, 7500.969124511719, 7494.356125651042, 7497.465357991537, 7499.62893375651, 7494.476044433593, 7493.031547932943, 7491.4366584472655, 7491.187110026041, 7493.683344726563, 7494.079862548828, 7494.82167211914, 7493.850789306641, 7492.809384277344, 7495.350994628906, 7496.790365804037, 7495.998407958984, 7493.902551106771, 7499.060701741537, 7494.040598470052, 7495.793869059245, 7495.199681722005, 7497.717241129557, 7497.186452880859, 7493.48422273763, 7494.17271875, 7495.299533284505, 7496.408103108724, 7494.966951497396, 7501.385109781901, 7495.080021402995, 7495.385649007161, 7497.848152587891, 7503.190069580078, 7496.244324544271, 7497.957881998698, 7501.267923909505, 7497.509636149089, 7503.419017822265, 7500.528316975911, 7506.573378499349, 7506.677180094401, 7506.233674560547, 7504.970512858073, 7503.865668538411, 7504.6318540039065, 7504.556908935547, 7508.142598144531, 7509.224865478515, 7505.407502685547, 7507.630854573567, 7506.054738688151, 7507.409419352213, 7509.490049479166, 7509.204261962891, 7507.768112141927, 7508.112610270182, 7509.296889648437, 7508.886806966146, 7509.678788574219, 7510.055518961589, 7511.239931640625, 7510.336114664714, 7510.879989013672, 7511.954014729818, 7512.066677734375, 7513.118746419271, 7513.650731445313, 7513.705482340495, 7514.918199625651, 7510.47191813151, 7510.6214893391925, 7511.792345540364, 7512.176061116536, 7513.872868733724, 7512.905810139974, 7512.819903157552, 7513.468073730469, 7515.129805501302, 7514.637957763672, 7515.152552164714, 7515.878073893229, 7516.558802734375, 7517.153409830729, 7517.985309895834, 7518.019103434245, 7518.887216471354, 7519.521477213541, 7519.360763509115, 7520.310618164062, 7520.354955810547, 7520.702276529948]\n",
      "[7584.319300455729, 7576.891674804688, 7576.391260253907, 7576.29193359375, 7583.527017903646, 7582.539073649088, 7577.2262473958335, 7577.098772054036, 7577.161907714843, 7577.029111572266, 7577.118059407552, 7577.093575602214, 7577.00052758789, 7577.0740302734375, 7577.086394287109, 7577.0861867675785, 7577.037019124349, 7577.040967529297, 7577.032290527343, 7576.91618725586, 7576.925442789713, 7576.9815106608075, 7576.99841015625, 7577.134710611979, 7576.985578776042, 7577.066268880209, 7576.972536295573, 7577.004487548828, 7577.012115885416, 7577.086539876302, 7577.099626139323, 7577.057936930339, 7577.108219156901, 7576.975444417318, 7576.923575846354, 7576.885368896485, 7577.169289957682, 7577.016015055338, 7577.0519304199215, 7577.004789794922, 7576.9622899576825, 7577.051711181641, 7577.037044433594, 7577.111858235677, 7576.98052335612, 7577.027370605469, 7577.0474392089845, 7577.02464827474, 7580.860348063151, 7587.084294596354, 7586.977950683594, 7587.0183151041665, 7587.128739257812, 7586.992802001953, 7587.0975861816405, 7586.8552682291665, 7587.115140950521, 7587.054072672526, 7586.891649983724, 7587.178307210286, 7586.969056070963, 7587.021176269532, 7587.021091227213, 7587.072892740885, 7587.067742838542, 7586.999856119792, 7586.905757568359, 7586.985689046224, 7586.865302246094, 7586.894236572266, 7587.000957519531, 7586.872670491536, 7587.009856770834, 7587.079516031901, 7586.966628743489, 7586.955525960287, 7586.802690999349, 7586.70753873698, 7580.274907958984, 7576.8970162760415, 7576.87494124349, 7576.952798828125, 7577.082319173177, 7576.945766031901, 7576.785267659505, 7577.074104410807, 7576.983828938802, 7576.891441569011, 7576.992995605468, 7577.009682535807, 7576.868141113281, 7576.8866357421875, 7576.940346435547, 7576.905621582031, 7576.830507080078, 7576.951663899739, 7576.715098632812, 7576.82412524414, 7576.864478352864, 7576.817559000651]\n"
     ]
    },
    {
     "data": {
      "image/png": "[encoded data removed]",
      "text/plain": [
       "<matplotlib.figure.Figure at 0x7f66be44a978>"
      ]
     },
     "metadata": {},
     "output_type": "display_data"
    },
    {
     "name": "stdout",
     "output_type": "stream",
     "text": [
      "\n"
     ]
    }
   ],
   "source": [
    "# Create new folder to avoid FileExistsError\n",
    "root = '.'\n",
    "i=-1\n",
    "path = '{}/Models'.format(root)\n",
    "if not os.path.isdir(path):\n",
    "    os.makedirs(path)\n",
    "while i==-1 or os.path.isdir(path):\n",
    "    i+=1\n",
    "    path = '{}/Models/Weights_{}'.format(root, i)\n",
    "os.makedirs('{}/Models/Weights_{}'.format(root, i))\n",
    "\n",
    "optimizer.log['training'] = []\n",
    "optimizer.log['test'] = []\n",
    "\n",
    "for epoch in tqdm.tnrange(epochs):\n",
    "    \n",
    "    training_iterator.reset()\n",
    "    test_iterator.reset()\n",
    "    \n",
    "    mean_loss = []\n",
    "    for j, batch in enumerate(training_iterator):\n",
    "        mean_loss.append(optimizer.train(np.array(batch)))\n",
    "    optimizer.log['training'] += [numpy.mean(mean_loss)]\n",
    "\n",
    "    mean_loss = []\n",
    "    for j, batch in enumerate(test_iterator):\n",
    "        mean_loss.append(optimizer.test(np.array(batch)))\n",
    "    optimizer.log['test'] += [numpy.mean(mean_loss)]\n",
    "    \n",
    "    IPython.display.clear_output()\n",
    "    \n",
    "    sample = np.asarray(test_set.get_example(0))\n",
    "    print(sample.shape)\n",
    "    optimizer.test(sample.reshape(1,-1), show=True)\n",
    "    if gpu:\n",
    "        sample = np.asnumpy(sample)\n",
    "    plt.imshow(sample.reshape(28,-1), cmap='gray')\n",
    "    plt.show()\n",
    "    \n",
    "    if epoch%25==0: # store weights and loss\n",
    "        os.makedirs('{}/{}'.format(path, epoch))\n",
    "        optimizer.save('{}/{}'.format(path, epoch))\n",
    "    \n",
    "    print(optimizer.log['test'])\n",
    "    print(optimizer.log['training'])\n",
    "    \n",
    "    plt.plot(range(epoch+1), optimizer.log['test'], label='test')\n",
    "    plt.plot(range(epoch+1), optimizer.log['training'], label='training')\n",
    "    plt.xlabel('iteration')\n",
    "    plt.ylabel('loss')\n",
    "    plt.legend()    \n",
    "    plt.show()"
   ]
  },
  {
   "cell_type": "markdown",
   "metadata": {
    "colab_type": "text",
    "id": "EzCbq-7SKmBW"
   },
   "source": [
    "Bonus task: Try the same experiments on a different dataset. (20 bonus points)"
   ]
  },
  {
   "cell_type": "code",
   "execution_count": null,
   "metadata": {},
   "outputs": [],
   "source": []
  },
  {
   "cell_type": "code",
   "execution_count": null,
   "metadata": {},
   "outputs": [],
   "source": []
  }
 ],
 "metadata": {
  "colab": {
   "collapsed_sections": [],
   "name": "weeks_6_and_7",
   "provenance": [],
   "version": "0.3.2"
  },
  "kernelspec": {
   "display_name": "Python 3",
   "language": "python",
   "name": "python3"
  },
  "language_info": {
   "codemirror_mode": {
    "name": "ipython",
    "version": 3
   },
   "file_extension": ".py",
   "mimetype": "text/x-python",
   "name": "python",
   "nbconvert_exporter": "python",
   "pygments_lexer": "ipython3",
   "version": "3.5.2"
  }
 },
 "nbformat": 4,
 "nbformat_minor": 1
}
