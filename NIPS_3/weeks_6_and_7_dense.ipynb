{
 "cells": [
  {
   "cell_type": "markdown",
   "metadata": {
    "colab_type": "text",
    "id": "CGc6Y5_eKaPD"
   },
   "source": [
    "**SOW-MKI49: Neural Information Processing Systems**  \n",
    "*Weeks 4 and 5: Assignment (100 points + 20 bonus points)  \n",
    "Author: Luca and Umut"
   ]
  },
  {
   "cell_type": "code",
   "execution_count": 1,
   "metadata": {
    "colab": {},
    "colab_type": "code",
    "id": "cBlzrHdoKzvY"
   },
   "outputs": [],
   "source": [
    "# Group number: 24\n",
    "# Franka Buytenhuijs, s4356845\n",
    "# Hugo Chateau-Laurent, s1023970\n",
    "# Maria Tsfasman, s1021505"
   ]
  },
  {
   "cell_type": "code",
   "execution_count": 2,
   "metadata": {},
   "outputs": [],
   "source": [
    "gpu = False"
   ]
  },
  {
   "cell_type": "code",
   "execution_count": 9,
   "metadata": {
    "colab": {},
    "colab_type": "code",
    "id": "Gz0FZAwiJ-al"
   },
   "outputs": [],
   "source": [
    "from chainer import cuda, datasets, serializers, optimizers\n",
    "from chainer.dataset import DatasetMixin, concat_examples\n",
    "import chainer.iterators as iterators\n",
    "from chainer.iterators import MultithreadIterator\n",
    "\n",
    "import chainer\n",
    "import chainer.functions as F\n",
    "import chainer.links as L\n",
    "\n",
    "import matplotlib.pyplot as plt\n",
    "import numpy\n",
    "\n",
    "import numpy as np\n",
    "    \n",
    "import tqdm\n",
    "import os\n",
    "import IPython"
   ]
  },
  {
   "cell_type": "code",
   "execution_count": 8,
   "metadata": {},
   "outputs": [
    {
     "name": "stdout",
     "output_type": "stream",
     "text": [
      "Collecting tqdm\n",
      "\u001b[?25l  Downloading https://files.pythonhosted.org/packages/91/55/8cb23a97301b177e9c8e3226dba45bb454411de2cbd25746763267f226c2/tqdm-4.28.1-py2.py3-none-any.whl (45kB)\n",
      "\u001b[K    100% |████████████████████████████████| 51kB 2.5MB/s ta 0:00:011\n",
      "\u001b[31mdistributed 1.21.8 requires msgpack, which is not installed.\u001b[0m\n",
      "\u001b[?25hInstalling collected packages: tqdm\n",
      "Successfully installed tqdm-4.28.1\n",
      "\u001b[33mYou are using pip version 10.0.1, however version 18.1 is available.\n",
      "You should consider upgrading via the 'pip install --upgrade pip' command.\u001b[0m\n"
     ]
    }
   ],
   "source": [
    "#!pip install tqdm"
   ]
  },
  {
   "cell_type": "markdown",
   "metadata": {
    "colab_type": "text",
    "id": "ckO0T0SLAFf7"
   },
   "source": [
    "This is the decoder class. It transforms latents (features) to observables (images). It corresponds to p(x | z) in the context of variational inference (and the slides), where x is observables and y is latents.\n",
    "\n",
    "Task: (10 points)\n",
    "\n",
    "- Implement the decoder class for a variational autoencoder. Note that the decoder should output the Gaussian distribution parameters (mean and variance per pixel) of images rather than images themselves."
   ]
  },
  {
   "cell_type": "code",
   "execution_count": 10,
   "metadata": {
    "colab": {},
    "colab_type": "code",
    "id": "ew8VZCkl-FdE"
   },
   "outputs": [],
   "source": [
    "class Decoder(chainer.ChainList):\n",
    "    def __init__(self, n_hlay, n_z, n_h, n_x): # <= you might want to pass some architecture parameters (e.g., #i/o units, etc.) here\n",
    "        \n",
    "        # Parameters:\n",
    "        #  n_hlay: number of hidden layers\n",
    "        #  n_z: dimension of latent space\n",
    "        #  n_h: dimension of hidden layers (if n_hlay>0)\n",
    "        #  n_x: dimension of x_out (=dimension of x_in)\n",
    "        \n",
    "        links=()\n",
    "        \n",
    "        if(n_hlay>0):\n",
    "            links += (L.Linear(n_z, n_h),)\n",
    "            for _ in range(n_hlay-1):\n",
    "                links += (L.Linear(n_h, n_h),)\n",
    "            n_z = n_h\n",
    "        \n",
    "        links += (L.Linear(n_z, n_x),) # mean\n",
    "        links += (L.Linear(n_z, n_x),) # variance\n",
    "        \n",
    "        print('Decoder:', len(links))\n",
    "                \n",
    "        super(Decoder, self).__init__(*links)\n",
    "\n",
    "    def __call__(self, z):         \n",
    "        for layer in self[:-2]:\n",
    "            z = F.relu(layer(z))       \n",
    "        mean = F.relu(self[-2](z))\n",
    "        var = F.relu(self[-1](z))\n",
    "        \n",
    "        \n",
    "        return mean, var\n"
   ]
  },
  {
   "cell_type": "markdown",
   "metadata": {
    "colab_type": "text",
    "id": "d36RjWO6AKqO"
   },
   "source": [
    "This is the encoder class. It transforms observables (images) to latents (features). It corresponds to q(z | x) in the context of variational inference (and the slides), where z is latents and x is observables.\n",
    "\n",
    "Task: (10 points)\n",
    "\n",
    "- Implement the encoder class for a variational autoencoder. Note that the encoder should output the Gaussian distribution parameters (mean and variance per feature) of features rather than features themselves."
   ]
  },
  {
   "cell_type": "code",
   "execution_count": 11,
   "metadata": {
    "colab": {},
    "colab_type": "code",
    "id": "V-5xcJAWAFIC"
   },
   "outputs": [],
   "source": [
    "class Encoder(chainer.ChainList):\n",
    "    def __init__(self, n_hlay, n_x, n_h, n_z): # <= you might want to pass some architecture parameters (e.g., #i/o units, etc.) here\n",
    "        \n",
    "        # Parameters:\n",
    "        #  n_hlay: number of hidden layers\n",
    "        #  n_x: dimension of x_out (=dimension of x_in)\n",
    "        #  n_h: dimension of hidden layers (if n_hlay>0)\n",
    "        #  n_z: dimension of latent space\n",
    "\n",
    "        links=()\n",
    "        \n",
    "        if(n_hlay>0):\n",
    "            links += (L.Linear(n_x, n_h),)\n",
    "            for _ in range(n_hlay-1):\n",
    "                links += (L.Linear(n_h, n_h),)\n",
    "            n_x = n_h\n",
    "        \n",
    "        links += (L.Linear(n_x, n_z),) # mean\n",
    "        links += (L.Linear(n_x, n_z),) # variance\n",
    "        \n",
    "        print('Encoder:', len(links))\n",
    "                \n",
    "        super(Encoder, self).__init__(*links)\n",
    "\n",
    "    def __call__(self, x):  \n",
    "        for layer in self[:-2]:\n",
    "            x = F.relu(layer(x))       \n",
    "        mean = F.relu(self[-2](x))\n",
    "        var = F.relu(self[-1](x))\n",
    "        \n",
    "        \n",
    "        return mean, var\n"
   ]
  },
  {
   "cell_type": "markdown",
   "metadata": {
    "colab_type": "text",
    "id": "8ch2iPFbBWVu"
   },
   "source": [
    "This is the loss class. The loss of encoder and decoder of a variational autoencoder is the evidence lower bound as follows:\n",
    "\n",
    "$L = D_{KL}(q(z | x), p(z)) -  E_{z\\sim q}[log p(x | z)]$\n",
    "\n",
    "The first term above is the KL divergence between the approximate posterior (q) and the prior (p), which can be interpreted as a form of regularization. You can assume that the prior is unit Gaussian. It can be implemented with the F.gaussian_kl_divergence function in Chainer.\n",
    "\n",
    "The second term above is the Gaussian negative log likelihood. This is the term that fits the data, which is very similar to the usual loss functions that you use in deep learning. It can be implemented with the F.gaussian_nll function in Chainer.\n",
    "\n",
    "Task: \n",
    "\n",
    "- Implement the loss class. (10 points)\n",
    "\n",
    "As input, it gets the following arguments:\n",
    "\n",
    "mean_y => mean of the encoded features (output of the encoder)  \n",
    "ln_var_y => log variance of the encoded features (output of the encoder)  \n",
    "x => input images (mini batch)  \n",
    "mean_x => mean of the decoded images (output of the decoder)  \n",
    "ln_var_x => mean of the decoded images (output of the decoder)  \n",
    "\n",
    "As output, it gives the loss.\n",
    "\n",
    "- Explain why we use log variance instead of variance. (5 points)\n",
    "\n",
    "    <span style=\"color:blue\">https://stats.stackexchange.com/questions/353220/why-in-variational-auto-encoder-gaussian-variational-family-we-model-log-sig</span>\n",
    "    "
   ]
  },
  {
   "cell_type": "code",
   "execution_count": 12,
   "metadata": {
    "colab": {},
    "colab_type": "code",
    "id": "iN6gKfG9BWfC"
   },
   "outputs": [],
   "source": [
    "class Loss(object):\n",
    "    def __call__(self, mean_z, ln_var_z, x, mean_x, ln_var_x):\n",
    "        return F.gaussian_nll(x, mean_x, ln_var_x) + F.gaussian_kl_divergence(mean_z, ln_var_z)"
   ]
  },
  {
   "cell_type": "markdown",
   "metadata": {
    "colab_type": "text",
    "id": "wuS4ynBqBYt9"
   },
   "source": [
    "This is the model class. It combines the encoder and the decoder.\n",
    "\n",
    "Task: (20 points)\n",
    "\n",
    "- Implement the reparameterziation trick for sampling latents. (10 points)\n",
    "- Explain why we need to use this trick. (10 points)\n",
    "\n",
    "    <span style=\"color:blue\">As drawing a sample from a normal distribution is a stochastic process, you cannot backpropagate through it. The trick is to separate the parameters you want to optimize from the random process.</span>"
   ]
  },
  {
   "cell_type": "code",
   "execution_count": 13,
   "metadata": {
    "colab": {},
    "colab_type": "code",
    "id": "kTLyWlw2BY3H"
   },
   "outputs": [],
   "source": [
    "class Model(chainer.Chain):\n",
    "    def __init__(self, decoder, encoder):\n",
    "        super(Model, self).__init__()\n",
    "\n",
    "        with self.init_scope():\n",
    "            self.decoder = decoder\n",
    "            self.encoder = encoder\n",
    "\n",
    "    def __call__(self, x):\n",
    "        ln_var_z, mean_z = self.encoder(x)\n",
    "                \n",
    "        z = np.random.normal()*ln_var_z+mean_z # Sample latents (z) from the Gaussian with parameters ln_var_z, mean_z by using the reparameterization trick\n",
    "        #z = F.gaussian(mean_z, ln_var_z)\n",
    "        \n",
    "        ln_var_x, mean_x = self.decoder(z)\n",
    "\n",
    "        return mean_z, ln_var_z, x, mean_x, ln_var_x\n",
    "    "
   ]
  },
  {
   "cell_type": "code",
   "execution_count": 19,
   "metadata": {
    "colab": {},
    "colab_type": "code",
    "id": "12AV4tiBHo0W"
   },
   "outputs": [],
   "source": [
    "class Mnist(DatasetMixin):\n",
    "    def __init__(self):\n",
    "        #self.dataset = datasets.get_mnist(False)[0 if chainer.config.train else 1]\n",
    "        self.dataset = datasets.get_mnist(False)[0 if chainer.config.train else 1]\n",
    "\n",
    "    def __len__(self):\n",
    "        return len(self.dataset)\n",
    "\n",
    "    def get_example(self, i):\n",
    "        return self.dataset[i]"
   ]
  },
  {
   "cell_type": "markdown",
   "metadata": {
    "colab_type": "text",
    "id": "6UYXDr2-HrrA"
   },
   "source": [
    "This is a helper class to use the Mnist dataset."
   ]
  },
  {
   "cell_type": "markdown",
   "metadata": {
    "colab_type": "text",
    "id": "tC5HdWquIw7B"
   },
   "source": [
    "Task: (50 points)\n",
    "\n",
    "- Train the above defined variational autoencoder on the Mnist dataset. You can refer to the earlier assignments to implement your training loop. (25 points)\n",
    "\n",
    "- How good are the samples? Randomy sample some digits and visualize them. (10 points)\n",
    "\n",
    "- How good are the reconstructions? Draw an Mnist like digit, encode it, decode it and visualize the digits. How different is the reconstruction from the original. (10 points)\n",
    "\n",
    "- Repeat the last task but by drawing something other than a digit (e.g., a face). How accuracte is the reconstructions? Explain the results. (5 points)"
   ]
  },
  {
   "cell_type": "code",
   "execution_count": 24,
   "metadata": {},
   "outputs": [
    {
     "name": "stdout",
     "output_type": "stream",
     "text": [
      "Encoder: 4\n",
      "Decoder: 4\n"
     ]
    }
   ],
   "source": [
    "class Optimizer():\n",
    "    def __init__(self, model):\n",
    "        self.model = model\n",
    "        self.log = {'training':[], 'test':[]}   \n",
    "        self.optimizer = optimizers.Adam()\n",
    "        self.optimizer.setup(self.model)\n",
    "        self.loss = Loss()\n",
    "        \n",
    "    def test(self, x, show=False):\n",
    "        with chainer.using_config('train', False):\n",
    "            mean_z, ln_var_z, x, mean_x, ln_var_x = self.model(x)\n",
    "            if show:\n",
    "                if gpu:\n",
    "                    toshow = np.asnumpy(mean_x.data[6]).reshape(28,-1)\n",
    "                #plt.show()\n",
    "                else:\n",
    "                    toshow = mean_x.data[6].reshape(28,-1)\n",
    "                plt.imshow(toshow)\n",
    "                plt.show()\n",
    "            err = self.loss(mean_z, ln_var_z, x, mean_x, ln_var_x)   \n",
    "            return float(err.data)\n",
    "    \n",
    "    def train(self, x):\n",
    "        err = self.loss(*self.model(x)) # Forward propagation \n",
    "        self.model.cleargrads()\n",
    "        err.backward() # backpropagation\n",
    "        self.optimizer.update() \n",
    "        return float(err.data)\n",
    "    \n",
    "    @classmethod\n",
    "    def load(cls, directory):\n",
    "        self = cls()\n",
    "        self.log = np.load('{}/log.npy'.format(directory))\n",
    "        serializers.load_npz('{}/weights.npz'.format(directory), self.model)\n",
    "        serializers.load_npz('{}/optimizer.npz'.format(directory), self.optimizer)\n",
    "\n",
    "        return self\n",
    "\n",
    "    def save(self, directory):\n",
    "        np.save('{}/log.npy'.format(directory), self.log)\n",
    "        serializers.save_npz('{}/weights.npz'.format(directory), self.model)\n",
    "        serializers.save_npz('{}/optimizer.npz'.format(directory), self.optimizer)\n",
    "\n",
    "load = False\n",
    "# model from scratch\n",
    "encoder = Encoder(2,784,500,20) # (n_hlay, n_x, n_h, n_z)\n",
    "decoder = Decoder(2,20,500,784) # (n_hlay, n_z, n_h, n_x)\n",
    "vae = Model(decoder, encoder)\n",
    "\n",
    "if gpu:\n",
    "    vae.to_gpu()\n",
    "optimizer = Optimizer(vae)   \n",
    "\n",
    "if load:\n",
    "    optimizer.load(\"./Models/100\")\n",
    "if gpu:\n",
    "    optimizer.model.to_gpu()\n",
    "    \n",
    "\n",
    "epochs = 100\n",
    "batch_size = 100\n",
    "\n",
    "training_set = Mnist()\n",
    "test_set = Mnist()\n",
    "training_iterator = iterators.SerialIterator(training_set, batch_size, False, True)\n",
    "test_iterator = iterators.SerialIterator(test_set , batch_size, False, False)\n"
   ]
  },
  {
   "cell_type": "code",
   "execution_count": 25,
   "metadata": {
    "colab": {},
    "colab_type": "code",
    "id": "I34eP98AIV-j"
   },
   "outputs": [
    {
     "data": {
      "image/png": "[encoded data removed]",
      "text/plain": [
       "<Figure size 432x288 with 1 Axes>"
      ]
     },
     "metadata": {},
     "output_type": "display_data"
    },
    {
     "data": {
      "image/png": "[encoded data removed]",
      "text/plain": [
       "<Figure size 432x288 with 1 Axes>"
      ]
     },
     "metadata": {},
     "output_type": "display_data"
    },
    {
     "name": "stdout",
     "output_type": "stream",
     "text": [
      "[73218.8326953125, 73091.8252734375, 72965.67203125, 72872.22533854167, 72832.550546875, 72812.0284765625, 72784.78411458334, 72767.28260416667, 72749.22583333333, 72734.08639322917, 72730.32045572916, 72719.28436197917, 72709.96255208334, 72702.77829427083, 72691.503203125, 72684.13796875, 72679.20630208333]\n",
      "[73580.3137890625, 73134.5720703125, 73021.323203125, 72909.95520833334, 72860.7948828125, 72827.08447916666, 72802.71740885417, 72779.8966015625, 72763.94381510417, 72750.84436197917, 72739.8445703125, 72730.35653645833, 72719.10162760416, 72711.12548177084, 72703.1452734375, 72696.4597265625, 72691.16501302083]\n"
     ]
    },
    {
     "data": {
      "image/png": "[encoded data removed]",
      "text/plain": [
       "<Figure size 432x288 with 1 Axes>"
      ]
     },
     "metadata": {},
     "output_type": "display_data"
    },
    {
     "ename": "KeyboardInterrupt",
     "evalue": "",
     "output_type": "error",
     "traceback": [
      "\u001b[0;31m---------------------------------------------------------------------------\u001b[0m",
      "\u001b[0;31mKeyboardInterrupt\u001b[0m                         Traceback (most recent call last)",
      "\u001b[0;32m<ipython-input-25-18cb47f0b904>\u001b[0m in \u001b[0;36m<module>\u001b[0;34m()\u001b[0m\n\u001b[1;32m     20\u001b[0m     \u001b[0mmean_loss\u001b[0m \u001b[0;34m=\u001b[0m \u001b[0;34m[\u001b[0m\u001b[0;34m]\u001b[0m\u001b[0;34m\u001b[0m\u001b[0m\n\u001b[1;32m     21\u001b[0m     \u001b[0;32mfor\u001b[0m \u001b[0mj\u001b[0m\u001b[0;34m,\u001b[0m \u001b[0mbatch\u001b[0m \u001b[0;32min\u001b[0m \u001b[0menumerate\u001b[0m\u001b[0;34m(\u001b[0m\u001b[0mtraining_iterator\u001b[0m\u001b[0;34m)\u001b[0m\u001b[0;34m:\u001b[0m\u001b[0;34m\u001b[0m\u001b[0m\n\u001b[0;32m---> 22\u001b[0;31m         \u001b[0mmean_loss\u001b[0m\u001b[0;34m.\u001b[0m\u001b[0mappend\u001b[0m\u001b[0;34m(\u001b[0m\u001b[0moptimizer\u001b[0m\u001b[0;34m.\u001b[0m\u001b[0mtrain\u001b[0m\u001b[0;34m(\u001b[0m\u001b[0mnp\u001b[0m\u001b[0;34m.\u001b[0m\u001b[0marray\u001b[0m\u001b[0;34m(\u001b[0m\u001b[0mbatch\u001b[0m\u001b[0;34m)\u001b[0m\u001b[0;34m)\u001b[0m\u001b[0;34m)\u001b[0m\u001b[0;34m\u001b[0m\u001b[0m\n\u001b[0m\u001b[1;32m     23\u001b[0m     \u001b[0moptimizer\u001b[0m\u001b[0;34m.\u001b[0m\u001b[0mlog\u001b[0m\u001b[0;34m[\u001b[0m\u001b[0;34m'training'\u001b[0m\u001b[0;34m]\u001b[0m \u001b[0;34m+=\u001b[0m \u001b[0;34m[\u001b[0m\u001b[0mnumpy\u001b[0m\u001b[0;34m.\u001b[0m\u001b[0mmean\u001b[0m\u001b[0;34m(\u001b[0m\u001b[0mmean_loss\u001b[0m\u001b[0;34m)\u001b[0m\u001b[0;34m]\u001b[0m\u001b[0;34m\u001b[0m\u001b[0m\n\u001b[1;32m     24\u001b[0m \u001b[0;34m\u001b[0m\u001b[0m\n",
      "\u001b[0;32m<ipython-input-24-3aa862434281>\u001b[0m in \u001b[0;36mtrain\u001b[0;34m(self, x)\u001b[0m\n\u001b[1;32m     25\u001b[0m         \u001b[0mself\u001b[0m\u001b[0;34m.\u001b[0m\u001b[0mmodel\u001b[0m\u001b[0;34m.\u001b[0m\u001b[0mcleargrads\u001b[0m\u001b[0;34m(\u001b[0m\u001b[0;34m)\u001b[0m\u001b[0;34m\u001b[0m\u001b[0m\n\u001b[1;32m     26\u001b[0m         \u001b[0merr\u001b[0m\u001b[0;34m.\u001b[0m\u001b[0mbackward\u001b[0m\u001b[0;34m(\u001b[0m\u001b[0;34m)\u001b[0m \u001b[0;31m# backpropagation\u001b[0m\u001b[0;34m\u001b[0m\u001b[0m\n\u001b[0;32m---> 27\u001b[0;31m         \u001b[0mself\u001b[0m\u001b[0;34m.\u001b[0m\u001b[0moptimizer\u001b[0m\u001b[0;34m.\u001b[0m\u001b[0mupdate\u001b[0m\u001b[0;34m(\u001b[0m\u001b[0;34m)\u001b[0m\u001b[0;34m\u001b[0m\u001b[0m\n\u001b[0m\u001b[1;32m     28\u001b[0m         \u001b[0;32mreturn\u001b[0m \u001b[0mfloat\u001b[0m\u001b[0;34m(\u001b[0m\u001b[0merr\u001b[0m\u001b[0;34m.\u001b[0m\u001b[0mdata\u001b[0m\u001b[0;34m)\u001b[0m\u001b[0;34m\u001b[0m\u001b[0m\n\u001b[1;32m     29\u001b[0m \u001b[0;34m\u001b[0m\u001b[0m\n",
      "\u001b[0;32m~/anaconda3/envs/default/lib/python3.5/site-packages/chainer/optimizer.py\u001b[0m in \u001b[0;36mupdate\u001b[0;34m(self, lossfun, *args, **kwds)\u001b[0m\n\u001b[1;32m    692\u001b[0m         \u001b[0mself\u001b[0m\u001b[0;34m.\u001b[0m\u001b[0mt\u001b[0m \u001b[0;34m+=\u001b[0m \u001b[0;36m1\u001b[0m\u001b[0;34m\u001b[0m\u001b[0m\n\u001b[1;32m    693\u001b[0m         \u001b[0;32mfor\u001b[0m \u001b[0mparam\u001b[0m \u001b[0;32min\u001b[0m \u001b[0mself\u001b[0m\u001b[0;34m.\u001b[0m\u001b[0mtarget\u001b[0m\u001b[0;34m.\u001b[0m\u001b[0mparams\u001b[0m\u001b[0;34m(\u001b[0m\u001b[0;34m)\u001b[0m\u001b[0;34m:\u001b[0m\u001b[0;34m\u001b[0m\u001b[0m\n\u001b[0;32m--> 694\u001b[0;31m             \u001b[0mparam\u001b[0m\u001b[0;34m.\u001b[0m\u001b[0mupdate\u001b[0m\u001b[0;34m(\u001b[0m\u001b[0;34m)\u001b[0m\u001b[0;34m\u001b[0m\u001b[0m\n\u001b[0m\u001b[1;32m    695\u001b[0m \u001b[0;34m\u001b[0m\u001b[0m\n\u001b[1;32m    696\u001b[0m         \u001b[0mself\u001b[0m\u001b[0;34m.\u001b[0m\u001b[0mreallocate_cleared_grads\u001b[0m\u001b[0;34m(\u001b[0m\u001b[0;34m)\u001b[0m\u001b[0;34m\u001b[0m\u001b[0m\n",
      "\u001b[0;32m~/anaconda3/envs/default/lib/python3.5/site-packages/chainer/variable.py\u001b[0m in \u001b[0;36mupdate\u001b[0;34m(self)\u001b[0m\n\u001b[1;32m   1322\u001b[0m         \"\"\"\n\u001b[1;32m   1323\u001b[0m         \u001b[0;32mif\u001b[0m \u001b[0mself\u001b[0m\u001b[0;34m.\u001b[0m\u001b[0mupdate_rule\u001b[0m \u001b[0;32mis\u001b[0m \u001b[0;32mnot\u001b[0m \u001b[0;32mNone\u001b[0m\u001b[0;34m:\u001b[0m\u001b[0;34m\u001b[0m\u001b[0m\n\u001b[0;32m-> 1324\u001b[0;31m             \u001b[0mself\u001b[0m\u001b[0;34m.\u001b[0m\u001b[0mupdate_rule\u001b[0m\u001b[0;34m.\u001b[0m\u001b[0mupdate\u001b[0m\u001b[0;34m(\u001b[0m\u001b[0mself\u001b[0m\u001b[0;34m)\u001b[0m\u001b[0;34m\u001b[0m\u001b[0m\n\u001b[0m\u001b[1;32m   1325\u001b[0m \u001b[0;34m\u001b[0m\u001b[0m\n\u001b[1;32m   1326\u001b[0m \u001b[0;34m\u001b[0m\u001b[0m\n",
      "\u001b[0;32m~/anaconda3/envs/default/lib/python3.5/site-packages/chainer/optimizer.py\u001b[0m in \u001b[0;36mupdate\u001b[0;34m(self, param)\u001b[0m\n\u001b[1;32m    217\u001b[0m             \u001b[0;32mfor\u001b[0m \u001b[0mhook\u001b[0m \u001b[0;32min\u001b[0m \u001b[0msix\u001b[0m\u001b[0;34m.\u001b[0m\u001b[0mitervalues\u001b[0m\u001b[0;34m(\u001b[0m\u001b[0mself\u001b[0m\u001b[0;34m.\u001b[0m\u001b[0m_pre_update_hooks\u001b[0m\u001b[0;34m)\u001b[0m\u001b[0;34m:\u001b[0m\u001b[0;34m\u001b[0m\u001b[0m\n\u001b[1;32m    218\u001b[0m                 \u001b[0mhook\u001b[0m\u001b[0;34m(\u001b[0m\u001b[0mself\u001b[0m\u001b[0;34m,\u001b[0m \u001b[0mparam\u001b[0m\u001b[0;34m)\u001b[0m\u001b[0;34m\u001b[0m\u001b[0m\n\u001b[0;32m--> 219\u001b[0;31m             \u001b[0mself\u001b[0m\u001b[0;34m.\u001b[0m\u001b[0mupdate_core\u001b[0m\u001b[0;34m(\u001b[0m\u001b[0mparam\u001b[0m\u001b[0;34m)\u001b[0m\u001b[0;34m\u001b[0m\u001b[0m\n\u001b[0m\u001b[1;32m    220\u001b[0m             \u001b[0;32mfor\u001b[0m \u001b[0mhook\u001b[0m \u001b[0;32min\u001b[0m \u001b[0msix\u001b[0m\u001b[0;34m.\u001b[0m\u001b[0mitervalues\u001b[0m\u001b[0;34m(\u001b[0m\u001b[0mself\u001b[0m\u001b[0;34m.\u001b[0m\u001b[0m_post_update_hooks\u001b[0m\u001b[0;34m)\u001b[0m\u001b[0;34m:\u001b[0m\u001b[0;34m\u001b[0m\u001b[0m\n\u001b[1;32m    221\u001b[0m                 \u001b[0mhook\u001b[0m\u001b[0;34m(\u001b[0m\u001b[0mself\u001b[0m\u001b[0;34m,\u001b[0m \u001b[0mparam\u001b[0m\u001b[0;34m)\u001b[0m\u001b[0;34m\u001b[0m\u001b[0m\n",
      "\u001b[0;32m~/anaconda3/envs/default/lib/python3.5/site-packages/chainer/optimizer.py\u001b[0m in \u001b[0;36mupdate_core\u001b[0;34m(self, param)\u001b[0m\n\u001b[1;32m    233\u001b[0m         \u001b[0;32mwith\u001b[0m \u001b[0mcuda\u001b[0m\u001b[0;34m.\u001b[0m\u001b[0mget_device_from_array\u001b[0m\u001b[0;34m(\u001b[0m\u001b[0mparam\u001b[0m\u001b[0;34m.\u001b[0m\u001b[0mdata\u001b[0m\u001b[0;34m)\u001b[0m \u001b[0;32mas\u001b[0m \u001b[0mdev\u001b[0m\u001b[0;34m:\u001b[0m\u001b[0;34m\u001b[0m\u001b[0m\n\u001b[1;32m    234\u001b[0m             \u001b[0;32mif\u001b[0m \u001b[0mint\u001b[0m\u001b[0;34m(\u001b[0m\u001b[0mdev\u001b[0m\u001b[0;34m)\u001b[0m \u001b[0;34m==\u001b[0m \u001b[0;34m-\u001b[0m\u001b[0;36m1\u001b[0m\u001b[0;34m:\u001b[0m\u001b[0;34m\u001b[0m\u001b[0m\n\u001b[0;32m--> 235\u001b[0;31m                 \u001b[0mself\u001b[0m\u001b[0;34m.\u001b[0m\u001b[0mupdate_core_cpu\u001b[0m\u001b[0;34m(\u001b[0m\u001b[0mparam\u001b[0m\u001b[0;34m)\u001b[0m\u001b[0;34m\u001b[0m\u001b[0m\n\u001b[0m\u001b[1;32m    236\u001b[0m             \u001b[0;32melse\u001b[0m\u001b[0;34m:\u001b[0m\u001b[0;34m\u001b[0m\u001b[0m\n\u001b[1;32m    237\u001b[0m                 \u001b[0mself\u001b[0m\u001b[0;34m.\u001b[0m\u001b[0mupdate_core_gpu\u001b[0m\u001b[0;34m(\u001b[0m\u001b[0mparam\u001b[0m\u001b[0;34m)\u001b[0m\u001b[0;34m\u001b[0m\u001b[0m\n",
      "\u001b[0;32m~/anaconda3/envs/default/lib/python3.5/site-packages/chainer/optimizers/adam.py\u001b[0m in \u001b[0;36mupdate_core_cpu\u001b[0;34m(self, param)\u001b[0m\n\u001b[1;32m    125\u001b[0m                                      self.lr * m / (numpy.sqrt(vhat) + hp.eps))\n\u001b[1;32m    126\u001b[0m         \u001b[0;32melse\u001b[0m\u001b[0;34m:\u001b[0m\u001b[0;34m\u001b[0m\u001b[0m\n\u001b[0;32m--> 127\u001b[0;31m             \u001b[0mm\u001b[0m \u001b[0;34m+=\u001b[0m \u001b[0;34m(\u001b[0m\u001b[0;36m1\u001b[0m \u001b[0;34m-\u001b[0m \u001b[0mhp\u001b[0m\u001b[0;34m.\u001b[0m\u001b[0mbeta1\u001b[0m\u001b[0;34m)\u001b[0m \u001b[0;34m*\u001b[0m \u001b[0;34m(\u001b[0m\u001b[0mgrad\u001b[0m \u001b[0;34m-\u001b[0m \u001b[0mm\u001b[0m\u001b[0;34m)\u001b[0m\u001b[0;34m\u001b[0m\u001b[0m\n\u001b[0m\u001b[1;32m    128\u001b[0m             \u001b[0mv\u001b[0m \u001b[0;34m+=\u001b[0m \u001b[0;34m(\u001b[0m\u001b[0;36m1\u001b[0m \u001b[0;34m-\u001b[0m \u001b[0mhp\u001b[0m\u001b[0;34m.\u001b[0m\u001b[0mbeta2\u001b[0m\u001b[0;34m)\u001b[0m \u001b[0;34m*\u001b[0m \u001b[0;34m(\u001b[0m\u001b[0mgrad\u001b[0m \u001b[0;34m*\u001b[0m \u001b[0mgrad\u001b[0m \u001b[0;34m-\u001b[0m \u001b[0mv\u001b[0m\u001b[0;34m)\u001b[0m\u001b[0;34m\u001b[0m\u001b[0m\n\u001b[1;32m    129\u001b[0m             \u001b[0;32mif\u001b[0m \u001b[0mhp\u001b[0m\u001b[0;34m.\u001b[0m\u001b[0mamsgrad\u001b[0m\u001b[0;34m:\u001b[0m\u001b[0;34m\u001b[0m\u001b[0m\n",
      "\u001b[0;31mKeyboardInterrupt\u001b[0m: "
     ]
    }
   ],
   "source": [
    "# Create new folder to avoid FileExistsError\n",
    "root = '.'\n",
    "i=-1\n",
    "path = '{}/Models'.format(root)\n",
    "if not os.path.isdir(path):\n",
    "    os.makedirs(path)\n",
    "while i==-1 or os.path.isdir(path):\n",
    "    i+=1\n",
    "    path = '{}/Models/Weights_{}'.format(root, i)\n",
    "os.makedirs('{}/Models/Weights_{}'.format(root, i))\n",
    "\n",
    "optimizer.log['training'] = []\n",
    "optimizer.log['test'] = []\n",
    "\n",
    "for epoch in tqdm.tnrange(epochs):\n",
    "    \n",
    "    training_iterator.reset()\n",
    "    test_iterator.reset()\n",
    "    \n",
    "    mean_loss = []\n",
    "    for j, batch in enumerate(training_iterator):\n",
    "        mean_loss.append(optimizer.train(np.array(batch)))\n",
    "    optimizer.log['training'] += [numpy.mean(mean_loss)]\n",
    "\n",
    "    mean_loss = []\n",
    "    for j, batch in enumerate(test_iterator):\n",
    "        mean_loss.append(optimizer.test(np.array(batch)))\n",
    "    optimizer.log['test'] += [numpy.mean(mean_loss)]\n",
    "    \n",
    "    IPython.display.clear_output()\n",
    "    \n",
    "    optimizer.test(np.array(batch), show=True)\n",
    "    plt.imshow(batch[6].reshape(28,-1))\n",
    "    plt.show()\n",
    "    \n",
    "    # store weights and loss\n",
    "    os.makedirs('{}/{}'.format(path, epoch))\n",
    "    optimizer.save('{}/{}'.format(path, epoch))\n",
    "    \n",
    "    print(optimizer.log['test'])\n",
    "    print(optimizer.log['training'])\n",
    "    \n",
    "    plt.plot(range(epoch+1), optimizer.log['test'], label='test')\n",
    "    plt.plot(range(epoch+1), optimizer.log['training'], label='training')\n",
    "    plt.xlabel('iteration')\n",
    "    plt.ylabel('loss')\n",
    "    plt.legend()    \n",
    "    plt.show()"
   ]
  },
  {
   "cell_type": "markdown",
   "metadata": {
    "colab_type": "text",
    "id": "EzCbq-7SKmBW"
   },
   "source": [
    "Bonus task: Try the same experiments on a different dataset. (20 bonus points)\n",
    "\n",
    "**Let's now experiment on Fashion MNIST dataset**"
   ]
  },
  {
   "cell_type": "code",
   "execution_count": 28,
   "metadata": {},
   "outputs": [],
   "source": [
    "class Mnist_fashion(DatasetMixin):\n",
    "    def __init__(self):\n",
    "        #self.dataset = datasets.get_mnist(False)[0 if chainer.config.train else 1]\n",
    "        self.dataset = datasets.get_fashion_mnist(False)[0 if chainer.config.train else 1]\n",
    "\n",
    "    def __len__(self):\n",
    "        return len(self.dataset)\n",
    "\n",
    "    def get_example(self, i):\n",
    "        return self.dataset[i]\n",
    "    \n"
   ]
  },
  {
   "cell_type": "code",
   "execution_count": 29,
   "metadata": {},
   "outputs": [
    {
     "name": "stdout",
     "output_type": "stream",
     "text": [
      "Encoder: 4\n",
      "Decoder: 4\n"
     ]
    }
   ],
   "source": [
    "load = False\n",
    "# model from scratch\n",
    "encoder = Encoder(2,784,500,20) # (n_hlay, n_x, n_h, n_z)\n",
    "decoder = Decoder(2,20,500,784) # (n_hlay, n_z, n_h, n_x)\n",
    "vae = Model(decoder, encoder)\n",
    "\n",
    "if gpu:\n",
    "    vae.to_gpu()\n",
    "optimizer = Optimizer(vae)   \n",
    "\n",
    "if load:\n",
    "    optimizer.load(\"./Models/100\")\n",
    "if gpu:\n",
    "    optimizer.model.to_gpu()\n",
    "    \n",
    "\n",
    "epochs = 100\n",
    "batch_size = 100\n",
    "\n",
    "training_set = Mnist_fashion()\n",
    "test_set = Mnist_fashion()\n",
    "training_iterator = iterators.SerialIterator(training_set, batch_size, False, True)\n",
    "test_iterator = iterators.SerialIterator(test_set , batch_size, False, False)\n"
   ]
  },
  {
   "cell_type": "code",
   "execution_count": null,
   "metadata": {},
   "outputs": [
    {
     "data": {
      "image/png": "[encoded data removed]",
      "text/plain": [
       "<Figure size 432x288 with 1 Axes>"
      ]
     },
     "metadata": {},
     "output_type": "display_data"
    },
    {
     "data": {
      "image/png": "[encoded data removed]",
      "text/plain": [
       "<Figure size 432x288 with 1 Axes>"
      ]
     },
     "metadata": {},
     "output_type": "display_data"
    },
    {
     "name": "stdout",
     "output_type": "stream",
     "text": [
      "[73198.587109375, 73110.65381510416, 73083.23046875, 73051.40897135416, 73025.60865885417, 73016.913203125]\n",
      "[73518.4237109375, 73149.71100260416, 73097.1169140625, 73065.30272135416, 73038.315078125, 73022.7994140625]\n"
     ]
    },
    {
     "data": {
      "image/png": "[encoded data removed]",
      "text/plain": [
       "<Figure size 432x288 with 1 Axes>"
      ]
     },
     "metadata": {},
     "output_type": "display_data"
    }
   ],
   "source": [
    "# Create new folder to avoid FileExistsError\n",
    "root = '.'\n",
    "i=-1\n",
    "path = '{}/Models'.format(root)\n",
    "if not os.path.isdir(path):\n",
    "    os.makedirs(path)\n",
    "while i==-1 or os.path.isdir(path):\n",
    "    i+=1\n",
    "    path = '{}/Models/Weights_{}'.format(root, i)\n",
    "os.makedirs('{}/Models/Weights_{}'.format(root, i))\n",
    "\n",
    "optimizer.log['training'] = []\n",
    "optimizer.log['test'] = []\n",
    "\n",
    "for epoch in tqdm.tnrange(epochs):\n",
    "    \n",
    "    training_iterator.reset()\n",
    "    test_iterator.reset()\n",
    "    \n",
    "    mean_loss = []\n",
    "    for j, batch in enumerate(training_iterator):\n",
    "        mean_loss.append(optimizer.train(np.array(batch)))\n",
    "    optimizer.log['training'] += [numpy.mean(mean_loss)]\n",
    "\n",
    "    mean_loss = []\n",
    "    for j, batch in enumerate(test_iterator):\n",
    "        mean_loss.append(optimizer.test(np.array(batch)))\n",
    "    optimizer.log['test'] += [numpy.mean(mean_loss)]\n",
    "    \n",
    "    IPython.display.clear_output()\n",
    "    \n",
    "    optimizer.test(np.array(batch), show=True)\n",
    "    plt.imshow(batch[6].reshape(28,-1))\n",
    "    plt.show()\n",
    "    \n",
    "    # store weights and loss\n",
    "    os.makedirs('{}/{}'.format(path, epoch))\n",
    "    optimizer.save('{}/{}'.format(path, epoch))\n",
    "    \n",
    "    print(optimizer.log['test'])\n",
    "    print(optimizer.log['training'])\n",
    "    \n",
    "    plt.plot(range(epoch+1), optimizer.log['test'], label='test')\n",
    "    plt.plot(range(epoch+1), optimizer.log['training'], label='training')\n",
    "    plt.xlabel('iteration')\n",
    "    plt.ylabel('loss')\n",
    "    plt.legend()    \n",
    "    plt.show()"
   ]
  },
  {
   "cell_type": "code",
   "execution_count": null,
   "metadata": {},
   "outputs": [],
   "source": []
  }
 ],
 "metadata": {
  "colab": {
   "collapsed_sections": [],
   "name": "weeks_6_and_7",
   "provenance": [],
   "version": "0.3.2"
  },
  "kernelspec": {
   "display_name": "Python 3",
   "language": "python",
   "name": "python3"
  },
  "language_info": {
   "codemirror_mode": {
    "name": "ipython",
    "version": 3
   },
   "file_extension": ".py",
   "mimetype": "text/x-python",
   "name": "python",
   "nbconvert_exporter": "python",
   "pygments_lexer": "ipython3",
   "version": "3.5.5"
  }
 },
 "nbformat": 4,
 "nbformat_minor": 1
}
