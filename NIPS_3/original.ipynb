{
  "nbformat": 4,
  "nbformat_minor": 0,
  "metadata": {
    "colab": {
      "name": "weeks_6_and_7",
      "version": "0.3.2",
      "provenance": [],
      "collapsed_sections": []
    },
    "kernelspec": {
      "name": "python3",
      "display_name": "Python 3"
    }
  },
  "cells": [
    {
      "metadata": {
        "id": "CGc6Y5_eKaPD",
        "colab_type": "text"
      },
      "cell_type": "markdown",
      "source": [
        "**SOW-MKI49: Neural Information Processing Systems**  \n",
        "*Weeks 4 and 5: Assignment (100 points + 20 bonus points)  \n",
        "Author: Luca and Umut"
      ]
    },
    {
      "metadata": {
        "id": "cBlzrHdoKzvY",
        "colab_type": "code",
        "colab": {}
      },
      "cell_type": "code",
      "source": [
        "# Group number: ...\n",
        "# Student 1 name, student 1 number: ...\n",
        "# Student 2 name, student 2 number: ...\n",
        "# Student 3 name, student 3 number: ..."
      ],
      "execution_count": 0,
      "outputs": []
    },
    {
      "metadata": {
        "id": "Gz0FZAwiJ-al",
        "colab_type": "code",
        "colab": {}
      },
      "cell_type": "code",
      "source": [
        "from chainer import cuda, datasets, serializers\n",
        "from chainer.dataset import DatasetMixin, concat_examples\n",
        "from chainer.iterators import MultithreadIterator\n",
        "import chainer\n",
        "import chainer.functions as F\n",
        "import chainer.links as L\n",
        "# import cupy\n",
        "import numpy as np\n",
        "import tqdm"
      ],
      "execution_count": 0,
      "outputs": []
    },
    {
      "metadata": {
        "id": "ckO0T0SLAFf7",
        "colab_type": "text"
      },
      "cell_type": "markdown",
      "source": [
        "This is the decoder class. It transforms latents (features) to observables (images). It corresponds to p(x | z) in the context of variational inference (and the slides), where x is observables and y is latents.\n",
        "\n",
        "Task: (10 points)\n",
        "\n",
        "- Implement the decoder class for a variational autoencoder. Note that the decoder should output the Gaussian distribution parameters (mean and variance per pixel) of images rather than images themselves."
      ]
    },
    {
      "metadata": {
        "id": "ew8VZCkl-FdE",
        "colab_type": "code",
        "colab": {}
      },
      "cell_type": "code",
      "source": [
        "class Decoder(chainer.ChainList):\n",
        "    def __init__(self): # <= you might want to pass some architecture parameters (e.g., #i/o units, etc.) here\n",
        "        super(Decoder, self).__init__(\n",
        "            # pass your decoder layers here\n",
        "        )\n",
        "\n",
        "    def __call__(self, x):\n",
        "        pass"
      ],
      "execution_count": 0,
      "outputs": []
    },
    {
      "metadata": {
        "id": "d36RjWO6AKqO",
        "colab_type": "text"
      },
      "cell_type": "markdown",
      "source": [
        "This is the encoder class. It transforms observables (images) to latents (features). It corresponds to q(z | x) in the context of variational inference (and the slides), where z is latents and x is observables.\n",
        "\n",
        "Task: (10 points)\n",
        "\n",
        "- Implement the encoder class for a variational autoencoder. Note that the encoder should output the Gaussian distribution parameters (mean and variance per feature) of features rather than features themselves."
      ]
    },
    {
      "metadata": {
        "id": "V-5xcJAWAFIC",
        "colab_type": "code",
        "colab": {}
      },
      "cell_type": "code",
      "source": [
        "class Encoder(chainer.ChainList):\n",
        "    def __init__(self): # <= you might want to pass some architecture parameters (e.g., #i/o units, etc.) here\n",
        "        super(Encoder, self).__init__(\n",
        "            # pass your encoder layers here\n",
        "        )\n",
        "\n",
        "    def __call__(self, x):\n",
        "        pass"
      ],
      "execution_count": 0,
      "outputs": []
    },
    {
      "metadata": {
        "id": "8ch2iPFbBWVu",
        "colab_type": "text"
      },
      "cell_type": "markdown",
      "source": [
        "This is the loss class. The loss of encoder and decoder of a variational autoencoder is the evidence lower bound as follows:\n",
        "\n",
        "$L = D_{KL}(q(z | x), p(z)) -  E_{z\\sim q}[log p(x | z)]$\n",
        "\n",
        "The first term above is the KL divergence between the approximate posterior (q) and the prior (p), which can be interpreted as a form of regularization. You can assume that the prior is unit Gaussian. It can be implemented with the F.gaussian_kl_divergence function in Chainer.\n",
        "\n",
        "The second term above is the Gaussian negative log likelihood. This is the term that fits the data, which is very similar to the usual loss functions that you use in deep learning. It can be implemented with the F.gaussian_nll function in Chainer.\n",
        "\n",
        "Task: \n",
        "\n",
        "- Implement the loss class. (10 points)\n",
        "\n",
        "As input, it gets the following arguments:\n",
        "\n",
        "mean_y => mean of the encoded features (output of the encoder)  \n",
        "ln_var_y => log variance of the encoded features (output of the encoder)  \n",
        "x => input images (mini batch)  \n",
        "mean_x => mean of the decoded images (output of the decoder)  \n",
        "ln_var_x => mean of the decoded images (output of the decoder)  \n",
        "\n",
        "As output, it gives the loss.\n",
        "\n",
        "- Explain why we use log variance instead of variance. (5 points)"
      ]
    },
    {
      "metadata": {
        "id": "iN6gKfG9BWfC",
        "colab_type": "code",
        "colab": {}
      },
      "cell_type": "code",
      "source": [
        "class Loss(object):\n",
        "    def __call__(self, mean_z, ln_var_z, x, mean_x, ln_var_x):\n",
        "        # Implement the loss here"
      ],
      "execution_count": 0,
      "outputs": []
    },
    {
      "metadata": {
        "id": "wuS4ynBqBYt9",
        "colab_type": "text"
      },
      "cell_type": "markdown",
      "source": [
        "This is the model class. It combines the encoder and the decoder.\n",
        "\n",
        "Task: (20 points)\n",
        "\n",
        "- Implement the reparameterziation trick for sampling latents. (10 points)\n",
        "- Explain why we need to use this trick. (10 points)"
      ]
    },
    {
      "metadata": {
        "id": "kTLyWlw2BY3H",
        "colab_type": "code",
        "colab": {}
      },
      "cell_type": "code",
      "source": [
        "class Model(chainer.Chain):\n",
        "    def __init__(self, decoder, encoder):\n",
        "        super(Model, self).__init__()\n",
        "\n",
        "        with self.init_scope():\n",
        "            self.decoder = decoder\n",
        "            self.encoder = encoder\n",
        "\n",
        "    def __call__(self, x):\n",
        "        ln_var_z, mean_z = self.encoder(x)\n",
        "        \n",
        "        # Sample latents (z) from the Gaussian with parameters ln_var_z, mean_z by using the reparameterization trick\n",
        "        \n",
        "        ln_var_x, mean_x = self.decoder(z)\n",
        "\n",
        "        return mean_z, ln_var_z, x, mean_x, ln_var_x"
      ],
      "execution_count": 0,
      "outputs": []
    },
    {
      "metadata": {
        "id": "6UYXDr2-HrrA",
        "colab_type": "text"
      },
      "cell_type": "markdown",
      "source": [
        "This is a helper class to use the Mnist dataset."
      ]
    },
    {
      "metadata": {
        "id": "12AV4tiBHo0W",
        "colab_type": "code",
        "colab": {}
      },
      "cell_type": "code",
      "source": [
        "class Mnist(DatasetMixin):\n",
        "    def __init__(self):\n",
        "        self.dataset = datasets.get_mnist(False)[0 if chainer.config.train else 1]\n",
        "\n",
        "    def __len__(self):\n",
        "        return len(self.dataset)\n",
        "\n",
        "    def get_example(self, i):\n",
        "        return self.dataset[i]"
      ],
      "execution_count": 0,
      "outputs": []
    },
    {
      "metadata": {
        "id": "tC5HdWquIw7B",
        "colab_type": "text"
      },
      "cell_type": "markdown",
      "source": [
        "Task: (50 points)\n",
        "\n",
        "- Train the above defined variational autoencoder on the Mnist dataset. You can refer to the earlier assignments to implement your training loop. (25 points)\n",
        "\n",
        "- How good are the samples? Randomy sample some digits and visualize them. (10 points)\n",
        "\n",
        "- How good are the reconstructions? Draw an Mnist like digit, encode it, decode it and visualize the digits. How different is the reconstruction from the original. (10 points)\n",
        "\n",
        "- Repeat the last task but by drawing something other than a digit (e.g., a face). How accuracte is the reconstructions? Explain the results. (5 points)"
      ]
    },
    {
      "metadata": {
        "id": "I34eP98AIV-j",
        "colab_type": "code",
        "colab": {}
      },
      "cell_type": "code",
      "source": [
        ""
      ],
      "execution_count": 0,
      "outputs": []
    },
    {
      "metadata": {
        "id": "EzCbq-7SKmBW",
        "colab_type": "text"
      },
      "cell_type": "markdown",
      "source": [
        "Bonus task: Try the same experiments on a different dataset. (20 bonus points)"
      ]
    }
  ]
}