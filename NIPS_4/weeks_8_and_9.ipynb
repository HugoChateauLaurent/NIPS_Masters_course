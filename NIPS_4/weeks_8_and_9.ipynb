{
  "nbformat": 4,
  "nbformat_minor": 0,
  "metadata": {
    "colab": {
      "name": "weeks_8_and_9.ipynb",
      "version": "0.3.2",
      "provenance": []
    },
    "kernelspec": {
      "name": "python3",
      "display_name": "Python 3"
    }
  },
  "cells": [
    {
      "metadata": {
        "id": "v2A09NebM_ux",
        "colab_type": "text"
      },
      "cell_type": "markdown",
      "source": [
        "**SOW-MKI49: Neural Information Processing Systems**  \n",
        "*Weeks 8 and 9: Assignment (100 points + 10 bonus points)*  \n",
        "Adapted from Andrew Ng's deep learning course."
      ]
    },
    {
      "metadata": {
        "id": "4A-4iKPzNFOq",
        "colab_type": "text"
      },
      "cell_type": "markdown",
      "source": [
        "# Deep Learning & Art: Neural Style Transfer\n",
        "\n",
        "In this assignment, you will learn about Neural Style Transfer. This algorithm was created by Gatys et al. (2015) (https://arxiv.org/abs/1508.06576). \n",
        "\n",
        "**In this assignment, you will:**\n",
        "- Implement the neural style transfer algorithm \n",
        "- Generate novel artistic images using your algorithm \n",
        "\n",
        "Most of the algorithms you've studied optimize a cost function to get a set of parameter values. In Neural Style Transfer, you'll optimize a cost function to get pixel values!"
      ]
    },
    {
      "metadata": {
        "id": "vWFk6fUzNZVl",
        "colab_type": "code",
        "colab": {}
      },
      "cell_type": "code",
      "source": [
        "import chainer\n",
        "import os\n",
        "import sys\n",
        "import scipy.io\n",
        "import scipy.misc\n",
        "import matplotlib.pyplot as plt\n",
        "from matplotlib.pyplot import imshow\n",
        "from PIL import Image\n",
        "import numpy as np\n",
        "\n",
        "%matplotlib inline"
      ],
      "execution_count": 0,
      "outputs": []
    },
    {
      "metadata": {
        "id": "7korqD1tNb9R",
        "colab_type": "text"
      },
      "cell_type": "markdown",
      "source": [
        "## 1 - Problem Statement\n",
        "\n",
        "Neural Style Transfer (NST) is one of the most fun techniques in deep learning. It merges two images, namely, a \"content\" image (C) and a \"style\" image (S), to create a \"generated\" image (G). The generated image G combines the \"content\" of the image C with the \"style\" of image S. \n",
        "\n",
        "In this example, you are going to generate an image of the Heyendaal castle in Nijmegen (content image C), mixed with a painting by Vincent van Gogh, a leader of the post-impressionist movement (style image S).\n",
        "\n",
        "Let's see how you can do this. "
      ]
    },
    {
      "metadata": {
        "id": "JKgdrfeQOofN",
        "colab_type": "text"
      },
      "cell_type": "markdown",
      "source": [
        "## 2 - Transfer Learning\n",
        "\n",
        "Neural Style Transfer (NST) uses a previously trained convolutional network, and builds on top of that. The idea of using a network trained on a different task and applying it to a new task is called transfer learning. \n",
        "\n",
        "Following the original NST paper (https://arxiv.org/abs/1508.06576), we will use the VGG network. Specifically, we'll use VGG-19, a 19-layer version of the VGG network. This model has already been trained on the very large ImageNet database, and thus has learned to recognize a variety of low level features (at the earlier layers) and high level features (at the deeper layers). \n",
        "\n",
        "Run the following code to load parameters from the VGG model. This may take a few seconds. "
      ]
    },
    {
      "metadata": {
        "id": "mwtyn_hGO8tL",
        "colab_type": "code",
        "colab": {}
      },
      "cell_type": "code",
      "source": [
        "model = chainer.links.VGG19Layers()"
      ],
      "execution_count": 0,
      "outputs": []
    },
    {
      "metadata": {
        "id": "rQF1Bjf5PP-U",
        "colab_type": "text"
      },
      "cell_type": "markdown",
      "source": [
        "## 3 - Neural Style Transfer \n",
        "\n",
        "We will build the NST algorithm in three steps:\n",
        "\n",
        "- Build the content cost function $J_{content}(C,G)$\n",
        "- Build the style cost function $J_{style}(S,G)$\n",
        "- Put it together to get $J(G) = \\alpha J_{content}(C,G) + \\beta J_{style}(S,G)$. \n",
        "\n",
        "### 3.1 - Computing the content cost\n",
        "\n",
        "In our running example, the content image C will be the picture of the Heyendaal castle in Nijmegen. Run the code below to see a picture of the Heyendaal castle."
      ]
    },
    {
      "metadata": {
        "id": "BQv01etuP8nC",
        "colab_type": "code",
        "colab": {}
      },
      "cell_type": "code",
      "source": [
        "!wget https://upload.wikimedia.org/wikipedia/commons/thumb/9/9e/Heyendaal.jpg/640px-Heyendaal.jpg\n",
        "content_image = scipy.misc.imread(\"640px-Heyendaal.jpg\")\n",
        "imshow(content_image)"
      ],
      "execution_count": 0,
      "outputs": []
    },
    {
      "metadata": {
        "id": "0wtuXKm1QUmt",
        "colab_type": "text"
      },
      "cell_type": "markdown",
      "source": [
        "** 3.1.1 - How do you ensure the generated image G matches the content of the image C?**\n",
        "\n",
        "As we saw in lecture, the earlier (shallower) layers of a ConvNet tend to detect lower-level features such as edges and simple textures, and the later (deeper) layers tend to detect higher-level features such as more complex textures as well as object classes. \n",
        "\n",
        "We would like the \"generated\" image G to have similar content as the input image C. Suppose you have chosen some layer's activations to represent the content of an image. In practice, you'll get the most visually pleasing results if you choose a layer in the middle of the network--neither too shallow nor too deep. (After you have finished this exercise, feel free to come back and experiment with using different layers, to see how the results vary.)\n",
        "\n",
        "So, suppose you have picked one particular hidden layer to use. Now, set the image C as the input to the pretrained VGG network, and run forward propagation. Let $a^{(C)}$ be the hidden layer activations in the layer you had chosen. This will be a $n_H \\times n_W \\times n_C$ tensor. Repeat this process with the image G: Set G as the input, and run forward progation. Let $a^{(G)}$ be the corresponding hidden layer activation. We will define as the content cost function as:\n",
        "\n",
        "$$J_{content}(C,G) =  \\frac{1}{4 \\times n_H \\times n_W \\times n_C}\\sum _{ \\text{all entries}} (a^{(C)} - a^{(G)})^2\\tag{1} $$\n",
        "\n",
        "Here, $n_H, n_W$ and $n_C$ are the height, width and number of channels of the hidden layer you have chosen, and appear in a normalization term in the cost. For clarity, note that $a^{(C)}$ and $a^{(G)}$ are the volumes corresponding to a hidden layer's activations. In order to compute the cost $J_{content}(C,G)$, it might also be convenient to unroll these 3D volumes into a 2D matrix, as shown below. (Technically this unrolling step isn't needed to compute $J_{content}$, but it will be good practice for when you do need to carry out a similar operation later for computing the style const $J_{style}$.)\n",
        "\n",
        "<img src=\"https://i.postimg.cc/YqbBM5jM/NST-LOSS.png\">\n",
        "\n"
      ]
    },
    {
      "metadata": {
        "id": "oulcXwqRmef8",
        "colab_type": "text"
      },
      "cell_type": "markdown",
      "source": [
        "**Exercise (10 points)**\n",
        "\n",
        "Compute the \"content cost\" using Chainer. \n",
        "\n",
        "**Instructions**: The 3 steps to implement this function are:\n",
        "1. Retrieve dimensions from a_G.\n",
        "2. Unroll a_C and a_G.\n",
        "3. Compute the content cost."
      ]
    },
    {
      "metadata": {
        "id": "weU2S2kjRQhS",
        "colab_type": "code",
        "colab": {}
      },
      "cell_type": "code",
      "source": [
        "def compute_content_cost(a_C, a_G):\n",
        "    \"\"\"\n",
        "    Computes the content cost\n",
        "    \n",
        "    Arguments:\n",
        "    a_C -- tensor of dimension (1, n_C, n_H, n_W), hidden layer activations representing content of the image C \n",
        "    a_G -- tensor of dimension (1, n_C, n_H, n_W), hidden layer activations representing content of the image G\n",
        "    \n",
        "    Returns: \n",
        "    J_content -- scalar that you compute using equation 1 above.\n",
        "    \"\"\"\n",
        "    \n",
        "    ### START CODE HERE ###\n",
        "    ### END CODE HERE ###\n",
        "    \n",
        "    return J_content"
      ],
      "execution_count": 0,
      "outputs": []
    },
    {
      "metadata": {
        "id": "RYz0cRopRcdm",
        "colab_type": "text"
      },
      "cell_type": "markdown",
      "source": [
        "### 3.2 - Computing the style cost\n",
        "\n",
        "For our running example, we will use the following style image: "
      ]
    },
    {
      "metadata": {
        "id": "iNmZT0MDRgRF",
        "colab_type": "code",
        "colab": {}
      },
      "cell_type": "code",
      "source": [
        "!wget https://upload.wikimedia.org/wikipedia/commons/thumb/e/ea/Van_Gogh_-_Starry_Night_-_Google_Art_Project.jpg/606px-Van_Gogh_-_Starry_Night_-_Google_Art_Project.jpg\n",
        "style_image = scipy.misc.imread(\"606px-Van_Gogh_-_Starry_Night_-_Google_Art_Project.jpg\")\n",
        "imshow(style_image)"
      ],
      "execution_count": 0,
      "outputs": []
    },
    {
      "metadata": {
        "id": "Dla9VKXZR3FS",
        "colab_type": "text"
      },
      "cell_type": "markdown",
      "source": [
        "### 3.2.1 - Style matrix\n",
        "\n",
        "The style matrix is also called a \"Gram matrix.\" In linear algebra, the Gram matrix G of a set of vectors $(v_{1},\\dots ,v_{n})$ is the matrix of dot products, whose entries are ${\\displaystyle G_{ij} = v_{i}^T v_{j} = np.dot(v_{i}, v_{j})  }$. In other words, $G_{ij}$ compares how similar $v_i$ is to $v_j$: If they are highly similar, you would expect them to have a large dot product, and thus for $G_{ij}$ to be large. \n",
        "\n",
        "Note that there is an unfortunate collision in the variable names used here. We are following common terminology used in the literature, but $G$ is used to denote the Style matrix (or Gram matrix) as well as to denote the generated image $G$. We will try to make sure which $G$ we are referring to is always clear from the context. \n",
        "\n",
        "In NST, you can compute the Style matrix by multiplying the \"unrolled\" filter matrix with their transpose:\n",
        "\n",
        "<img src=\"https://i.postimg.cc/Fzx5fqZb/NST-GM.png\">\n",
        "\n",
        "The result is a matrix of dimension $(n_C,n_C)$ where $n_C$ is the number of filters. The value $G_{ij}$ measures how similar the activations of filter $i$ are to the activations of filter $j$. \n",
        "\n",
        "One important part of the gram matrix is that the diagonal elements such as $G_{ii}$ also measures how active filter $i$ is. For example, suppose filter $i$ is detecting vertical textures in the image. Then $G_{ii}$ measures how common  vertical textures are in the image as a whole: If $G_{ii}$ is large, this means that the image has a lot of vertical texture. \n",
        "\n",
        "By capturing the prevalence of different types of features ($G_{ii}$), as well as how much different features occur together ($G_{ij}$), the Style matrix $G$ measures the style of an image. \n",
        "\n"
      ]
    },
    {
      "metadata": {
        "id": "s-qhGKlHh35q",
        "colab_type": "text"
      },
      "cell_type": "markdown",
      "source": [
        "**Exercise (10 points)**:\n",
        "Using Chainer, implement a function that computes the Gram matrix of a matrix A. The formula is: The gram matrix of A is $G_A = AA^T$."
      ]
    },
    {
      "metadata": {
        "id": "5eEIqKObR2cX",
        "colab_type": "code",
        "colab": {}
      },
      "cell_type": "code",
      "source": [
        "def gram_matrix(A):\n",
        "    \"\"\"\n",
        "    Argument:\n",
        "    A -- matrix of shape (n_C, n_H*n_W)\n",
        "    \n",
        "    Returns:\n",
        "    GA -- Gram matrix of A, of shape (n_C, n_C)\n",
        "    \"\"\"\n",
        "    \n",
        "    ### START CODE HERE ###\n",
        "    ### END CODE HERE ###\n",
        "    \n",
        "    return GA"
      ],
      "execution_count": 0,
      "outputs": []
    },
    {
      "metadata": {
        "id": "sddiBrDmSljO",
        "colab_type": "text"
      },
      "cell_type": "markdown",
      "source": [
        "### 3.2.2 - Style cost\n",
        "\n",
        "After generating the Style matrix (Gram matrix), your goal will be to minimize the distance between the Gram matrix of the \"style\" image S and that of the \"generated\" image G. For now, we are using only a single hidden layer $a^{[l]}$, and the corresponding style cost for this layer is defined as: \n",
        "\n",
        "$$J_{style}^{[l]}(S,G) = \\frac{1}{4 \\times {n_C}^2 \\times (n_H \\times n_W)^2} \\sum _{i=1}^{n_C}\\sum_{j=1}^{n_C}(G^{(S)}_{ij} - G^{(G)}_{ij})^2\\tag{2} $$\n",
        "\n",
        "where $G^{(S)}$ and $G^{(G)}$ are respectively the Gram matrices of the \"style\" image and the \"generated\" image, computed using the hidden layer activations for a particular hidden layer in the network.  \n"
      ]
    },
    {
      "metadata": {
        "id": "B-XaR79zh2F9",
        "colab_type": "text"
      },
      "cell_type": "markdown",
      "source": [
        "**Exercise (10 points)**:\n",
        "\n",
        "Compute the style cost for a single layer. \n",
        "\n",
        "The 3 steps to implement this function are:\n",
        "1. Retrieve dimensions from the hidden layer activations a_G\n",
        "2. Unroll the hidden layer activations a_S and a_G into 2D matrices, as explained in the picture above.\n",
        "3. Compute the Style matrix of the images S and G. (Use the function you had previously written.) \n",
        "4. Compute the Style cost."
      ]
    },
    {
      "metadata": {
        "id": "gR5-74r9R2eP",
        "colab_type": "code",
        "colab": {}
      },
      "cell_type": "code",
      "source": [
        "def compute_layer_style_cost(a_S, a_G):\n",
        "    \"\"\"\n",
        "    Arguments:\n",
        "    a_S -- tensor of dimension (1, n_C, n_H, n_W), hidden layer activations representing style of the image S \n",
        "    a_G -- tensor of dimension (1, n_C, n_H, n_W), hidden layer activations representing style of the image G\n",
        "    \n",
        "    Returns: \n",
        "    J_style_layer -- tensor representing a scalar value, style cost defined above by equation (2)\n",
        "    \"\"\"\n",
        "    \n",
        "    ### START CODE HERE ###\n",
        "    ### END CODE HERE ###\n",
        "    \n",
        "    return J_style_layer"
      ],
      "execution_count": 0,
      "outputs": []
    },
    {
      "metadata": {
        "id": "CzY5UKpWS7oT",
        "colab_type": "text"
      },
      "cell_type": "markdown",
      "source": [
        "### 3.2.3 Style Weights\n",
        "\n",
        "So far you have captured the style from only one layer. We'll get better results if we \"merge\" style costs from several different layers. After completing this exercise, feel free to come back and experiment with different weights to see how it changes the generated image $G$. But for now, this is a pretty reasonable default: "
      ]
    },
    {
      "metadata": {
        "id": "e5ojObTnS-T4",
        "colab_type": "code",
        "colab": {}
      },
      "cell_type": "code",
      "source": [
        "STYLE_LAYERS = [\n",
        "    ('conv1_1', 0.2),\n",
        "    ('conv2_1', 0.2),\n",
        "    ('conv3_1', 0.2),\n",
        "    ('conv4_1', 0.2),\n",
        "    ('conv5_1', 0.2)]"
      ],
      "execution_count": 0,
      "outputs": []
    },
    {
      "metadata": {
        "id": "KZQPbD64S-1H",
        "colab_type": "text"
      },
      "cell_type": "markdown",
      "source": [
        "You can combine the style costs for different layers as follows:\n",
        "\n",
        "$$J_{style}(S,G) = \\sum_{l} \\lambda^{[l]} J^{[l]}_{style}(S,G)$$\n",
        "\n",
        "where the values for $\\lambda^{[l]}$ are given in `STYLE_LAYERS`. \n"
      ]
    },
    {
      "metadata": {
        "id": "DY03-15KTC4D",
        "colab_type": "text"
      },
      "cell_type": "markdown",
      "source": [
        "**Exercise (10 points)**\n",
        "\n",
        "Implement the `compute_style_cost(...)` function. It should simply call the `compute_layer_style_cost(...)` several times, and weight their results using the values in `STYLE_LAYERS`."
      ]
    },
    {
      "metadata": {
        "id": "VDFDI3jHTOGz",
        "colab_type": "code",
        "colab": {}
      },
      "cell_type": "code",
      "source": [
        "def compute_style_cost(model, STYLE_LAYERS):\n",
        "    \"\"\"\n",
        "    Computes the overall style cost from several chosen layers\n",
        "    \n",
        "    Arguments:\n",
        "    model -- our tensorflow model\n",
        "    STYLE_LAYERS -- A python list containing:\n",
        "                        - the names of the layers we would like to extract style from\n",
        "                        - a coefficient for each of them\n",
        "    \n",
        "    Returns: \n",
        "    J_style -- tensor representing a scalar value, style cost defined above by equation (2)\n",
        "    \"\"\"\n",
        "    \n",
        "    ### START CODE HERE ###\n",
        "    ### END CODE HERE ###\n",
        "\n",
        "    return J_style"
      ],
      "execution_count": 0,
      "outputs": []
    },
    {
      "metadata": {
        "id": "BToaOaEQTjnL",
        "colab_type": "text"
      },
      "cell_type": "markdown",
      "source": [
        "Finally, let's create a cost function that minimizes both the style and the content cost. The formula is: \n",
        "\n",
        "$$J(G) = \\alpha J_{content}(C,G) + \\beta J_{style}(S,G)$$"
      ]
    },
    {
      "metadata": {
        "id": "enJWYsg-hlzQ",
        "colab_type": "text"
      },
      "cell_type": "markdown",
      "source": [
        "**Exercise (10 points)**\n",
        "\n",
        "Implement the total cost function which includes both the content cost and the style cost."
      ]
    },
    {
      "metadata": {
        "id": "21lvXvOETmcF",
        "colab_type": "code",
        "colab": {}
      },
      "cell_type": "code",
      "source": [
        "def total_cost(J_content, J_style, alpha = 10, beta = 40):\n",
        "    \"\"\"\n",
        "    Computes the total cost function\n",
        "    \n",
        "    Arguments:\n",
        "    J_content -- content cost coded above\n",
        "    J_style -- style cost coded above\n",
        "    alpha -- hyperparameter weighting the importance of the content cost\n",
        "    beta -- hyperparameter weighting the importance of the style cost\n",
        "    \n",
        "    Returns:\n",
        "    J -- total cost as defined by the formula above.\n",
        "    \"\"\"\n",
        "    \n",
        "    ### START CODE HERE ###\n",
        "    ### END CODE HERE ###\n",
        "    \n",
        "    return J"
      ],
      "execution_count": 0,
      "outputs": []
    },
    {
      "metadata": {
        "id": "Fsoq_edVTtzW",
        "colab_type": "text"
      },
      "cell_type": "markdown",
      "source": [
        "## 4 - Solving the optimization problem (50 points)"
      ]
    },
    {
      "metadata": {
        "id": "D-qlKsDgTw_o",
        "colab_type": "text"
      },
      "cell_type": "markdown",
      "source": [
        "Finally, let's put everything together to implement Neural Style Transfer!\n",
        "\n",
        "\n",
        "Here's what the program will have to do:\n",
        "<font color='purple'>\n",
        "\n",
        "1. Load the content image \n",
        "2. Load the style image\n",
        "3. Randomly initialize the image to be generated \n",
        "4. Load the VGG16 model\n",
        "5. Build a Chainer Model:\n",
        "    6. Run the content image through the VGG16 model and compute the content cost\n",
        "    7. Run the style image through the VGG16 model and compute the style cost\n",
        "    8. Compute the total cost\n",
        "    9. Define the optimizer and the learning rate\n",
        "10. Initialize the Chainer model and run it for a large number of iterations, updating the generated image at every step."
      ]
    },
    {
      "metadata": {
        "id": "4-GnfYUJUD_3",
        "colab_type": "text"
      },
      "cell_type": "markdown",
      "source": [
        "Let's load, reshape, and normalize our \"content\" image (the Louvre museum picture):"
      ]
    },
    {
      "metadata": {
        "id": "lAOZvT2vVmco",
        "colab_type": "code",
        "colab": {}
      },
      "cell_type": "code",
      "source": [
        "# TIP: How to make generated image model parameter\n",
        "# class Model(Chain):\n",
        "#     def __init__(self, generated_image):\n",
        "#         with self.init_scope():\n",
        "#             self.generated_image = chainer.Parameter(generated_image)\n",
        "    \n",
        "#     def __call__():\n",
        "#         return self.generated_image"
      ],
      "execution_count": 0,
      "outputs": []
    },
    {
      "metadata": {
        "id": "iRD_YG2XU8BJ",
        "colab_type": "text"
      },
      "cell_type": "markdown",
      "source": [
        "## 5 - Test with your own image (10 bonus points)\n",
        "\n",
        "Finally, you can also rerun the algorithm on your own images! \n",
        "\n",
        "You can also tune your hyperparameters: \n",
        "- Which layers are responsible for representing the style? STYLE_LAYERS\n",
        "- How many iterations do you want to run the algorithm? num_iterations\n",
        "- What is the relative weighting between content and style? alpha/beta"
      ]
    },
    {
      "metadata": {
        "id": "Qmm0eeVWUtej",
        "colab_type": "text"
      },
      "cell_type": "markdown",
      "source": [
        "## 7 - Conclusion\n",
        "\n",
        "Great job on completing this assignment! You are now able to use Neural Style Transfer to generate artistic images. This is also your first time building a model in which the optimization algorithm updates the pixel values rather than the neural network's parameters. Deep learning has many different types of models and this is only one of them! \n",
        "\n",
        "<font color='blue'>\n",
        "What you should remember:\n",
        "- Neural Style Transfer is an algorithm that given a content image C and a style image S can generate an artistic image\n",
        "- It uses representations (hidden layer activations) based on a pretrained ConvNet. \n",
        "- The content cost function is computed using one hidden layer's activations.\n",
        "- The style cost function for one layer is computed using the Gram matrix of that layer's activations. The overall style cost function is obtained using several hidden layers.\n",
        "- Optimizing the total cost function results in synthesizing new images."
      ]
    },
    {
      "metadata": {
        "id": "s7FenW_ZUzzM",
        "colab_type": "text"
      },
      "cell_type": "markdown",
      "source": [
        "### References:\n",
        "\n",
        "The Neural Style Transfer algorithm was due to Gatys et al. (2015). Harish Narayanan and Github user \"log0\" also have highly readable write-ups from which we drew inspiration. The pre-trained network used in this implementation is a VGG network, which is due to Simonyan and Zisserman (2015).\n",
        "\n",
        "- Leon A. Gatys, Alexander S. Ecker, Matthias Bethge, (2015). A Neural Algorithm of Artistic Style (https://arxiv.org/abs/1508.06576) \n",
        "- Harish Narayanan, Convolutional neural networks for artistic style transfer. https://harishnarayanan.org/writing/artistic-style-transfer/\n",
        "- Log0, TensorFlow Implementation of \"A Neural Algorithm of Artistic Style\". http://www.chioka.in/tensorflow-implementation-neural-algorithm-of-artistic-style\n",
        "- Karen Simonyan and Andrew Zisserman (2015). Very deep convolutional networks for large-scale image recognition (https://arxiv.org/pdf/1409.1556.pdf)"
      ]
    }
  ]
}