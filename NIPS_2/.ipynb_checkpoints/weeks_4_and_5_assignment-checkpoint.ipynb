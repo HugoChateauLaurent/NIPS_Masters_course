{
 "cells": [
  {
   "cell_type": "markdown",
   "metadata": {
    "colab_type": "text",
    "id": "TSXuZhUcyvhd"
   },
   "source": [
    "**SOW-MKI49: Neural Information Processing Systems**  \n",
    "*Weeks 4 and 5: Assignment (225 points + 30 bonus points)*  \n",
    "Author: Umut"
   ]
  },
  {
   "cell_type": "code",
   "execution_count": 70,
   "metadata": {
    "colab": {},
    "colab_type": "code",
    "id": "hP3SeQrNyrLC"
   },
   "outputs": [],
   "source": [
    "# Group number: 24\n",
    "# Franka Buytenhuijs, s4356845\n",
    "# Hugo Chateau-Laurent, s1023970\n",
    "# Maria Tsfasman, s1021505"
   ]
  },
  {
   "cell_type": "code",
   "execution_count": 71,
   "metadata": {
    "colab": {},
    "colab_type": "code",
    "id": "n6Dbkc4t0LNa"
   },
   "outputs": [],
   "source": [
    "from chainer import ChainList, optimizers, serializers\n",
    "import chainer\n",
    "import chainer.functions as F\n",
    "import chainer.links as L\n",
    "import numpy as np\n",
    "import cupy\n",
    "\n",
    "# start\n",
    "# end"
   ]
  },
  {
   "cell_type": "markdown",
   "metadata": {
    "colab_type": "text",
    "id": "RdDhV9ro3HS6"
   },
   "source": [
    "**WaveNet component (75 points)**\n",
    "\n",
    "* Implement missing parts of the call method (y and z). **25 points**\n",
    "* Implement residual block class. **50 points**\n",
    "\n",
    "---\n",
    "Reminder:\n",
    "\n",
    "* One convolution layer that has 61 kernels of size 2 with no nonlinearities.\n",
    "![alt text](http://i67.tinypic.com/21mgi2w.png)\n",
    "![alt text](http://i67.tinypic.com/292n04y.png)\n",
    "---\n",
    "\n"
   ]
  },
  {
   "cell_type": "code",
   "execution_count": 72,
   "metadata": {
    "colab": {},
    "colab_type": "code",
    "id": "xZsQTKPI3Fcy",
    "scrolled": true
   },
   "outputs": [],
   "source": [
    "# The output of the first layer is the input of the first block. \n",
    "# Each block has two outputs. Let's call them A and B. A is the input of the next block. \n",
    "# B is summed with B of other blocks. A of last block is discarded, and ΣB is the input \n",
    "# of the first layer after the last block.\n",
    "\n",
    "class _WaveNet(ChainList):\n",
    "    def __init__(self):\n",
    "        links = (L.Convolution2D(61, 61, (1, 2)),)\n",
    "        links += tuple(_ResidualBlock((1, 2 ** (i % 6))) for i in range(6))\n",
    "        links += (L.Convolution2D(512, 512, 1),)\n",
    "        links += (L.Convolution2D(512, 3843, 1),) # two parallel in one -> use split\n",
    "\n",
    "        super(_WaveNet, self).__init__(*links)\n",
    "\n",
    "    def __call__(self, x):\n",
    "        y = (self[0](F.pad(x, ((0, 0), (0, 0), (0, 0), (1, 0)), 'constant')),) # first layer output\n",
    "        z = 0\n",
    "\n",
    "        for i in range(1, len(self) - 2):\n",
    "            y = self[i](y[0]) # call block with output from first parallel layer of previous block\n",
    "            z += y[1] # sum output of second parallel layers of all blocks\n",
    "        \n",
    "        z = self[7](z) # output of second parallel layer of last block as input\n",
    "        z = F.relu(z)\n",
    "    \n",
    "        k, psi_u = F.split_axis(self[8](z), (3721,), 1) # pairwise=k and unary=psi-u on lecture slide 26\n",
    "\n",
    "        return F.reshape(k, (k.shape[0], 61, 61, k.shape[3])), \\\n",
    "               F.reshape(psi_u, (psi_u.shape[0], 2, 61, psi_u.shape[3]))\n",
    "\n",
    "\n",
    "\n",
    "\n",
    "class _ResidualBlock(ChainList):\n",
    "    def __init__(self, dilation):\n",
    "\n",
    "        links = (L.DilatedConvolution2D(61, 122, (1, 2), dilate = dilation),  #convolution layer that has 61 (122) dilated kernels of size 2 with gated activation units.\n",
    "                     L.Convolution2D(61, 61, 1),\n",
    "                     L.Convolution2D(61, 512, 1),)\n",
    "        super(_ResidualBlock, self).__init__(*links)\n",
    "\n",
    "    def __call__(self, x, finetune = False):\n",
    "        # start 2\n",
    "        #gated activation unit (taken from slide 17+18)\n",
    "        #layer = L.(Dilated)Convolution2D(..., 2 x out_channels, ...)\n",
    "        #h = F.split_axis(layer(x), 2, 1)\n",
    "        #y = F.sigmoid(h[0]) * F.tanh(h[1])\n",
    " \n",
    "        # first layer\n",
    "       \n",
    "        y= self[0](F.pad(x, ((0, 0), (0, 0), (0, 0), (self[0].dilate[1], 0)), 'constant'))\n",
    "        y = F.split_axis(y, 2, 1)\n",
    "\n",
    "        y = F.sigmoid(y[0]) * F.tanh(y[1]) # gated activation unit\n",
    "        \n",
    "\n",
    "        # parallel layers\n",
    "        y1 = self[1](y)        \n",
    "        y2 = self[2](y)\n",
    "        \n",
    "        return x + y1, y2\n",
    "    \n",
    "        # end"
   ]
  },
  {
   "cell_type": "markdown",
   "metadata": {
    "colab_type": "text",
    "id": "SFoUw1ve3wGY"
   },
   "source": [
    "**CRF-RNN component (50 points)**\n",
    "\n",
    "* Implement missing parts of the call method (z). **25 points**\n",
    "* Why is z not normalized in the last iteration? **25 points**\n",
    "\n",
    "---\n",
    "\n",
    "Reminder:\n",
    "\n",
    "![alt text](http://i68.tinypic.com/sy6mix.png)\n",
    "\n",
    "---"
   ]
  },
  {
   "cell_type": "code",
   "execution_count": 73,
   "metadata": {
    "colab": {},
    "colab_type": "code",
    "id": "dV1Pd5l3w2ge"
   },
   "outputs": [],
   "source": [
    "class _CRF(ChainList):\n",
    "    def __init__(self):\n",
    "        super(_CRF, self).__init__(L.ConvolutionND(1, 2, 2, 1, nobias = True))\n",
    "\n",
    "    def __call__(self, k, psi_u):\n",
    "        Q = F.softmax(-psi_u)\n",
    "\n",
    "        for i in range(5): #input for first layer after first 4 iterations, and output after 5th iteration\n",
    "            \n",
    "            # message passing layer\n",
    "            Q = F.batch_matmul(Q, k)\n",
    "            #Q.shape # should be N × 2 x 61 tensor\n",
    "            \n",
    "            # compatibility transform layer\n",
    "            Q = self[0](Q)\n",
    "            Q = -psi_u - Q\n",
    "            #Q.shape # should be N × 2 x 61 tensor\n",
    "            \n",
    "            # local update and normalization layer            \n",
    "            if i < 4:\n",
    "                Q = F.softmax(Q)\n",
    "                #Q.shape # should be N × 2 x 61 tensor\n",
    "                \n",
    "        return Q\n",
    "#Question: We normalize over z to get the conditional probability p(y|x). \n",
    "#In the last layer we dont need that anymore... (make more specific)"
   ]
  },
  {
   "cell_type": "markdown",
   "metadata": {
    "colab_type": "text",
    "id": "BvbxbgS64Z1Y"
   },
   "source": [
    "**WaveCRF model (50 points)**\n",
    "\n",
    "1. Implement missing parts of the call method (k, psi_u and Q_hat). **20 points**\n",
    "2. Implement missing parts of the save and load methods (save and load model). **10 points**\n",
    "3. Implement missing parts of the test and train methods (forward and/or backward propagate). **20 points**"
   ]
  },
  {
   "cell_type": "code",
   "execution_count": 74,
   "metadata": {
    "colab": {},
    "colab_type": "code",
    "id": "ACORyKorw_T1"
   },
   "outputs": [],
   "source": [
    "class WaveCRF(object):\n",
    "    def __init__(self):\n",
    "        self.log = {('test', 'accuracy'): (), ('test', 'loss'): (), ('training', 'accuracy'): (),\n",
    "                    ('training', 'loss'): ()}\n",
    "        self.model = ChainList(_WaveNet(), _CRF())\n",
    "        self.optimizer = optimizers.Adam(0.0002, 0.5)\n",
    "\n",
    "        self.optimizer.setup(self.model)\n",
    "\n",
    "    def __call__(self, x):\n",
    "        k, psi_u = self.model[0](x) #k and psi_u are 4D\n",
    "       \n",
    "        k = F.transpose(k, (0, 3, 1, 2))  \n",
    "        k = F.reshape(k, (-1, 61, 61)) #let k be an N x 61 x 61 tensor\n",
    "        \n",
    "        psi_u = F.transpose(psi_u, (0, 3, 1, 2))\n",
    "        psi_u = F.reshape(psi_u, (-1, 2, 61)) #let ψu be an N x 2 x 61 tensor\n",
    "        \n",
    "        Q_hat = self.model[1](k, psi_u) #batch_matmul only takes 3D arrays so reshape necessary\n",
    "\n",
    "        return F.transpose(F.reshape(Q_hat, (x.shape[0], x.shape[3], 2, 61)), (0, 2, 3, 1))\n",
    "\n",
    "    @classmethod\n",
    "    def load(cls, directory):\n",
    "        self = cls()\n",
    "        self.log = np.load('{}/log.npy'.format(directory))\n",
    "\n",
    "        serializers.load_npz('{}/weights.npz'.format(directory), self.model)\n",
    "        serializers.load_npz('{}/optimizer.npz'.format(directory), self.optimizer)\n",
    "\n",
    "        return self\n",
    "\n",
    "    def save(self, directory):\n",
    "        np.save('{}/log.npy'.format(directory), self.log)\n",
    "        serializers.save_npz('{}/weights.npz'.format(directory), self.model)\n",
    "        serializers.save_npz('{}/optimizer.npz'.format(directory), self.optimizer)\n",
    "\n",
    "    def test(self, Q, x):\n",
    "        with chainer.using_config('train', False):\n",
    "            Q_hat = self(x)\n",
    "            loss = F.softmax_cross_entropy(Q_hat, Q)\n",
    "            \n",
    "            self.log['test', 'accuracy'] += (float(F.accuracy(Q_hat, Q).data),)\n",
    "            self.log['test', 'loss'] += (float(loss.data),)\n",
    "\n",
    "    \n",
    "    def train(self, Q, x):\n",
    "        # Forward prop\n",
    "        Q_hat = self(x)\n",
    "        # Forward prop end\n",
    "        loss = F.softmax_cross_entropy(Q_hat, Q)\n",
    "        # Backprop start\n",
    "        self.model.cleargrads()\n",
    "        loss.backward()\n",
    "        self.optimizer.update()\n",
    "        # Backprop end\n",
    "        \n",
    "\n",
    "        self.log['training', 'accuracy'] += (float(F.accuracy(Q_hat, Q).data),)\n",
    "        self.log['training', 'loss'] += (float(loss.data),)"
   ]
  },
  {
   "cell_type": "code",
   "execution_count": 75,
   "metadata": {
    "colab": {},
    "colab_type": "code",
    "id": "sN6H9URT926N"
   },
   "outputs": [],
   "source": [
    "%matplotlib inline\n",
    "\n",
    "import IPython\n",
    "import chainer\n",
    "import matplotlib.pyplot\n",
    "import numpy\n",
    "import os\n",
    "import pickle\n",
    "import random\n",
    "import tqdm\n",
    "\n",
    "# start\n",
    "from zipfile import ZipFile\n",
    "import bz2\n",
    "\n",
    "# end "
   ]
  },
  {
   "cell_type": "code",
   "execution_count": 76,
   "metadata": {
    "colab": {},
    "colab_type": "code",
    "id": "_tS3Y0yWwb3r"
   },
   "outputs": [],
   "source": [
    "batch_size = 30\n",
    "epochs = 100\n",
    "root = '.'"
   ]
  },
  {
   "cell_type": "code",
   "execution_count": 77,
   "metadata": {
    "colab": {},
    "colab_type": "code",
    "id": "VRcSp6shwg_Y"
   },
   "outputs": [],
   "source": [
    "# start\n",
    "def save(filename, myobj):\n",
    "    \"\"\"\n",
    "    save object to file using pickle\n",
    "    \n",
    "    @param filename: name of destination file\n",
    "    @type filename: str\n",
    "    @param myobj: object to save (has to be pickleable)\n",
    "    @type myobj: obj\n",
    "    \"\"\"\n",
    "\n",
    "    try:\n",
    "        f = bz2.BZ2File(filename, 'wb')\n",
    "    except (IOError, details) as err:\n",
    "        sys.stderr.write('File ' + filename + ' cannot be written\\n')\n",
    "        sys.stderr.write(err[1])\n",
    "        return\n",
    "\n",
    "    pickle.dump(myobj, f, protocol=2)\n",
    "    f.close()\n",
    "    \n",
    "def load(filename):\n",
    "    \"\"\"\n",
    "    Load from filename using pickle\n",
    "    \n",
    "    @param filename: name of file to load from\n",
    "    @type filename: str\n",
    "    \"\"\"\n",
    "\n",
    "    try:\n",
    "        f = bz2.BZ2File(filename, 'rb')\n",
    "    except (IOError, details) as err:\n",
    "        sys.stderr.write('File ' + filename + ' cannot be read\\n')\n",
    "        sys.stderr.write(err[1])\n",
    "        return\n",
    "\n",
    "    myobj = pickle.load(f)\n",
    "    f.close()\n",
    "    return myobj\n",
    "\n",
    "save = False\n",
    "if save:\n",
    "    with open('{}/Data/piano_rolls.p'.format(root), 'rb') as f:\n",
    "        piano_rolls = pickle.load(f)\n",
    "        save('{}/Data/compressed_piano_rolls.p'.format(root), piano_rolls)\n",
    "piano_rolls = load('{}/Data/compressed_piano_rolls.p'.format(root))\n",
    "# end\n",
    "\n",
    "        \n",
    "'''\n",
    "# for file\n",
    "with open('{}/Data/piano_rolls.p'.format(root), 'rb') as f:\n",
    "    piano_rolls = pickle.load(f)\n",
    "'''\n",
    "\n",
    "keys = sorted(piano_rolls.keys())\n",
    "\n",
    "random.seed(6)\n",
    "random.shuffle(keys)\n",
    "\n",
    "\n",
    "test_set = dict((key, piano_rolls[key]) for key in keys[:int(0.1 * len(keys))])\n",
    "training_set = dict((key, piano_rolls[key]) for key in keys[int(0.1 * len(keys)):])\n",
    "training_set_keys = list(training_set.keys())"
   ]
  },
  {
   "cell_type": "code",
   "execution_count": 106,
   "metadata": {
    "colab": {},
    "colab_type": "code",
    "id": "YUVzWwIJwjQ7"
   },
   "outputs": [
    {
     "data": {
      "text/plain": [
       "<chainer.link.ChainList at 0x7f2c260fb4e0>"
      ]
     },
     "execution_count": 106,
     "metadata": {},
     "output_type": "execute_result"
    }
   ],
   "source": [
    "if False:\n",
    "    # model from scratch\n",
    "    waveCRF = WaveCRF()\n",
    "else:\n",
    "    # model from trained weights\n",
    "    waveCRF = WaveCRF.load(\"./100\")\n",
    "\n",
    "waveCRF.model.to_gpu()"
   ]
  },
  {
   "cell_type": "code",
   "execution_count": 79,
   "metadata": {
    "colab": {},
    "colab_type": "code",
    "id": "4zWuKZ1EwlKa"
   },
   "outputs": [
    {
     "data": {
      "image/png": "[encoded data removed]",
      "text/plain": [
       "<matplotlib.figure.Figure at 0x7f2c10ce50b8>"
      ]
     },
     "metadata": {},
     "output_type": "display_data"
    },
    {
     "data": {
      "application/vnd.jupyter.widget-view+json": {
       "model_id": "",
       "version_major": 2,
       "version_minor": 0
      },
      "text/plain": [
       "HBox(children=(IntProgress(value=0, max=3273), HTML(value='')))"
      ]
     },
     "metadata": {},
     "output_type": "display_data"
    },
    {
     "data": {
      "application/vnd.jupyter.widget-view+json": {
       "model_id": "b6ed6490316d42f894035f353feecdcb",
       "version_major": 2,
       "version_minor": 0
      },
      "text/plain": [
       "HBox(children=(IntProgress(value=0, max=363), HTML(value='')))"
      ]
     },
     "metadata": {},
     "output_type": "display_data"
    },
    {
     "ename": "KeyboardInterrupt",
     "evalue": "",
     "output_type": "error",
     "traceback": [
      "\u001b[0;31m---------------------------------------------------------------------------\u001b[0m",
      "\u001b[0;31mKeyboardInterrupt\u001b[0m                         Traceback (most recent call last)",
      "\u001b[0;32m<ipython-input-79-da324df1035e>\u001b[0m in \u001b[0;36m<module>\u001b[0;34m()\u001b[0m\n\u001b[1;32m     26\u001b[0m         \u001b[0mbatch\u001b[0m \u001b[0;34m=\u001b[0m \u001b[0mwaveCRF\u001b[0m\u001b[0;34m.\u001b[0m\u001b[0mmodel\u001b[0m\u001b[0;34m.\u001b[0m\u001b[0mxp\u001b[0m\u001b[0;34m.\u001b[0m\u001b[0marray\u001b[0m\u001b[0;34m(\u001b[0m\u001b[0;34m(\u001b[0m\u001b[0mtest_set\u001b[0m\u001b[0;34m[\u001b[0m\u001b[0mkey\u001b[0m\u001b[0;34m]\u001b[0m\u001b[0;34m[\u001b[0m\u001b[0;36m32\u001b[0m \u001b[0;34m:\u001b[0m \u001b[0;36m93\u001b[0m\u001b[0;34m]\u001b[0m\u001b[0;34m,\u001b[0m\u001b[0;34m)\u001b[0m\u001b[0;34m)\u001b[0m\u001b[0;34m\u001b[0m\u001b[0m\n\u001b[1;32m     27\u001b[0m \u001b[0;34m\u001b[0m\u001b[0m\n\u001b[0;32m---> 28\u001b[0;31m         \u001b[0mwaveCRF\u001b[0m\u001b[0;34m.\u001b[0m\u001b[0mtest\u001b[0m\u001b[0;34m(\u001b[0m\u001b[0mbatch\u001b[0m\u001b[0;34m[\u001b[0m\u001b[0;34m:\u001b[0m\u001b[0;34m,\u001b[0m \u001b[0;34m:\u001b[0m\u001b[0;34m,\u001b[0m \u001b[0;36m1\u001b[0m\u001b[0;34m:\u001b[0m\u001b[0;34m]\u001b[0m\u001b[0;34m.\u001b[0m\u001b[0mastype\u001b[0m\u001b[0;34m(\u001b[0m\u001b[0;34m'i'\u001b[0m\u001b[0;34m)\u001b[0m\u001b[0;34m,\u001b[0m \u001b[0mbatch\u001b[0m\u001b[0;34m[\u001b[0m\u001b[0;34m:\u001b[0m\u001b[0;34m,\u001b[0m \u001b[0;34m:\u001b[0m\u001b[0;34m,\u001b[0m \u001b[0;32mNone\u001b[0m\u001b[0;34m,\u001b[0m \u001b[0;34m:\u001b[0m\u001b[0;34m-\u001b[0m\u001b[0;36m1\u001b[0m\u001b[0;34m]\u001b[0m\u001b[0;34m.\u001b[0m\u001b[0mastype\u001b[0m\u001b[0;34m(\u001b[0m\u001b[0;34m'f'\u001b[0m\u001b[0;34m)\u001b[0m\u001b[0;34m)\u001b[0m\u001b[0;34m\u001b[0m\u001b[0m\n\u001b[0m\u001b[1;32m     29\u001b[0m \u001b[0;34m\u001b[0m\u001b[0m\n\u001b[1;32m     30\u001b[0m     \u001b[0mIPython\u001b[0m\u001b[0;34m.\u001b[0m\u001b[0mdisplay\u001b[0m\u001b[0;34m.\u001b[0m\u001b[0mclear_output\u001b[0m\u001b[0;34m(\u001b[0m\u001b[0;34m)\u001b[0m\u001b[0;34m\u001b[0m\u001b[0m\n",
      "\u001b[0;32m<ipython-input-74-e4805173e235>\u001b[0m in \u001b[0;36mtest\u001b[0;34m(self, Q, x)\u001b[0m\n\u001b[1;32m     38\u001b[0m     \u001b[0;32mdef\u001b[0m \u001b[0mtest\u001b[0m\u001b[0;34m(\u001b[0m\u001b[0mself\u001b[0m\u001b[0;34m,\u001b[0m \u001b[0mQ\u001b[0m\u001b[0;34m,\u001b[0m \u001b[0mx\u001b[0m\u001b[0;34m)\u001b[0m\u001b[0;34m:\u001b[0m\u001b[0;34m\u001b[0m\u001b[0m\n\u001b[1;32m     39\u001b[0m         \u001b[0;32mwith\u001b[0m \u001b[0mchainer\u001b[0m\u001b[0;34m.\u001b[0m\u001b[0musing_config\u001b[0m\u001b[0;34m(\u001b[0m\u001b[0;34m'train'\u001b[0m\u001b[0;34m,\u001b[0m \u001b[0;32mFalse\u001b[0m\u001b[0;34m)\u001b[0m\u001b[0;34m:\u001b[0m\u001b[0;34m\u001b[0m\u001b[0m\n\u001b[0;32m---> 40\u001b[0;31m             \u001b[0mQ_hat\u001b[0m \u001b[0;34m=\u001b[0m \u001b[0mself\u001b[0m\u001b[0;34m(\u001b[0m\u001b[0mx\u001b[0m\u001b[0;34m)\u001b[0m\u001b[0;34m\u001b[0m\u001b[0m\n\u001b[0m\u001b[1;32m     41\u001b[0m             \u001b[0mloss\u001b[0m \u001b[0;34m=\u001b[0m \u001b[0mF\u001b[0m\u001b[0;34m.\u001b[0m\u001b[0msoftmax_cross_entropy\u001b[0m\u001b[0;34m(\u001b[0m\u001b[0mQ_hat\u001b[0m\u001b[0;34m,\u001b[0m \u001b[0mQ\u001b[0m\u001b[0;34m)\u001b[0m\u001b[0;34m\u001b[0m\u001b[0m\n\u001b[1;32m     42\u001b[0m \u001b[0;34m\u001b[0m\u001b[0m\n",
      "\u001b[0;32m<ipython-input-74-e4805173e235>\u001b[0m in \u001b[0;36m__call__\u001b[0;34m(self, x)\u001b[0m\n\u001b[1;32m      9\u001b[0m \u001b[0;34m\u001b[0m\u001b[0m\n\u001b[1;32m     10\u001b[0m     \u001b[0;32mdef\u001b[0m \u001b[0m__call__\u001b[0m\u001b[0;34m(\u001b[0m\u001b[0mself\u001b[0m\u001b[0;34m,\u001b[0m \u001b[0mx\u001b[0m\u001b[0;34m)\u001b[0m\u001b[0;34m:\u001b[0m\u001b[0;34m\u001b[0m\u001b[0m\n\u001b[0;32m---> 11\u001b[0;31m         \u001b[0mk\u001b[0m\u001b[0;34m,\u001b[0m \u001b[0mpsi_u\u001b[0m \u001b[0;34m=\u001b[0m \u001b[0mself\u001b[0m\u001b[0;34m.\u001b[0m\u001b[0mmodel\u001b[0m\u001b[0;34m[\u001b[0m\u001b[0;36m0\u001b[0m\u001b[0;34m]\u001b[0m\u001b[0;34m(\u001b[0m\u001b[0mx\u001b[0m\u001b[0;34m)\u001b[0m \u001b[0;31m#k and psi_u are 4D\u001b[0m\u001b[0;34m\u001b[0m\u001b[0m\n\u001b[0m\u001b[1;32m     12\u001b[0m \u001b[0;34m\u001b[0m\u001b[0m\n\u001b[1;32m     13\u001b[0m         \u001b[0mk\u001b[0m \u001b[0;34m=\u001b[0m \u001b[0mF\u001b[0m\u001b[0;34m.\u001b[0m\u001b[0mtranspose\u001b[0m\u001b[0;34m(\u001b[0m\u001b[0mk\u001b[0m\u001b[0;34m,\u001b[0m \u001b[0;34m(\u001b[0m\u001b[0;36m0\u001b[0m\u001b[0;34m,\u001b[0m \u001b[0;36m3\u001b[0m\u001b[0;34m,\u001b[0m \u001b[0;36m1\u001b[0m\u001b[0;34m,\u001b[0m \u001b[0;36m2\u001b[0m\u001b[0;34m)\u001b[0m\u001b[0;34m)\u001b[0m\u001b[0;34m\u001b[0m\u001b[0m\n",
      "\u001b[0;32m<ipython-input-72-2a5d4a00409d>\u001b[0m in \u001b[0;36m__call__\u001b[0;34m(self, x)\u001b[0m\n\u001b[1;32m     18\u001b[0m \u001b[0;34m\u001b[0m\u001b[0m\n\u001b[1;32m     19\u001b[0m         \u001b[0;32mfor\u001b[0m \u001b[0mi\u001b[0m \u001b[0;32min\u001b[0m \u001b[0mrange\u001b[0m\u001b[0;34m(\u001b[0m\u001b[0;36m1\u001b[0m\u001b[0;34m,\u001b[0m \u001b[0mlen\u001b[0m\u001b[0;34m(\u001b[0m\u001b[0mself\u001b[0m\u001b[0;34m)\u001b[0m \u001b[0;34m-\u001b[0m \u001b[0;36m2\u001b[0m\u001b[0;34m)\u001b[0m\u001b[0;34m:\u001b[0m\u001b[0;34m\u001b[0m\u001b[0m\n\u001b[0;32m---> 20\u001b[0;31m             \u001b[0my\u001b[0m \u001b[0;34m=\u001b[0m \u001b[0mself\u001b[0m\u001b[0;34m[\u001b[0m\u001b[0mi\u001b[0m\u001b[0;34m]\u001b[0m\u001b[0;34m(\u001b[0m\u001b[0my\u001b[0m\u001b[0;34m[\u001b[0m\u001b[0;36m0\u001b[0m\u001b[0;34m]\u001b[0m\u001b[0;34m)\u001b[0m \u001b[0;31m# call block with output from first parallel layer of previous block\u001b[0m\u001b[0;34m\u001b[0m\u001b[0m\n\u001b[0m\u001b[1;32m     21\u001b[0m             \u001b[0mz\u001b[0m \u001b[0;34m+=\u001b[0m \u001b[0my\u001b[0m\u001b[0;34m[\u001b[0m\u001b[0;36m1\u001b[0m\u001b[0;34m]\u001b[0m \u001b[0;31m# sum output of second parallel layers of all blocks\u001b[0m\u001b[0;34m\u001b[0m\u001b[0m\n\u001b[1;32m     22\u001b[0m \u001b[0;34m\u001b[0m\u001b[0m\n",
      "\u001b[0;32m<ipython-input-72-2a5d4a00409d>\u001b[0m in \u001b[0;36m__call__\u001b[0;34m(self, x, finetune)\u001b[0m\n\u001b[1;32m     56\u001b[0m         \u001b[0;31m# parallel layers\u001b[0m\u001b[0;34m\u001b[0m\u001b[0;34m\u001b[0m\u001b[0m\n\u001b[1;32m     57\u001b[0m         \u001b[0my1\u001b[0m \u001b[0;34m=\u001b[0m \u001b[0mself\u001b[0m\u001b[0;34m[\u001b[0m\u001b[0;36m1\u001b[0m\u001b[0;34m]\u001b[0m\u001b[0;34m(\u001b[0m\u001b[0my\u001b[0m\u001b[0;34m)\u001b[0m\u001b[0;34m\u001b[0m\u001b[0m\n\u001b[0;32m---> 58\u001b[0;31m         \u001b[0my2\u001b[0m \u001b[0;34m=\u001b[0m \u001b[0mself\u001b[0m\u001b[0;34m[\u001b[0m\u001b[0;36m2\u001b[0m\u001b[0;34m]\u001b[0m\u001b[0;34m(\u001b[0m\u001b[0my\u001b[0m\u001b[0;34m)\u001b[0m\u001b[0;34m\u001b[0m\u001b[0m\n\u001b[0m\u001b[1;32m     59\u001b[0m \u001b[0;34m\u001b[0m\u001b[0m\n\u001b[1;32m     60\u001b[0m         \u001b[0;32mreturn\u001b[0m \u001b[0mx\u001b[0m \u001b[0;34m+\u001b[0m \u001b[0my1\u001b[0m\u001b[0;34m,\u001b[0m \u001b[0my2\u001b[0m\u001b[0;34m\u001b[0m\u001b[0m\n",
      "\u001b[0;32m/usr/local/lib/python3.5/dist-packages/chainer/links/connection/convolution_2d.py\u001b[0m in \u001b[0;36m__call__\u001b[0;34m(self, x)\u001b[0m\n\u001b[1;32m    173\u001b[0m         return convolution_2d.convolution_2d(\n\u001b[1;32m    174\u001b[0m             \u001b[0mx\u001b[0m\u001b[0;34m,\u001b[0m \u001b[0mself\u001b[0m\u001b[0;34m.\u001b[0m\u001b[0mW\u001b[0m\u001b[0;34m,\u001b[0m \u001b[0mself\u001b[0m\u001b[0;34m.\u001b[0m\u001b[0mb\u001b[0m\u001b[0;34m,\u001b[0m \u001b[0mself\u001b[0m\u001b[0;34m.\u001b[0m\u001b[0mstride\u001b[0m\u001b[0;34m,\u001b[0m \u001b[0mself\u001b[0m\u001b[0;34m.\u001b[0m\u001b[0mpad\u001b[0m\u001b[0;34m,\u001b[0m \u001b[0mdilate\u001b[0m\u001b[0;34m=\u001b[0m\u001b[0mself\u001b[0m\u001b[0;34m.\u001b[0m\u001b[0mdilate\u001b[0m\u001b[0;34m,\u001b[0m\u001b[0;34m\u001b[0m\u001b[0m\n\u001b[0;32m--> 175\u001b[0;31m             groups=self.groups)\n\u001b[0m\u001b[1;32m    176\u001b[0m \u001b[0;34m\u001b[0m\u001b[0m\n\u001b[1;32m    177\u001b[0m \u001b[0;34m\u001b[0m\u001b[0m\n",
      "\u001b[0;32m/usr/local/lib/python3.5/dist-packages/chainer/functions/connection/convolution_2d.py\u001b[0m in \u001b[0;36mconvolution_2d\u001b[0;34m(x, W, b, stride, pad, cover_all, **kwargs)\u001b[0m\n\u001b[1;32m    580\u001b[0m     \u001b[0;32melse\u001b[0m\u001b[0;34m:\u001b[0m\u001b[0;34m\u001b[0m\u001b[0m\n\u001b[1;32m    581\u001b[0m         \u001b[0margs\u001b[0m \u001b[0;34m=\u001b[0m \u001b[0mx\u001b[0m\u001b[0;34m,\u001b[0m \u001b[0mW\u001b[0m\u001b[0;34m,\u001b[0m \u001b[0mb\u001b[0m\u001b[0;34m\u001b[0m\u001b[0m\n\u001b[0;32m--> 582\u001b[0;31m     \u001b[0my\u001b[0m\u001b[0;34m,\u001b[0m \u001b[0;34m=\u001b[0m \u001b[0mfnode\u001b[0m\u001b[0;34m.\u001b[0m\u001b[0mapply\u001b[0m\u001b[0;34m(\u001b[0m\u001b[0margs\u001b[0m\u001b[0;34m)\u001b[0m\u001b[0;34m\u001b[0m\u001b[0m\n\u001b[0m\u001b[1;32m    583\u001b[0m     \u001b[0;32mreturn\u001b[0m \u001b[0my\u001b[0m\u001b[0;34m\u001b[0m\u001b[0m\n",
      "\u001b[0;32m/usr/local/lib/python3.5/dist-packages/chainer/function_node.py\u001b[0m in \u001b[0;36mapply\u001b[0;34m(self, inputs)\u001b[0m\n\u001b[1;32m    224\u001b[0m         \u001b[0minput_vars\u001b[0m \u001b[0;34m=\u001b[0m \u001b[0;34m[\u001b[0m\u001b[0mchainer\u001b[0m\u001b[0;34m.\u001b[0m\u001b[0mas_variable\u001b[0m\u001b[0;34m(\u001b[0m\u001b[0mx\u001b[0m\u001b[0;34m)\u001b[0m \u001b[0;32mfor\u001b[0m \u001b[0mx\u001b[0m \u001b[0;32min\u001b[0m \u001b[0minputs\u001b[0m\u001b[0;34m]\u001b[0m\u001b[0;34m\u001b[0m\u001b[0m\n\u001b[1;32m    225\u001b[0m         \u001b[0min_data\u001b[0m \u001b[0;34m=\u001b[0m \u001b[0mtuple\u001b[0m\u001b[0;34m(\u001b[0m\u001b[0;34m[\u001b[0m\u001b[0mx\u001b[0m\u001b[0;34m.\u001b[0m\u001b[0mdata\u001b[0m \u001b[0;32mfor\u001b[0m \u001b[0mx\u001b[0m \u001b[0;32min\u001b[0m \u001b[0minput_vars\u001b[0m\u001b[0;34m]\u001b[0m\u001b[0;34m)\u001b[0m\u001b[0;34m\u001b[0m\u001b[0m\n\u001b[0;32m--> 226\u001b[0;31m         \u001b[0mrequires_grad\u001b[0m \u001b[0;34m=\u001b[0m \u001b[0many\u001b[0m\u001b[0;34m(\u001b[0m\u001b[0;34m[\u001b[0m\u001b[0mx\u001b[0m\u001b[0;34m.\u001b[0m\u001b[0mrequires_grad\u001b[0m \u001b[0;32mfor\u001b[0m \u001b[0mx\u001b[0m \u001b[0;32min\u001b[0m \u001b[0minput_vars\u001b[0m\u001b[0;34m]\u001b[0m\u001b[0;34m)\u001b[0m\u001b[0;34m\u001b[0m\u001b[0m\n\u001b[0m\u001b[1;32m    227\u001b[0m \u001b[0;34m\u001b[0m\u001b[0m\n\u001b[1;32m    228\u001b[0m         \u001b[0;31m# Check for input array types\u001b[0m\u001b[0;34m\u001b[0m\u001b[0;34m\u001b[0m\u001b[0m\n",
      "\u001b[0;32m/usr/local/lib/python3.5/dist-packages/chainer/function_node.py\u001b[0m in \u001b[0;36m<listcomp>\u001b[0;34m(.0)\u001b[0m\n\u001b[1;32m    224\u001b[0m         \u001b[0minput_vars\u001b[0m \u001b[0;34m=\u001b[0m \u001b[0;34m[\u001b[0m\u001b[0mchainer\u001b[0m\u001b[0;34m.\u001b[0m\u001b[0mas_variable\u001b[0m\u001b[0;34m(\u001b[0m\u001b[0mx\u001b[0m\u001b[0;34m)\u001b[0m \u001b[0;32mfor\u001b[0m \u001b[0mx\u001b[0m \u001b[0;32min\u001b[0m \u001b[0minputs\u001b[0m\u001b[0;34m]\u001b[0m\u001b[0;34m\u001b[0m\u001b[0m\n\u001b[1;32m    225\u001b[0m         \u001b[0min_data\u001b[0m \u001b[0;34m=\u001b[0m \u001b[0mtuple\u001b[0m\u001b[0;34m(\u001b[0m\u001b[0;34m[\u001b[0m\u001b[0mx\u001b[0m\u001b[0;34m.\u001b[0m\u001b[0mdata\u001b[0m \u001b[0;32mfor\u001b[0m \u001b[0mx\u001b[0m \u001b[0;32min\u001b[0m \u001b[0minput_vars\u001b[0m\u001b[0;34m]\u001b[0m\u001b[0;34m)\u001b[0m\u001b[0;34m\u001b[0m\u001b[0m\n\u001b[0;32m--> 226\u001b[0;31m         \u001b[0mrequires_grad\u001b[0m \u001b[0;34m=\u001b[0m \u001b[0many\u001b[0m\u001b[0;34m(\u001b[0m\u001b[0;34m[\u001b[0m\u001b[0mx\u001b[0m\u001b[0;34m.\u001b[0m\u001b[0mrequires_grad\u001b[0m \u001b[0;32mfor\u001b[0m \u001b[0mx\u001b[0m \u001b[0;32min\u001b[0m \u001b[0minput_vars\u001b[0m\u001b[0;34m]\u001b[0m\u001b[0;34m)\u001b[0m\u001b[0;34m\u001b[0m\u001b[0m\n\u001b[0m\u001b[1;32m    227\u001b[0m \u001b[0;34m\u001b[0m\u001b[0m\n\u001b[1;32m    228\u001b[0m         \u001b[0;31m# Check for input array types\u001b[0m\u001b[0;34m\u001b[0m\u001b[0;34m\u001b[0m\u001b[0m\n",
      "\u001b[0;32m/usr/local/lib/python3.5/dist-packages/chainer/variable.py\u001b[0m in \u001b[0;36mrequires_grad\u001b[0;34m(self)\u001b[0m\n\u001b[1;32m    719\u001b[0m         \u001b[0;32mreturn\u001b[0m \u001b[0mself\u001b[0m\u001b[0;34m.\u001b[0m\u001b[0m_node\u001b[0m\u001b[0;34m\u001b[0m\u001b[0m\n\u001b[1;32m    720\u001b[0m \u001b[0;34m\u001b[0m\u001b[0m\n\u001b[0;32m--> 721\u001b[0;31m     \u001b[0;34m@\u001b[0m\u001b[0mproperty\u001b[0m\u001b[0;34m\u001b[0m\u001b[0m\n\u001b[0m\u001b[1;32m    722\u001b[0m     \u001b[0;32mdef\u001b[0m \u001b[0mrequires_grad\u001b[0m\u001b[0;34m(\u001b[0m\u001b[0mself\u001b[0m\u001b[0;34m)\u001b[0m\u001b[0;34m:\u001b[0m\u001b[0;34m\u001b[0m\u001b[0m\n\u001b[1;32m    723\u001b[0m         \u001b[0;34m\"\"\"It indicates that ``grad`` will be set in backward calculation.\"\"\"\u001b[0m\u001b[0;34m\u001b[0m\u001b[0m\n",
      "\u001b[0;31mKeyboardInterrupt\u001b[0m: "
     ]
    }
   ],
   "source": [
    "# Create new folder to avoid FileExistsError\n",
    "i=-1\n",
    "while i==-1 or os.path.isdir(path):\n",
    "    i+=1\n",
    "    path = '{}/Models/WaveCRF_{}'.format(root, i)\n",
    "os.makedirs('{}/Models/WaveCRF_{}'.format(root, i))\n",
    "\n",
    "\n",
    "for epoch in tqdm.tnrange(epochs):\n",
    "    random.shuffle(training_set_keys)\n",
    "\n",
    "    batch = ()\n",
    "\n",
    "    for key in tqdm.tqdm_notebook(training_set_keys, leave = False):\n",
    "        i = random.randint(0, training_set[key].shape[1] - 80)\n",
    "        batch += (training_set[key][32 : 93, i : i + 80],)\n",
    "\n",
    "        if len(batch) == batch_size:\n",
    "            batch = waveCRF.model.xp.array(batch)\n",
    "\n",
    "            waveCRF.train(batch[:, :, 1:].astype('i'), batch[:, :, None, :-1].astype('f'))\n",
    "\n",
    "            batch = ()\n",
    "\n",
    "    for key in tqdm.tqdm_notebook(test_set, leave = False):\n",
    "        batch = waveCRF.model.xp.array((test_set[key][32 : 93],))\n",
    "\n",
    "        waveCRF.test(batch[:, :, 1:].astype('i'), batch[:, :, None, :-1].astype('f'))\n",
    "\n",
    "    IPython.display.clear_output()\n",
    "\n",
    "    for i, key in enumerate(waveCRF.log):\n",
    "        matplotlib.pyplot.subplot(221 + i)\n",
    "        matplotlib.pyplot.plot(numpy.array(waveCRF.log[key]).reshape(epoch + 1, -1).mean(1))\n",
    "        matplotlib.pyplot.xlabel('iteration')\n",
    "        matplotlib.pyplot.ylabel(key)\n",
    "\n",
    "    matplotlib.pyplot.tight_layout()\n",
    "    matplotlib.pyplot.show()\n",
    "    os.makedirs('{}/{}'.format(path, epoch))\n",
    "    waveCRF.save('{}/{}'.format(path, epoch))"
   ]
  },
  {
   "cell_type": "markdown",
   "metadata": {
    "colab_type": "text",
    "id": "NqNHKCblzY52"
   },
   "source": [
    "**Test (50 points)**  \n",
    "\n",
    "* Generate a number of samples, pick the best one and play it in the notebook. **50 points**"
   ]
  },
  {
   "cell_type": "code",
   "execution_count": 107,
   "metadata": {},
   "outputs": [],
   "source": [
    "import matplotlib.pyplot as plt"
   ]
  },
  {
   "cell_type": "code",
   "execution_count": 109,
   "metadata": {
    "colab": {},
    "colab_type": "code",
    "id": "6PGOJ_hHzZDg"
   },
   "outputs": [
    {
     "data": {
      "text/plain": [
       "<matplotlib.figure.Figure at 0x7f2c26102be0>"
      ]
     },
     "metadata": {},
     "output_type": "display_data"
    },
    {
     "data": {
      "image/png": "[encoded data removed]",
      "text/plain": [
       "<matplotlib.figure.Figure at 0x7f2c25690fd0>"
      ]
     },
     "metadata": {},
     "output_type": "display_data"
    },
    {
     "data": {
      "text/plain": [
       "<matplotlib.figure.Figure at 0x7f2c26149e80>"
      ]
     },
     "metadata": {},
     "output_type": "display_data"
    },
    {
     "data": {
      "image/png": "[encoded data removed]",
      "text/plain": [
       "<matplotlib.figure.Figure at 0x7f2c260975c0>"
      ]
     },
     "metadata": {},
     "output_type": "display_data"
    },
    {
     "data": {
      "text/plain": [
       "<matplotlib.figure.Figure at 0x7f2c10ca2048>"
      ]
     },
     "metadata": {},
     "output_type": "display_data"
    },
    {
     "data": {
      "image/png": "[encoded data removed]",
      "text/plain": [
       "<matplotlib.figure.Figure at 0x7f2c26239358>"
      ]
     },
     "metadata": {},
     "output_type": "display_data"
    },
    {
     "data": {
      "text/plain": [
       "<matplotlib.figure.Figure at 0x7f2c26d6ce80>"
      ]
     },
     "metadata": {},
     "output_type": "display_data"
    },
    {
     "data": {
      "image/png": "[encoded data removed]",
      "text/plain": [
       "<matplotlib.figure.Figure at 0x7f2c11719668>"
      ]
     },
     "metadata": {},
     "output_type": "display_data"
    },
    {
     "data": {
      "text/plain": [
       "<matplotlib.figure.Figure at 0x7f2c10ce50b8>"
      ]
     },
     "metadata": {},
     "output_type": "display_data"
    },
    {
     "data": {
      "image/png": "[encoded data removed]",
      "text/plain": [
       "<matplotlib.figure.Figure at 0x7f2c2600c320>"
      ]
     },
     "metadata": {},
     "output_type": "display_data"
    }
   ],
   "source": [
    "# Test\n",
    "\n",
    "def booleanize(x):\n",
    "    return cupy.random.rand(*x.shape) < x\n",
    "\n",
    "out = []\n",
    "song = 0\n",
    "songs_lim = 5\n",
    "dt_lim = 300\n",
    "guide_length = 200\n",
    "\n",
    "#TODO cut 80 timesteps\n",
    "\n",
    "for key in list(test_set):\n",
    "    \n",
    "    if song >= songs_lim:\n",
    "        break\n",
    "    song += 1\n",
    "    \n",
    "    \n",
    "    i = random.randint(0, test_set[key].shape[1] - guide_length) # choose a random start step\n",
    "\n",
    "    old_step = waveCRF.model.xp.array((test_set[key][32 : 93, i : i + guide_length],))[:, :, None, :-1]\n",
    "    \n",
    "    for dt in range(dt_lim):\n",
    "        new_step = F.softmax(waveCRF(old_step.astype('f')[:,:,:,:])).data[:,1,:,-1,None] # feedforward\n",
    "        new_step = booleanize(new_step)\n",
    "        old_step = cupy.concatenate((old_step, new_step[:,:,:,None]), axis = 3)\n",
    "\n",
    "        \n",
    "    \n",
    "    \n",
    "    old_step = cupy.asnumpy(old_step)\n",
    "    out += [old_step[0,:,0,guide_length:]]\n",
    "    plt.figure()\n",
    "    plt.matshow(old_step[0,:,0,:])\n",
    "    plt.show()\n",
    "    \n",
    "    \n",
    "    \n",
    "\n",
    "\n",
    "with open('Test/piano_rolls.pickle', \"wb\") as file:\n",
    "    pickle.dump(out, file, protocol=2)\n"
   ]
  },
  {
   "cell_type": "markdown",
   "metadata": {
    "colab_type": "text",
    "id": "qX69DLwW_yMx"
   },
   "source": [
    "**Bonus question (30 points)**\n",
    "\n",
    "* Discuss how you can improve the model (you can talk about different architectures or different ways to encode the inputs, etc.) **10 points**\n",
    "* Discuss the assumptions behind the meanfield approximation and its shortcomings. **10 points**\n",
    "* Prove that the iterative update equation (CRF-RNN component) is differentiable so that we can backpropagate through them. **10 points**"
   ]
  }
 ],
 "metadata": {
  "colab": {
   "name": "weeks_4_and_5_assignment.ipynb",
   "provenance": [],
   "version": "0.3.2"
  },
  "kernelspec": {
   "display_name": "Python 3",
   "language": "python",
   "name": "python3"
  },
  "language_info": {
   "codemirror_mode": {
    "name": "ipython",
    "version": 3
   },
   "file_extension": ".py",
   "mimetype": "text/x-python",
   "name": "python",
   "nbconvert_exporter": "python",
   "pygments_lexer": "ipython3",
   "version": "3.5.2"
  }
 },
 "nbformat": 4,
 "nbformat_minor": 1
}
