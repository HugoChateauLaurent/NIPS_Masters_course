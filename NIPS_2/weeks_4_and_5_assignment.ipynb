{
  "nbformat": 4,
  "nbformat_minor": 0,
  "metadata": {
    "colab": {
      "name": "weeks_4_and_5_assignment.ipynb",
      "version": "0.3.2",
      "provenance": []
    },
    "kernelspec": {
      "name": "python3",
      "display_name": "Python 3"
    }
  },
  "cells": [
    {
      "metadata": {
        "id": "TSXuZhUcyvhd",
        "colab_type": "text"
      },
      "cell_type": "markdown",
      "source": [
        "**SOW-MKI49: Neural Information Processing Systems**  \n",
        "*Weeks 4 and 5: Assignment (225 points + 30 bonus points)*  \n",
        "Author: Umut"
      ]
    },
    {
      "metadata": {
        "id": "hP3SeQrNyrLC",
        "colab_type": "code",
        "colab": {}
      },
      "cell_type": "code",
      "source": [
        "# Group number: ...\n",
        "# Student 1 name, student 1 number: ...\n",
        "# Student 2 name, student 2 number: ...\n",
        "# Student 3 name, student 3 number: ..."
      ],
      "execution_count": 0,
      "outputs": []
    },
    {
      "metadata": {
        "id": "n6Dbkc4t0LNa",
        "colab_type": "code",
        "colab": {}
      },
      "cell_type": "code",
      "source": [
        "from chainer import ChainList, optimizers, serializers\n",
        "import chainer\n",
        "import chainer.functions as F\n",
        "import chainer.links as L\n",
        "import numpy as np"
      ],
      "execution_count": 0,
      "outputs": []
    },
    {
      "metadata": {
        "id": "RdDhV9ro3HS6",
        "colab_type": "text"
      },
      "cell_type": "markdown",
      "source": [
        "**WaveNet component (75 points)**\n",
        "\n",
        "* Implement missing parts of the call method (y and z). **25 points**\n",
        "* Implement residual block class. **50 points**\n",
        "\n",
        "---\n",
        "Reminder:\n",
        "\n",
        "* One convolution layer that has 61 kernels of size 2 with no nonlinearities.\n",
        "![alt text](http://i67.tinypic.com/21mgi2w.png)\n",
        "![alt text](http://i67.tinypic.com/292n04y.png)\n",
        "---\n",
        "\n"
      ]
    },
    {
      "metadata": {
        "id": "xZsQTKPI3Fcy",
        "colab_type": "code",
        "colab": {}
      },
      "cell_type": "code",
      "source": [
        "class _WaveNet(ChainList):\n",
        "    def __init__(self):\n",
        "        links = (L.Convolution2D(61, 61, (1, 2)),)\n",
        "        links += tuple(_ResidualBlock((1, 2 ** (i % 6))) for i in range(6))\n",
        "        links += (L.Convolution2D(512, 512, 1), L.Convolution2D(512, 3843, 1))\n",
        "\n",
        "        super(_WaveNet, self).__init__(*links)\n",
        "\n",
        "    def __call__(self, x):\n",
        "        y = (self[0](F.pad(x, ((0, 0), (0, 0), (0, 0), (1, 0)), 'constant')),)\n",
        "        z = 0\n",
        "\n",
        "        for i in range(1, len(self) - 2):\n",
        "            #y =\n",
        "            #z +=\n",
        "\n",
        "        #y, z =\n",
        "\n",
        "        return F.reshape(y, (y.shape[0], 61, 61, y.shape[3])), \\\n",
        "               F.reshape(z, (z.shape[0], 2, 61, z.shape[3]))\n",
        "\n",
        "class _ResidualBlock(ChainList):\n",
        "    pass"
      ],
      "execution_count": 0,
      "outputs": []
    },
    {
      "metadata": {
        "id": "SFoUw1ve3wGY",
        "colab_type": "text"
      },
      "cell_type": "markdown",
      "source": [
        "**CRF-RNN component (50 points)**\n",
        "\n",
        "* Implement missing parts of the call method (z). **25 points**\n",
        "* Why is z not normalized in the last iteration? **25 points**\n",
        "\n",
        "---\n",
        "\n",
        "Reminder:\n",
        "\n",
        "![alt text](http://i68.tinypic.com/sy6mix.png)\n",
        "\n",
        "---"
      ]
    },
    {
      "metadata": {
        "id": "dV1Pd5l3w2ge",
        "colab_type": "code",
        "colab": {}
      },
      "cell_type": "code",
      "source": [
        "class _CRF(ChainList):\n",
        "    def __init__(self):\n",
        "        super(_CRF, self).__init__(L.ConvolutionND(1, 2, 2, 1, nobias = True))\n",
        "\n",
        "    def __call__(self, x, y):\n",
        "        #z =\n",
        "\n",
        "        for i in range(5):\n",
        "            #z =\n",
        "\n",
        "            if i < 4:\n",
        "                z = F.softmax(z)\n",
        "\n",
        "        return z"
      ],
      "execution_count": 0,
      "outputs": []
    },
    {
      "metadata": {
        "id": "BvbxbgS64Z1Y",
        "colab_type": "text"
      },
      "cell_type": "markdown",
      "source": [
        "**WaveCRF model (50 points)**\n",
        "\n",
        "1. Implement missing parts of the call method (k, psi_u and Q_hat). **20 points**\n",
        "2. Implement missing parts of the save and load methods (save and load model). **10 points**\n",
        "3. Implement missing parts of the test and train methods (forward and/or backward propagate). **20 points**"
      ]
    },
    {
      "metadata": {
        "id": "ACORyKorw_T1",
        "colab_type": "code",
        "colab": {}
      },
      "cell_type": "code",
      "source": [
        "class WaveCRF(object):\n",
        "    def __init__(self):\n",
        "        self.log = {('test', 'accuracy'): (), ('test', 'loss'): (), ('training', 'accuracy'): (),\n",
        "                    ('training', 'loss'): ()}\n",
        "        self.model = ChainList(_WaveNet(), _CRF())\n",
        "        self.optimizer = optimizers.Adam(0.0002, 0.5)\n",
        "\n",
        "        self.optimizer.setup(self.model)\n",
        "\n",
        "    def __call__(self, x):\n",
        "        #k, psi_u =\n",
        "        #Q_hat =\n",
        "\n",
        "        return F.transpose(F.reshape(Q_hat, (x.shape[0], x.shape[3], 2, 61)), (0, 2, 3, 1))\n",
        "\n",
        "    @classmethod\n",
        "    def load(cls, directory):\n",
        "        self = cls()\n",
        "        self.log = np.load('{}/log.npy'.format(directory))\n",
        "\n",
        "        # Load model\n",
        "        serializers.load_npz('{}/optimizer.npz'.format(directory), self.optimizer)\n",
        "\n",
        "        return self\n",
        "\n",
        "    def save(self, directory):\n",
        "        np.save('{}/log.npy'.format(directory), self.log)\n",
        "        # Save model\n",
        "        serializers.save_npz('{}/optimizer.npz'.format(directory), self.optimizer)\n",
        "\n",
        "    def test(self, Q, x):\n",
        "        with chainer.using_config('train', False):\n",
        "            # Forward prop\n",
        "            # Forward prop\n",
        "\n",
        "            self.log['test', 'accuracy'] += (float(F.accuracy(Q_hat, Q).data),)\n",
        "            self.log['test', 'loss'] += (float(loss.data),)\n",
        "\n",
        "    def train(self, Q, x):\n",
        "        # Forward prop\n",
        "        # Forward prop\n",
        "\n",
        "        # Backprop\n",
        "        # Backprop\n",
        "        # Backprop\n",
        "\n",
        "        self.log['training', 'accuracy'] += (float(F.accuracy(Q_hat, Q).data),)\n",
        "        self.log['training', 'loss'] += (float(loss.data),)"
      ],
      "execution_count": 0,
      "outputs": []
    },
    {
      "metadata": {
        "id": "sN6H9URT926N",
        "colab_type": "code",
        "colab": {}
      },
      "cell_type": "code",
      "source": [
        "%matplotlib inline\n",
        "\n",
        "import IPython\n",
        "import chainer\n",
        "import matplotlib\n",
        "import numpy\n",
        "import os\n",
        "import pickle\n",
        "import random\n",
        "import tqdm"
      ],
      "execution_count": 0,
      "outputs": []
    },
    {
      "metadata": {
        "id": "_tS3Y0yWwb3r",
        "colab_type": "code",
        "colab": {}
      },
      "cell_type": "code",
      "source": [
        "batch_size = 30\n",
        "epochs = 100\n",
        "root = '..'"
      ],
      "execution_count": 0,
      "outputs": []
    },
    {
      "metadata": {
        "id": "VRcSp6shwg_Y",
        "colab_type": "code",
        "colab": {}
      },
      "cell_type": "code",
      "source": [
        "with open('{}/Data/piano_rolls.p'.format(root), 'rb') as f:\n",
        "    piano_rolls = pickle.load(f)\n",
        "\n",
        "keys = sorted(piano_rolls.keys())\n",
        "\n",
        "random.seed(6)\n",
        "random.shuffle(keys)\n",
        "\n",
        "test_set = dict((key, piano_rolls[key]) for key in keys[:int(0.1 * len(keys))])\n",
        "training_set = dict((key, piano_rolls[key]) for key in keys[int(0.1 * len(keys)):])\n",
        "training_set_keys = list(training_set.keys())"
      ],
      "execution_count": 0,
      "outputs": []
    },
    {
      "metadata": {
        "id": "YUVzWwIJwjQ7",
        "colab_type": "code",
        "colab": {}
      },
      "cell_type": "code",
      "source": [
        "waveCRF = WaveCRF()\n",
        "\n",
        "waveCRF.model.to_gpu()"
      ],
      "execution_count": 0,
      "outputs": []
    },
    {
      "metadata": {
        "id": "4zWuKZ1EwlKa",
        "colab_type": "code",
        "colab": {}
      },
      "cell_type": "code",
      "source": [
        "for epoch in tqdm.tnrange(epochs):\n",
        "    random.shuffle(training_set_keys)\n",
        "\n",
        "    batch = ()\n",
        "\n",
        "    for key in tqdm.tqdm_notebook(training_set_keys, leave = False):\n",
        "        i = random.randint(0, training_set[key].shape[1] - 80)\n",
        "        batch += (training_set[key][32 : 93, i : i + 80],)\n",
        "\n",
        "        if len(batch) == batch_size:\n",
        "            batch = waveCRF.model.xp.array(batch)\n",
        "\n",
        "            waveCRF.train(batch[:, :, 1:].astype('i'), batch[:, :, None, :-1].astype('f'))\n",
        "\n",
        "            batch = ()\n",
        "\n",
        "    for key in tqdm.tqdm_notebook(test_set, leave = False):\n",
        "        batch = waveCRF.model.xp.array((test_set[key][32 : 93],))\n",
        "\n",
        "        waveCRF.test(batch[:, :, 1:].astype('i'), batch[:, :, None, :-1].astype('f'))\n",
        "\n",
        "    IPython.display.clear_output()\n",
        "\n",
        "    for i, key in enumerate(waveCRF.log):\n",
        "        matplotlib.pyplot.subplot(221 + i)\n",
        "        matplotlib.pyplot.plot(numpy.array(waveCRF.log[key]).reshape(epoch + 1, -1).mean(1))\n",
        "        matplotlib.pyplot.xlabel('iteration')\n",
        "        matplotlib.pyplot.ylabel(key)\n",
        "\n",
        "    matplotlib.pyplot.tight_layout()\n",
        "    matplotlib.pyplot.show()\n",
        "    os.makedirs('{}/Models/WaveCRF/{}'.format(root, epoch))\n",
        "    waveCRF.save('{}/Models/WaveCRF/{}'.format(root, epoch))"
      ],
      "execution_count": 0,
      "outputs": []
    },
    {
      "metadata": {
        "id": "NqNHKCblzY52",
        "colab_type": "text"
      },
      "cell_type": "markdown",
      "source": [
        "**Test (50 points)**  \n",
        "\n",
        "* Generate a number of samples, pick the best one and play it in the notebook. **50 points**"
      ]
    },
    {
      "metadata": {
        "id": "6PGOJ_hHzZDg",
        "colab_type": "code",
        "colab": {}
      },
      "cell_type": "code",
      "source": [
        "# Test"
      ],
      "execution_count": 0,
      "outputs": []
    },
    {
      "metadata": {
        "id": "qX69DLwW_yMx",
        "colab_type": "text"
      },
      "cell_type": "markdown",
      "source": [
        "**Bonus question (30 points)**\n",
        "\n",
        "* Discuss how you can improve the model (you can talk about different architectures or different ways to encode the inputs, etc.) **10 points**\n",
        "* Discuss the assumptions behind the meanfield approximation and its shortcomings. **10 points**\n",
        "* Prove that the iterative update equation (CRF-RNN component) is differentiable so that we can backpropagate through them. **10 points**"
      ]
    }
  ]
}