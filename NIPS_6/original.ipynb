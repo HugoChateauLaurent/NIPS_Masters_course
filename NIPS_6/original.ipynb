{
  "nbformat": 4,
  "nbformat_minor": 0,
  "metadata": {
    "colab": {
      "name": "SOW-MKI49-2018-SEM1-V-assignment_6.ipynb",
      "version": "0.3.2",
      "provenance": []
    },
    "kernelspec": {
      "display_name": "Python 3",
      "language": "python",
      "name": "python3"
    }
  },
  "cells": [
    {
      "metadata": {
        "collapsed": true,
        "id": "zwQS5X50Jbxf",
        "colab_type": "text"
      },
      "cell_type": "markdown",
      "source": [
        "In this assignment you will learn how to apply the REINFORCE algorithm within the OpenAI Gym environment. Make sure OpenAI gym is installed on your machine. Now let's import some relevant packages."
      ]
    },
    {
      "metadata": {
        "id": "bOfznh3zJbxl",
        "colab_type": "code",
        "colab": {}
      },
      "cell_type": "code",
      "source": [
        "import gym\n",
        "from gym import wrappers, logger\n",
        "import matplotlib.pyplot as plt\n",
        "import tqdm\n",
        "import numpy as np\n",
        "from chainer import Chain\n",
        "import chainer.links as L\n",
        "import chainer.functions as F\n",
        "from chainer.optimizers import Adam\n",
        "from chainer import Variable\n",
        "\n",
        "%matplotlib inline"
      ],
      "execution_count": 0,
      "outputs": []
    },
    {
      "metadata": {
        "id": "3yBPLN1LJbx3",
        "colab_type": "text"
      },
      "cell_type": "markdown",
      "source": [
        "We will make use of the classic CartPole environment provided by OpenAI Gym. Figure out what the details of this environment are."
      ]
    },
    {
      "metadata": {
        "id": "GhQNKfgsJbx7",
        "colab_type": "code",
        "colab": {}
      },
      "cell_type": "code",
      "source": [
        "env_id = 'CartPole-v0'\n",
        "\n",
        "# You can set the level to logger.DEBUG or logger.WARN if you want to change the amount of output.\n",
        "logger.set_level(logger.INFO)"
      ],
      "execution_count": 0,
      "outputs": []
    },
    {
      "metadata": {
        "id": "CZQpuDSzJbyP",
        "colab_type": "text"
      },
      "cell_type": "markdown",
      "source": [
        "Let's define a baseline agent which just emits random actions."
      ]
    },
    {
      "metadata": {
        "id": "52A-L3gIJbyS",
        "colab_type": "code",
        "colab": {}
      },
      "cell_type": "code",
      "source": [
        "class RandomAgent(object):\n",
        "    \"\"\"The world's simplest agent!\"\"\"\n",
        "\n",
        "    def __init__(self, action_space):\n",
        "        self.action_space = action_space\n",
        "\n",
        "    def act(self, observation, reward, done):\n",
        "        return self.action_space.sample()\n"
      ],
      "execution_count": 0,
      "outputs": []
    },
    {
      "metadata": {
        "id": "o0KU2XkgJbyh",
        "colab_type": "text"
      },
      "cell_type": "markdown",
      "source": [
        "Let's run the agent on the environment."
      ]
    },
    {
      "metadata": {
        "id": "G0wisW21Jbym",
        "colab_type": "code",
        "colab": {},
        "outputId": "a6cf1cc1-d65e-4f7e-9adc-cbcff509922d"
      },
      "cell_type": "code",
      "source": [
        "env = gym.make(env_id)\n",
        "env.seed(0)\n",
        "agent = RandomAgent(env.action_space)\n",
        "\n",
        "episode_count = 1000\n",
        "done = False\n",
        "reward = 0\n",
        "    \n",
        "R0 = np.zeros(episode_count)\n",
        "for i in tqdm.trange(episode_count):\n",
        "\n",
        "    ob = env.reset()\n",
        "\n",
        "    while True:\n",
        "\n",
        "        action = agent.act(ob, reward, done)\n",
        "        ob, reward, done, _ = env.step(action)\n",
        "\n",
        "        R0[i] += reward\n",
        "\n",
        "        if done:\n",
        "            break\n",
        "\n",
        "# Close the env and write monitor result info to disk\n",
        "env.close()"
      ],
      "execution_count": 0,
      "outputs": [
        {
          "output_type": "stream",
          "text": [
            "\r  0%|          | 0/1000 [00:00<?, ?it/s]"
          ],
          "name": "stderr"
        },
        {
          "output_type": "stream",
          "text": [
            "\r 46%|████▌     | 460/1000 [00:00<00:00, 4577.79it/s]"
          ],
          "name": "stderr"
        },
        {
          "output_type": "stream",
          "text": [
            "\r 91%|█████████▏| 914/1000 [00:00<00:00, 4551.34it/s]"
          ],
          "name": "stderr"
        },
        {
          "output_type": "stream",
          "text": [
            "INFO: Making new env: CartPole-v0\n"
          ],
          "name": "stdout"
        },
        {
          "output_type": "stream",
          "text": [
            "\r100%|██████████| 1000/1000 [00:00<00:00, 4470.73it/s]"
          ],
          "name": "stderr"
        },
        {
          "output_type": "stream",
          "text": [
            "\n"
          ],
          "name": "stderr"
        }
      ]
    },
    {
      "metadata": {
        "id": "oefBg7d1JbzI",
        "colab_type": "text"
      },
      "cell_type": "markdown",
      "source": [
        "Let's create the REINFORCE agent. We assume that the policy is computed using an MLP with a softmax output."
      ]
    },
    {
      "metadata": {
        "id": "WW1Ha3BKJbzU",
        "colab_type": "code",
        "colab": {}
      },
      "cell_type": "code",
      "source": [
        "class MLP(Chain):\n",
        "    \"\"\"Multilayer perceptron\"\"\"\n",
        "\n",
        "    def __init__(self, n_output=1, n_hidden=5):\n",
        "        super(MLP, self).__init__(l1=L.Linear(None, n_hidden), l2=L.Linear(n_hidden, n_output))\n",
        "\n",
        "    def __call__(self, x):\n",
        "        return self.l2(F.relu(self.l1(x)))"
      ],
      "execution_count": 0,
      "outputs": []
    },
    {
      "metadata": {
        "id": "V_LHMgDJJbze",
        "colab_type": "text"
      },
      "cell_type": "markdown",
      "source": [
        "1: A skeleton for the REINFORCEAgent is given. Implement the compute_loss and compute_score functions. "
      ]
    },
    {
      "metadata": {
        "id": "A9ovHVUGJbzf",
        "colab_type": "code",
        "colab": {}
      },
      "cell_type": "code",
      "source": [
        "class REINFORCEAgent(object):\n",
        "    \"\"\"Agent trained using REINFORCE\"\"\"\n",
        "\n",
        "    def __init__(self, action_space, model, optimizer=Adam()):\n",
        "\n",
        "        self.action_space = action_space\n",
        "\n",
        "        self.model = model\n",
        "\n",
        "        self.optimizer = optimizer\n",
        "        self.optimizer.setup(self.model)\n",
        "\n",
        "        # monitor score and reward\n",
        "        self.rewards = []\n",
        "        self.scores = []\n",
        "\n",
        "\n",
        "    def act(self, observation, reward, done):\n",
        "\n",
        "        # linear outputs reflecting the log action probabilities and the value\n",
        "        policy = self.model(Variable(np.atleast_2d(np.asarray(observation, 'float32'))))\n",
        "\n",
        "        # generate action according to policy\n",
        "        p = F.softmax(policy).data\n",
        "\n",
        "        # normalize p in case tiny floating precision problems occur\n",
        "        row_sums = p.sum(axis=1)\n",
        "        p /= row_sums[:, np.newaxis]\n",
        "\n",
        "        action = np.asarray([np.random.choice(p.shape[1], None, True, p[0])])\n",
        "\n",
        "        return action, policy\n",
        "\n",
        "\n",
        "    def compute_loss(self):\n",
        "        \"\"\"\n",
        "        Return loss for this episode based on computed scores and accumulated rewards\n",
        "        \"\"\"\n",
        "    \n",
        "        pass\n",
        "\n",
        "    def compute_score(self, action, policy):\n",
        "        \"\"\"\n",
        "        Computes score\n",
        "\n",
        "        Args:\n",
        "            action (int):\n",
        "            policy:\n",
        "\n",
        "        Returns:\n",
        "            score\n",
        "        \"\"\"\n",
        "\n",
        "        pass"
      ],
      "execution_count": 0,
      "outputs": []
    },
    {
      "metadata": {
        "id": "ySzdtdXGJbzn",
        "colab_type": "text"
      },
      "cell_type": "markdown",
      "source": [
        "Now we run the REINFORCE agent on the CartPole environment. Note that we update the agent after each episode for simplicity."
      ]
    },
    {
      "metadata": {
        "id": "_jFuX_XhJbzq",
        "colab_type": "code",
        "colab": {},
        "outputId": "87d8fdd2-7b16-4be1-ef36-4f4ff536d8f4"
      },
      "cell_type": "code",
      "source": [
        "env = gym.make(env_id)\n",
        "env.seed(0)\n",
        "\n",
        "network = MLP(n_output=env.action_space.n, n_hidden=3)\n",
        "agent = REINFORCEAgent(env.action_space, network, optimizer=Adam())\n",
        "\n",
        "episode_count = 1000\n",
        "done = False\n",
        "reward = 0\n",
        "    \n",
        "R = np.zeros(episode_count)\n",
        "for i in tqdm.trange(episode_count):\n",
        "\n",
        "    ob = env.reset()\n",
        "\n",
        "    loss = 0\n",
        "    while True:\n",
        "\n",
        "        action, policy = agent.act(ob, reward, done)\n",
        "\n",
        "        ob, reward, done, _ = env.step(action[0])\n",
        "\n",
        "        # get reward associated with taking the previous action in the previous state\n",
        "        agent.rewards.append(reward)\n",
        "        R[i] += reward\n",
        "\n",
        "        # recompute score function: grad_theta log pi_theta (s_t, a_t) * v_t\n",
        "        agent.scores.append(agent.compute_score(action, policy))\n",
        "\n",
        "        # we learn at the end of each episode\n",
        "        if done:\n",
        "            \n",
        "            loss += agent.compute_loss()\n",
        "            \n",
        "            agent.model.cleargrads()\n",
        "            loss.backward()\n",
        "            loss.unchain_backward()\n",
        "            agent.optimizer.update()\n",
        "\n",
        "            break"
      ],
      "execution_count": 0,
      "outputs": [
        {
          "output_type": "stream",
          "text": [
            "\r  0%|          | 0/1000 [00:00<?, ?it/s]"
          ],
          "name": "stderr"
        },
        {
          "output_type": "stream",
          "text": [
            "\r  0%|          | 3/1000 [00:00<00:41, 24.06it/s]"
          ],
          "name": "stderr"
        },
        {
          "output_type": "stream",
          "text": [
            "INFO: Making new env: CartPole-v0\n"
          ],
          "name": "stdout"
        },
        {
          "output_type": "stream",
          "text": [
            "\r  0%|          | 5/1000 [00:00<00:44, 22.17it/s]"
          ],
          "name": "stderr"
        },
        {
          "output_type": "stream",
          "text": [
            "\r  1%|          | 8/1000 [00:00<00:44, 22.11it/s]"
          ],
          "name": "stderr"
        },
        {
          "output_type": "stream",
          "text": [
            "\r  1%|          | 11/1000 [00:00<00:48, 20.58it/s]"
          ],
          "name": "stderr"
        },
        {
          "output_type": "stream",
          "text": [
            "\r  1%|▏         | 14/1000 [00:00<00:44, 21.94it/s]"
          ],
          "name": "stderr"
        },
        {
          "output_type": "stream",
          "text": [
            "\r  2%|▏         | 18/1000 [00:00<00:42, 23.20it/s]"
          ],
          "name": "stderr"
        },
        {
          "output_type": "stream",
          "text": [
            "\r  2%|▏         | 21/1000 [00:00<00:42, 22.87it/s]"
          ],
          "name": "stderr"
        },
        {
          "output_type": "stream",
          "text": [
            "\r  2%|▎         | 25/1000 [00:01<00:40, 23.80it/s]"
          ],
          "name": "stderr"
        },
        {
          "output_type": "stream",
          "text": [
            "\r  3%|▎         | 28/1000 [00:01<00:41, 23.16it/s]"
          ],
          "name": "stderr"
        },
        {
          "output_type": "stream",
          "text": [
            "\r  3%|▎         | 32/1000 [00:01<00:40, 24.06it/s]"
          ],
          "name": "stderr"
        },
        {
          "output_type": "stream",
          "text": [
            "\r  4%|▎         | 35/1000 [00:01<00:39, 24.18it/s]"
          ],
          "name": "stderr"
        },
        {
          "output_type": "stream",
          "text": [
            "\r  4%|▍         | 38/1000 [00:01<00:39, 24.50it/s]"
          ],
          "name": "stderr"
        },
        {
          "output_type": "stream",
          "text": [
            "\r  4%|▍         | 41/1000 [00:01<00:40, 23.73it/s]"
          ],
          "name": "stderr"
        },
        {
          "output_type": "stream",
          "text": [
            "\r  4%|▍         | 44/1000 [00:01<00:41, 22.85it/s]"
          ],
          "name": "stderr"
        },
        {
          "output_type": "stream",
          "text": [
            "\r  5%|▍         | 47/1000 [00:02<00:41, 23.13it/s]"
          ],
          "name": "stderr"
        },
        {
          "output_type": "stream",
          "text": [
            "\r  5%|▌         | 52/1000 [00:02<00:39, 24.23it/s]"
          ],
          "name": "stderr"
        },
        {
          "output_type": "stream",
          "text": [
            "\r  6%|▌         | 56/1000 [00:02<00:38, 24.78it/s]"
          ],
          "name": "stderr"
        },
        {
          "output_type": "stream",
          "text": [
            "\r  6%|▌         | 60/1000 [00:02<00:38, 24.68it/s]"
          ],
          "name": "stderr"
        },
        {
          "output_type": "stream",
          "text": [
            "\r  6%|▋         | 63/1000 [00:02<00:38, 24.46it/s]"
          ],
          "name": "stderr"
        },
        {
          "output_type": "stream",
          "text": [
            "\r  7%|▋         | 66/1000 [00:02<00:38, 24.45it/s]"
          ],
          "name": "stderr"
        },
        {
          "output_type": "stream",
          "text": [
            "\r  7%|▋         | 69/1000 [00:02<00:38, 24.46it/s]"
          ],
          "name": "stderr"
        },
        {
          "output_type": "stream",
          "text": [
            "\r  7%|▋         | 72/1000 [00:02<00:37, 24.45it/s]"
          ],
          "name": "stderr"
        },
        {
          "output_type": "stream",
          "text": [
            "\r  8%|▊         | 76/1000 [00:03<00:37, 24.85it/s]"
          ],
          "name": "stderr"
        },
        {
          "output_type": "stream",
          "text": [
            "\r  8%|▊         | 79/1000 [00:03<00:37, 24.70it/s]"
          ],
          "name": "stderr"
        },
        {
          "output_type": "stream",
          "text": [
            "\r  8%|▊         | 82/1000 [00:03<00:37, 24.36it/s]"
          ],
          "name": "stderr"
        },
        {
          "output_type": "stream",
          "text": [
            "\r  8%|▊         | 85/1000 [00:03<00:37, 24.18it/s]"
          ],
          "name": "stderr"
        },
        {
          "output_type": "stream",
          "text": [
            "\r  9%|▉         | 88/1000 [00:03<00:37, 24.19it/s]"
          ],
          "name": "stderr"
        },
        {
          "output_type": "stream",
          "text": [
            "\r  9%|▉         | 92/1000 [00:03<00:37, 24.50it/s]"
          ],
          "name": "stderr"
        },
        {
          "output_type": "stream",
          "text": [
            "\r 10%|▉         | 96/1000 [00:04<00:37, 23.80it/s]"
          ],
          "name": "stderr"
        },
        {
          "output_type": "stream",
          "text": [
            "\r 10%|█         | 100/1000 [00:04<00:37, 24.04it/s]"
          ],
          "name": "stderr"
        },
        {
          "output_type": "stream",
          "text": [
            "\r 10%|█         | 104/1000 [00:04<00:37, 24.19it/s]"
          ],
          "name": "stderr"
        },
        {
          "output_type": "stream",
          "text": [
            "\r 11%|█         | 107/1000 [00:04<00:37, 23.92it/s]"
          ],
          "name": "stderr"
        },
        {
          "output_type": "stream",
          "text": [
            "\r 11%|█         | 112/1000 [00:04<00:36, 24.40it/s]"
          ],
          "name": "stderr"
        },
        {
          "output_type": "stream",
          "text": [
            "\r 12%|█▏        | 115/1000 [00:04<00:36, 24.30it/s]"
          ],
          "name": "stderr"
        },
        {
          "output_type": "stream",
          "text": [
            "\r 12%|█▏        | 120/1000 [00:04<00:35, 24.81it/s]"
          ],
          "name": "stderr"
        },
        {
          "output_type": "stream",
          "text": [
            "\r 12%|█▏        | 124/1000 [00:04<00:35, 24.92it/s]"
          ],
          "name": "stderr"
        },
        {
          "output_type": "stream",
          "text": [
            "\r 13%|█▎        | 128/1000 [00:05<00:35, 24.66it/s]"
          ],
          "name": "stderr"
        },
        {
          "output_type": "stream",
          "text": [
            "\r 13%|█▎        | 132/1000 [00:05<00:34, 24.85it/s]"
          ],
          "name": "stderr"
        },
        {
          "output_type": "stream",
          "text": [
            "\r 14%|█▎        | 136/1000 [00:05<00:35, 24.57it/s]"
          ],
          "name": "stderr"
        },
        {
          "output_type": "stream",
          "text": [
            "\r 14%|█▍        | 139/1000 [00:05<00:34, 24.64it/s]"
          ],
          "name": "stderr"
        },
        {
          "output_type": "stream",
          "text": [
            "\r 14%|█▍        | 142/1000 [00:05<00:34, 24.53it/s]"
          ],
          "name": "stderr"
        },
        {
          "output_type": "stream",
          "text": [
            "\r 14%|█▍        | 145/1000 [00:05<00:34, 24.61it/s]"
          ],
          "name": "stderr"
        },
        {
          "output_type": "stream",
          "text": [
            "\r 15%|█▍        | 149/1000 [00:06<00:34, 24.69it/s]"
          ],
          "name": "stderr"
        },
        {
          "output_type": "stream",
          "text": [
            "\r 15%|█▌        | 152/1000 [00:06<00:34, 24.71it/s]"
          ],
          "name": "stderr"
        },
        {
          "output_type": "stream",
          "text": [
            "\r 16%|█▌        | 155/1000 [00:06<00:34, 24.43it/s]"
          ],
          "name": "stderr"
        },
        {
          "output_type": "stream",
          "text": [
            "\r 16%|█▌        | 158/1000 [00:06<00:34, 24.38it/s]"
          ],
          "name": "stderr"
        },
        {
          "output_type": "stream",
          "text": [
            "\r 16%|█▌        | 161/1000 [00:06<00:34, 24.19it/s]"
          ],
          "name": "stderr"
        },
        {
          "output_type": "stream",
          "text": [
            "\r 16%|█▋        | 164/1000 [00:06<00:34, 24.00it/s]"
          ],
          "name": "stderr"
        },
        {
          "output_type": "stream",
          "text": [
            "\r 17%|█▋        | 169/1000 [00:06<00:34, 24.23it/s]"
          ],
          "name": "stderr"
        },
        {
          "output_type": "stream",
          "text": [
            "\r 17%|█▋        | 173/1000 [00:07<00:33, 24.38it/s]"
          ],
          "name": "stderr"
        },
        {
          "output_type": "stream",
          "text": [
            "\r 18%|█▊        | 176/1000 [00:07<00:33, 24.38it/s]"
          ],
          "name": "stderr"
        },
        {
          "output_type": "stream",
          "text": [
            "\r 18%|█▊        | 179/1000 [00:07<00:33, 24.34it/s]"
          ],
          "name": "stderr"
        },
        {
          "output_type": "stream",
          "text": [
            "\r 18%|█▊        | 182/1000 [00:07<00:33, 24.34it/s]"
          ],
          "name": "stderr"
        },
        {
          "output_type": "stream",
          "text": [
            "\r 19%|█▊        | 186/1000 [00:07<00:33, 24.51it/s]"
          ],
          "name": "stderr"
        },
        {
          "output_type": "stream",
          "text": [
            "\r 19%|█▉        | 190/1000 [00:07<00:32, 24.70it/s]"
          ],
          "name": "stderr"
        },
        {
          "output_type": "stream",
          "text": [
            "\r 19%|█▉        | 194/1000 [00:07<00:32, 24.46it/s]"
          ],
          "name": "stderr"
        },
        {
          "output_type": "stream",
          "text": [
            "\r 20%|█▉        | 197/1000 [00:08<00:32, 24.52it/s]"
          ],
          "name": "stderr"
        },
        {
          "output_type": "stream",
          "text": [
            "\r 20%|██        | 200/1000 [00:08<00:32, 24.33it/s]"
          ],
          "name": "stderr"
        },
        {
          "output_type": "stream",
          "text": [
            "\r 20%|██        | 203/1000 [00:08<00:32, 24.30it/s]"
          ],
          "name": "stderr"
        },
        {
          "output_type": "stream",
          "text": [
            "\r 21%|██        | 206/1000 [00:08<00:32, 24.22it/s]"
          ],
          "name": "stderr"
        },
        {
          "output_type": "stream",
          "text": [
            "\r 21%|██        | 210/1000 [00:08<00:32, 24.29it/s]"
          ],
          "name": "stderr"
        },
        {
          "output_type": "stream",
          "text": [
            "\r 21%|██▏       | 214/1000 [00:08<00:32, 24.37it/s]"
          ],
          "name": "stderr"
        },
        {
          "output_type": "stream",
          "text": [
            "\r 22%|██▏       | 218/1000 [00:08<00:31, 24.54it/s]"
          ],
          "name": "stderr"
        },
        {
          "output_type": "stream",
          "text": [
            "\r 22%|██▏       | 221/1000 [00:08<00:31, 24.59it/s]"
          ],
          "name": "stderr"
        },
        {
          "output_type": "stream",
          "text": [
            "\r 22%|██▏       | 224/1000 [00:09<00:31, 24.64it/s]"
          ],
          "name": "stderr"
        },
        {
          "output_type": "stream",
          "text": [
            "\r 23%|██▎       | 227/1000 [00:09<00:31, 24.55it/s]"
          ],
          "name": "stderr"
        },
        {
          "output_type": "stream",
          "text": [
            "\r 23%|██▎       | 230/1000 [00:09<00:31, 24.48it/s]"
          ],
          "name": "stderr"
        },
        {
          "output_type": "stream",
          "text": [
            "\r 23%|██▎       | 234/1000 [00:09<00:31, 24.57it/s]"
          ],
          "name": "stderr"
        },
        {
          "output_type": "stream",
          "text": [
            "\r 24%|██▎       | 237/1000 [00:09<00:31, 24.46it/s]"
          ],
          "name": "stderr"
        },
        {
          "output_type": "stream",
          "text": [
            "\r 24%|██▍       | 241/1000 [00:09<00:30, 24.62it/s]"
          ],
          "name": "stderr"
        },
        {
          "output_type": "stream",
          "text": [
            "\r 24%|██▍       | 245/1000 [00:09<00:30, 24.60it/s]"
          ],
          "name": "stderr"
        },
        {
          "output_type": "stream",
          "text": [
            "\r 25%|██▍       | 249/1000 [00:10<00:30, 24.75it/s]"
          ],
          "name": "stderr"
        },
        {
          "output_type": "stream",
          "text": [
            "\r 25%|██▌       | 253/1000 [00:10<00:30, 24.62it/s]"
          ],
          "name": "stderr"
        },
        {
          "output_type": "stream",
          "text": [
            "\r 26%|██▌       | 256/1000 [00:10<00:30, 24.59it/s]"
          ],
          "name": "stderr"
        },
        {
          "output_type": "stream",
          "text": [
            "\r 26%|██▌       | 259/1000 [00:10<00:30, 24.56it/s]"
          ],
          "name": "stderr"
        },
        {
          "output_type": "stream",
          "text": [
            "\r 26%|██▋       | 263/1000 [00:10<00:29, 24.70it/s]"
          ],
          "name": "stderr"
        },
        {
          "output_type": "stream",
          "text": [
            "\r 27%|██▋       | 266/1000 [00:10<00:29, 24.65it/s]"
          ],
          "name": "stderr"
        },
        {
          "output_type": "stream",
          "text": [
            "\r 27%|██▋       | 269/1000 [00:10<00:29, 24.68it/s]"
          ],
          "name": "stderr"
        },
        {
          "output_type": "stream",
          "text": [
            "\r 27%|██▋       | 272/1000 [00:11<00:29, 24.55it/s]"
          ],
          "name": "stderr"
        },
        {
          "output_type": "stream",
          "text": [
            "\r 28%|██▊       | 275/1000 [00:11<00:29, 24.54it/s]"
          ],
          "name": "stderr"
        },
        {
          "output_type": "stream",
          "text": [
            "\r 28%|██▊       | 279/1000 [00:11<00:29, 24.66it/s]"
          ],
          "name": "stderr"
        },
        {
          "output_type": "stream",
          "text": [
            "\r 28%|██▊       | 282/1000 [00:11<00:29, 24.57it/s]"
          ],
          "name": "stderr"
        },
        {
          "output_type": "stream",
          "text": [
            "\r 28%|██▊       | 285/1000 [00:11<00:29, 24.34it/s]"
          ],
          "name": "stderr"
        },
        {
          "output_type": "stream",
          "text": [
            "\r 29%|██▉       | 288/1000 [00:11<00:29, 24.13it/s]"
          ],
          "name": "stderr"
        },
        {
          "output_type": "stream",
          "text": [
            "\r 29%|██▉       | 292/1000 [00:12<00:29, 24.21it/s]"
          ],
          "name": "stderr"
        },
        {
          "output_type": "stream",
          "text": [
            "\r 30%|██▉       | 295/1000 [00:12<00:29, 24.06it/s]"
          ],
          "name": "stderr"
        },
        {
          "output_type": "stream",
          "text": [
            "\r 30%|██▉       | 299/1000 [00:12<00:29, 24.12it/s]"
          ],
          "name": "stderr"
        },
        {
          "output_type": "stream",
          "text": [
            "\r 30%|███       | 302/1000 [00:12<00:29, 24.06it/s]"
          ],
          "name": "stderr"
        },
        {
          "output_type": "stream",
          "text": [
            "\r 31%|███       | 306/1000 [00:12<00:28, 24.12it/s]"
          ],
          "name": "stderr"
        },
        {
          "output_type": "stream",
          "text": [
            "\r 31%|███       | 310/1000 [00:12<00:28, 24.22it/s]"
          ],
          "name": "stderr"
        },
        {
          "output_type": "stream",
          "text": [
            "\r 31%|███▏      | 313/1000 [00:13<00:28, 24.01it/s]"
          ],
          "name": "stderr"
        },
        {
          "output_type": "stream",
          "text": [
            "\r 32%|███▏      | 317/1000 [00:13<00:28, 24.12it/s]"
          ],
          "name": "stderr"
        },
        {
          "output_type": "stream",
          "text": [
            "\r 32%|███▏      | 320/1000 [00:13<00:28, 24.14it/s]"
          ],
          "name": "stderr"
        },
        {
          "output_type": "stream",
          "text": [
            "\r 32%|███▏      | 323/1000 [00:13<00:28, 24.06it/s]"
          ],
          "name": "stderr"
        },
        {
          "output_type": "stream",
          "text": [
            "\r 33%|███▎      | 326/1000 [00:13<00:28, 24.06it/s]"
          ],
          "name": "stderr"
        },
        {
          "output_type": "stream",
          "text": [
            "\r 33%|███▎      | 329/1000 [00:13<00:27, 24.09it/s]"
          ],
          "name": "stderr"
        },
        {
          "output_type": "stream",
          "text": [
            "\r 33%|███▎      | 332/1000 [00:13<00:28, 23.79it/s]"
          ],
          "name": "stderr"
        },
        {
          "output_type": "stream",
          "text": [
            "\r 34%|███▎      | 335/1000 [00:14<00:27, 23.77it/s]"
          ],
          "name": "stderr"
        },
        {
          "output_type": "stream",
          "text": [
            "\r 34%|███▍      | 338/1000 [00:14<00:27, 23.74it/s]"
          ],
          "name": "stderr"
        },
        {
          "output_type": "stream",
          "text": [
            "\r 34%|███▍      | 342/1000 [00:14<00:27, 23.63it/s]"
          ],
          "name": "stderr"
        },
        {
          "output_type": "stream",
          "text": [
            "\r 34%|███▍      | 344/1000 [00:14<00:27, 23.54it/s]"
          ],
          "name": "stderr"
        },
        {
          "output_type": "stream",
          "text": [
            "\r 35%|███▍      | 346/1000 [00:14<00:28, 23.30it/s]"
          ],
          "name": "stderr"
        },
        {
          "output_type": "stream",
          "text": [
            "\r 35%|███▍      | 349/1000 [00:15<00:28, 23.21it/s]"
          ],
          "name": "stderr"
        },
        {
          "output_type": "stream",
          "text": [
            "\r 35%|███▌      | 351/1000 [00:15<00:28, 23.12it/s]"
          ],
          "name": "stderr"
        },
        {
          "output_type": "stream",
          "text": [
            "\r 35%|███▌      | 353/1000 [00:15<00:28, 23.05it/s]"
          ],
          "name": "stderr"
        },
        {
          "output_type": "stream",
          "text": [
            "\r 36%|███▌      | 355/1000 [00:15<00:28, 22.88it/s]"
          ],
          "name": "stderr"
        },
        {
          "output_type": "stream",
          "text": [
            "\r 36%|███▌      | 359/1000 [00:15<00:27, 22.90it/s]"
          ],
          "name": "stderr"
        },
        {
          "output_type": "stream",
          "text": [
            "\r 36%|███▌      | 361/1000 [00:15<00:28, 22.80it/s]"
          ],
          "name": "stderr"
        },
        {
          "output_type": "stream",
          "text": [
            "\r 36%|███▋      | 363/1000 [00:15<00:27, 22.78it/s]"
          ],
          "name": "stderr"
        },
        {
          "output_type": "stream",
          "text": [
            "\r 36%|███▋      | 365/1000 [00:16<00:28, 22.67it/s]"
          ],
          "name": "stderr"
        },
        {
          "output_type": "stream",
          "text": [
            "\r 37%|███▋      | 367/1000 [00:16<00:28, 22.53it/s]"
          ],
          "name": "stderr"
        },
        {
          "output_type": "stream",
          "text": [
            "\r 37%|███▋      | 369/1000 [00:16<00:28, 22.51it/s]"
          ],
          "name": "stderr"
        },
        {
          "output_type": "stream",
          "text": [
            "\r 37%|███▋      | 371/1000 [00:16<00:28, 22.46it/s]"
          ],
          "name": "stderr"
        },
        {
          "output_type": "stream",
          "text": [
            "\r 37%|███▋      | 374/1000 [00:16<00:27, 22.46it/s]"
          ],
          "name": "stderr"
        },
        {
          "output_type": "stream",
          "text": [
            "\r 38%|███▊      | 377/1000 [00:16<00:27, 22.44it/s]"
          ],
          "name": "stderr"
        },
        {
          "output_type": "stream",
          "text": [
            "\r 38%|███▊      | 380/1000 [00:16<00:27, 22.38it/s]"
          ],
          "name": "stderr"
        },
        {
          "output_type": "stream",
          "text": [
            "\r 38%|███▊      | 382/1000 [00:17<00:27, 22.36it/s]"
          ],
          "name": "stderr"
        },
        {
          "output_type": "stream",
          "text": [
            "\r 38%|███▊      | 385/1000 [00:17<00:27, 22.27it/s]"
          ],
          "name": "stderr"
        },
        {
          "output_type": "stream",
          "text": [
            "\r 39%|███▉      | 389/1000 [00:17<00:27, 22.22it/s]"
          ],
          "name": "stderr"
        },
        {
          "output_type": "stream",
          "text": [
            "\r 39%|███▉      | 391/1000 [00:17<00:27, 22.21it/s]"
          ],
          "name": "stderr"
        },
        {
          "output_type": "stream",
          "text": [
            "\r 39%|███▉      | 393/1000 [00:17<00:27, 21.96it/s]"
          ],
          "name": "stderr"
        },
        {
          "output_type": "stream",
          "text": [
            "\r 40%|███▉      | 397/1000 [00:18<00:27, 22.06it/s]"
          ],
          "name": "stderr"
        },
        {
          "output_type": "stream",
          "text": [
            "\r 40%|████      | 400/1000 [00:18<00:27, 22.05it/s]"
          ],
          "name": "stderr"
        },
        {
          "output_type": "stream",
          "text": [
            "\r 40%|████      | 403/1000 [00:18<00:27, 21.99it/s]"
          ],
          "name": "stderr"
        },
        {
          "output_type": "stream",
          "text": [
            "\r 40%|████      | 405/1000 [00:18<00:27, 21.90it/s]"
          ],
          "name": "stderr"
        },
        {
          "output_type": "stream",
          "text": [
            "\r 41%|████      | 408/1000 [00:18<00:26, 21.94it/s]"
          ],
          "name": "stderr"
        },
        {
          "output_type": "stream",
          "text": [
            "\r 41%|████      | 411/1000 [00:18<00:26, 21.91it/s]"
          ],
          "name": "stderr"
        },
        {
          "output_type": "stream",
          "text": [
            "\r 41%|████▏     | 414/1000 [00:18<00:26, 21.91it/s]"
          ],
          "name": "stderr"
        },
        {
          "output_type": "stream",
          "text": [
            "\r 42%|████▏     | 417/1000 [00:19<00:26, 21.83it/s]"
          ],
          "name": "stderr"
        },
        {
          "output_type": "stream",
          "text": [
            "\r 42%|████▏     | 419/1000 [00:19<00:26, 21.81it/s]"
          ],
          "name": "stderr"
        },
        {
          "output_type": "stream",
          "text": [
            "\r 42%|████▏     | 421/1000 [00:19<00:26, 21.66it/s]"
          ],
          "name": "stderr"
        },
        {
          "output_type": "stream",
          "text": [
            "\r 42%|████▏     | 423/1000 [00:19<00:26, 21.65it/s]"
          ],
          "name": "stderr"
        },
        {
          "output_type": "stream",
          "text": [
            "\r 42%|████▎     | 425/1000 [00:19<00:26, 21.52it/s]"
          ],
          "name": "stderr"
        },
        {
          "output_type": "stream",
          "text": [
            "\r 43%|████▎     | 428/1000 [00:19<00:26, 21.55it/s]"
          ],
          "name": "stderr"
        },
        {
          "output_type": "stream",
          "text": [
            "\r 43%|████▎     | 431/1000 [00:19<00:26, 21.59it/s]"
          ],
          "name": "stderr"
        },
        {
          "output_type": "stream",
          "text": [
            "\r 43%|████▎     | 434/1000 [00:20<00:26, 21.41it/s]"
          ],
          "name": "stderr"
        },
        {
          "output_type": "stream",
          "text": [
            "\r 44%|████▎     | 436/1000 [00:20<00:26, 21.32it/s]"
          ],
          "name": "stderr"
        },
        {
          "output_type": "stream",
          "text": [
            "\r 44%|████▍     | 439/1000 [00:20<00:26, 21.34it/s]"
          ],
          "name": "stderr"
        },
        {
          "output_type": "stream",
          "text": [
            "\r 44%|████▍     | 442/1000 [00:20<00:26, 21.28it/s]"
          ],
          "name": "stderr"
        },
        {
          "output_type": "stream",
          "text": [
            "\r 44%|████▍     | 444/1000 [00:20<00:26, 21.27it/s]"
          ],
          "name": "stderr"
        },
        {
          "output_type": "stream",
          "text": [
            "\r 45%|████▍     | 447/1000 [00:20<00:25, 21.30it/s]"
          ],
          "name": "stderr"
        },
        {
          "output_type": "stream",
          "text": [
            "\r 45%|████▌     | 450/1000 [00:21<00:26, 21.13it/s]"
          ],
          "name": "stderr"
        },
        {
          "output_type": "stream",
          "text": [
            "\r 45%|████▌     | 452/1000 [00:21<00:26, 20.98it/s]"
          ],
          "name": "stderr"
        },
        {
          "output_type": "stream",
          "text": [
            "\r 45%|████▌     | 454/1000 [00:21<00:26, 20.95it/s]"
          ],
          "name": "stderr"
        },
        {
          "output_type": "stream",
          "text": [
            "\r 46%|████▌     | 457/1000 [00:21<00:25, 20.94it/s]"
          ],
          "name": "stderr"
        },
        {
          "output_type": "stream",
          "text": [
            "\r 46%|████▌     | 459/1000 [00:21<00:25, 20.92it/s]"
          ],
          "name": "stderr"
        },
        {
          "output_type": "stream",
          "text": [
            "\r 46%|████▌     | 462/1000 [00:22<00:25, 20.93it/s]"
          ],
          "name": "stderr"
        },
        {
          "output_type": "stream",
          "text": [
            "\r 46%|████▋     | 464/1000 [00:22<00:25, 20.84it/s]"
          ],
          "name": "stderr"
        },
        {
          "output_type": "stream",
          "text": [
            "\r 47%|████▋     | 467/1000 [00:22<00:25, 20.85it/s]"
          ],
          "name": "stderr"
        },
        {
          "output_type": "stream",
          "text": [
            "\r 47%|████▋     | 470/1000 [00:22<00:25, 20.88it/s]"
          ],
          "name": "stderr"
        },
        {
          "output_type": "stream",
          "text": [
            "\r 47%|████▋     | 473/1000 [00:22<00:25, 20.85it/s]"
          ],
          "name": "stderr"
        },
        {
          "output_type": "stream",
          "text": [
            "\r 48%|████▊     | 475/1000 [00:22<00:25, 20.79it/s]"
          ],
          "name": "stderr"
        },
        {
          "output_type": "stream",
          "text": [
            "\r 48%|████▊     | 477/1000 [00:22<00:25, 20.77it/s]"
          ],
          "name": "stderr"
        },
        {
          "output_type": "stream",
          "text": [
            "\r 48%|████▊     | 479/1000 [00:23<00:25, 20.73it/s]"
          ],
          "name": "stderr"
        },
        {
          "output_type": "stream",
          "text": [
            "\r 48%|████▊     | 482/1000 [00:23<00:24, 20.75it/s]"
          ],
          "name": "stderr"
        },
        {
          "output_type": "stream",
          "text": [
            "\r 48%|████▊     | 484/1000 [00:23<00:24, 20.70it/s]"
          ],
          "name": "stderr"
        },
        {
          "output_type": "stream",
          "text": [
            "\r 49%|████▊     | 486/1000 [00:23<00:24, 20.61it/s]"
          ],
          "name": "stderr"
        },
        {
          "output_type": "stream",
          "text": [
            "\r 49%|████▉     | 488/1000 [00:23<00:24, 20.58it/s]"
          ],
          "name": "stderr"
        },
        {
          "output_type": "stream",
          "text": [
            "\r 49%|████▉     | 490/1000 [00:23<00:24, 20.52it/s]"
          ],
          "name": "stderr"
        },
        {
          "output_type": "stream",
          "text": [
            "\r 49%|████▉     | 492/1000 [00:24<00:25, 20.29it/s]"
          ],
          "name": "stderr"
        },
        {
          "output_type": "stream",
          "text": [
            "\r 50%|████▉     | 495/1000 [00:24<00:24, 20.31it/s]"
          ],
          "name": "stderr"
        },
        {
          "output_type": "stream",
          "text": [
            "\r 50%|████▉     | 497/1000 [00:24<00:24, 20.31it/s]"
          ],
          "name": "stderr"
        },
        {
          "output_type": "stream",
          "text": [
            "\r 50%|█████     | 500/1000 [00:24<00:24, 20.24it/s]"
          ],
          "name": "stderr"
        },
        {
          "output_type": "stream",
          "text": [
            "\r 50%|█████     | 503/1000 [00:24<00:24, 20.25it/s]"
          ],
          "name": "stderr"
        },
        {
          "output_type": "stream",
          "text": [
            "\r 51%|█████     | 507/1000 [00:24<00:24, 20.32it/s]"
          ],
          "name": "stderr"
        },
        {
          "output_type": "stream",
          "text": [
            "\r 51%|█████     | 510/1000 [00:25<00:24, 20.34it/s]"
          ],
          "name": "stderr"
        },
        {
          "output_type": "stream",
          "text": [
            "\r 51%|█████▏    | 513/1000 [00:25<00:24, 20.29it/s]"
          ],
          "name": "stderr"
        },
        {
          "output_type": "stream",
          "text": [
            "\r 52%|█████▏    | 516/1000 [00:25<00:23, 20.24it/s]"
          ],
          "name": "stderr"
        },
        {
          "output_type": "stream",
          "text": [
            "\r 52%|█████▏    | 518/1000 [00:25<00:23, 20.24it/s]"
          ],
          "name": "stderr"
        },
        {
          "output_type": "stream",
          "text": [
            "\r 52%|█████▏    | 521/1000 [00:25<00:23, 20.26it/s]"
          ],
          "name": "stderr"
        },
        {
          "output_type": "stream",
          "text": [
            "\r 52%|█████▏    | 524/1000 [00:25<00:23, 20.28it/s]"
          ],
          "name": "stderr"
        },
        {
          "output_type": "stream",
          "text": [
            "\r 53%|█████▎    | 527/1000 [00:26<00:23, 20.21it/s]"
          ],
          "name": "stderr"
        },
        {
          "output_type": "stream",
          "text": [
            "\r 53%|█████▎    | 530/1000 [00:26<00:23, 20.24it/s]"
          ],
          "name": "stderr"
        },
        {
          "output_type": "stream",
          "text": [
            "\r 53%|█████▎    | 533/1000 [00:26<00:23, 20.24it/s]"
          ],
          "name": "stderr"
        },
        {
          "output_type": "stream",
          "text": [
            "\r 54%|█████▎    | 536/1000 [00:26<00:23, 20.13it/s]"
          ],
          "name": "stderr"
        },
        {
          "output_type": "stream",
          "text": [
            "\r 54%|█████▍    | 538/1000 [00:26<00:22, 20.10it/s]"
          ],
          "name": "stderr"
        },
        {
          "output_type": "stream",
          "text": [
            "\r 54%|█████▍    | 540/1000 [00:26<00:22, 20.08it/s]"
          ],
          "name": "stderr"
        },
        {
          "output_type": "stream",
          "text": [
            "\r 54%|█████▍    | 542/1000 [00:27<00:22, 20.04it/s]"
          ],
          "name": "stderr"
        },
        {
          "output_type": "stream",
          "text": [
            "\r 55%|█████▍    | 546/1000 [00:27<00:22, 20.06it/s]"
          ],
          "name": "stderr"
        },
        {
          "output_type": "stream",
          "text": [
            "\r 55%|█████▍    | 548/1000 [00:27<00:22, 20.06it/s]"
          ],
          "name": "stderr"
        },
        {
          "output_type": "stream",
          "text": [
            "\r 55%|█████▌    | 550/1000 [00:27<00:22, 20.04it/s]"
          ],
          "name": "stderr"
        },
        {
          "output_type": "stream",
          "text": [
            "\r 55%|█████▌    | 552/1000 [00:27<00:22, 20.01it/s]"
          ],
          "name": "stderr"
        },
        {
          "output_type": "stream",
          "text": [
            "\r 55%|█████▌    | 554/1000 [00:27<00:22, 19.97it/s]"
          ],
          "name": "stderr"
        },
        {
          "output_type": "stream",
          "text": [
            "\r 56%|█████▌    | 556/1000 [00:27<00:22, 19.96it/s]"
          ],
          "name": "stderr"
        },
        {
          "output_type": "stream",
          "text": [
            "\r 56%|█████▌    | 559/1000 [00:27<00:22, 19.99it/s]"
          ],
          "name": "stderr"
        },
        {
          "output_type": "stream",
          "text": [
            "\r 56%|█████▌    | 561/1000 [00:28<00:22, 19.95it/s]"
          ],
          "name": "stderr"
        },
        {
          "output_type": "stream",
          "text": [
            "\r 56%|█████▋    | 563/1000 [00:28<00:21, 19.94it/s]"
          ],
          "name": "stderr"
        },
        {
          "output_type": "stream",
          "text": [
            "\r 56%|█████▋    | 565/1000 [00:28<00:21, 19.93it/s]"
          ],
          "name": "stderr"
        },
        {
          "output_type": "stream",
          "text": [
            "\r 57%|█████▋    | 568/1000 [00:28<00:21, 19.94it/s]"
          ],
          "name": "stderr"
        },
        {
          "output_type": "stream",
          "text": [
            "\r 57%|█████▋    | 570/1000 [00:28<00:21, 19.72it/s]"
          ],
          "name": "stderr"
        },
        {
          "output_type": "stream",
          "text": [
            "\r 57%|█████▋    | 572/1000 [00:29<00:21, 19.66it/s]"
          ],
          "name": "stderr"
        },
        {
          "output_type": "stream",
          "text": [
            "\r 57%|█████▊    | 575/1000 [00:29<00:21, 19.68it/s]"
          ],
          "name": "stderr"
        },
        {
          "output_type": "stream",
          "text": [
            "\r 58%|█████▊    | 577/1000 [00:29<00:21, 19.61it/s]"
          ],
          "name": "stderr"
        },
        {
          "output_type": "stream",
          "text": [
            "\r 58%|█████▊    | 580/1000 [00:29<00:21, 19.59it/s]"
          ],
          "name": "stderr"
        },
        {
          "output_type": "stream",
          "text": [
            "\r 58%|█████▊    | 582/1000 [00:29<00:21, 19.56it/s]"
          ],
          "name": "stderr"
        },
        {
          "output_type": "stream",
          "text": [
            "\r 58%|█████▊    | 584/1000 [00:29<00:21, 19.53it/s]"
          ],
          "name": "stderr"
        },
        {
          "output_type": "stream",
          "text": [
            "\r 59%|█████▊    | 586/1000 [00:30<00:21, 19.50it/s]"
          ],
          "name": "stderr"
        },
        {
          "output_type": "stream",
          "text": [
            "\r 59%|█████▉    | 590/1000 [00:30<00:20, 19.56it/s]"
          ],
          "name": "stderr"
        },
        {
          "output_type": "stream",
          "text": [
            "\r 59%|█████▉    | 593/1000 [00:30<00:20, 19.47it/s]"
          ],
          "name": "stderr"
        },
        {
          "output_type": "stream",
          "text": [
            "\r 60%|█████▉    | 595/1000 [00:30<00:20, 19.41it/s]"
          ],
          "name": "stderr"
        },
        {
          "output_type": "stream",
          "text": [
            "\r 60%|█████▉    | 597/1000 [00:30<00:20, 19.39it/s]"
          ],
          "name": "stderr"
        },
        {
          "output_type": "stream",
          "text": [
            "\r 60%|█████▉    | 599/1000 [00:30<00:20, 19.37it/s]"
          ],
          "name": "stderr"
        },
        {
          "output_type": "stream",
          "text": [
            "\r 60%|██████    | 601/1000 [00:31<00:20, 19.37it/s]"
          ],
          "name": "stderr"
        },
        {
          "output_type": "stream",
          "text": [
            "\r 60%|██████    | 603/1000 [00:31<00:20, 19.31it/s]"
          ],
          "name": "stderr"
        },
        {
          "output_type": "stream",
          "text": [
            "\r 60%|██████    | 605/1000 [00:31<00:20, 19.28it/s]"
          ],
          "name": "stderr"
        },
        {
          "output_type": "stream",
          "text": [
            "\r 61%|██████    | 607/1000 [00:31<00:20, 19.20it/s]"
          ],
          "name": "stderr"
        },
        {
          "output_type": "stream",
          "text": [
            "\r 61%|██████    | 609/1000 [00:31<00:20, 19.14it/s]"
          ],
          "name": "stderr"
        },
        {
          "output_type": "stream",
          "text": [
            "\r 61%|██████    | 612/1000 [00:31<00:20, 19.15it/s]"
          ],
          "name": "stderr"
        },
        {
          "output_type": "stream",
          "text": [
            "\r 61%|██████▏   | 614/1000 [00:32<00:20, 19.14it/s]"
          ],
          "name": "stderr"
        },
        {
          "output_type": "stream",
          "text": [
            "\r 62%|██████▏   | 616/1000 [00:32<00:20, 19.14it/s]"
          ],
          "name": "stderr"
        },
        {
          "output_type": "stream",
          "text": [
            "\r 62%|██████▏   | 618/1000 [00:32<00:20, 19.09it/s]"
          ],
          "name": "stderr"
        },
        {
          "output_type": "stream",
          "text": [
            "\r 62%|██████▏   | 620/1000 [00:32<00:20, 18.99it/s]"
          ],
          "name": "stderr"
        },
        {
          "output_type": "stream",
          "text": [
            "\r 62%|██████▏   | 622/1000 [00:32<00:19, 18.96it/s]"
          ],
          "name": "stderr"
        },
        {
          "output_type": "stream",
          "text": [
            "\r 62%|██████▏   | 624/1000 [00:33<00:19, 18.86it/s]"
          ],
          "name": "stderr"
        },
        {
          "output_type": "stream",
          "text": [
            "\r 63%|██████▎   | 626/1000 [00:33<00:19, 18.85it/s]"
          ],
          "name": "stderr"
        },
        {
          "output_type": "stream",
          "text": [
            "\r 63%|██████▎   | 628/1000 [00:33<00:19, 18.79it/s]"
          ],
          "name": "stderr"
        },
        {
          "output_type": "stream",
          "text": [
            "\r 63%|██████▎   | 630/1000 [00:33<00:19, 18.74it/s]"
          ],
          "name": "stderr"
        },
        {
          "output_type": "stream",
          "text": [
            "\r 63%|██████▎   | 632/1000 [00:33<00:19, 18.64it/s]"
          ],
          "name": "stderr"
        },
        {
          "output_type": "stream",
          "text": [
            "\r 64%|██████▎   | 635/1000 [00:34<00:19, 18.63it/s]"
          ],
          "name": "stderr"
        },
        {
          "output_type": "stream",
          "text": [
            "\r 64%|██████▍   | 638/1000 [00:34<00:19, 18.62it/s]"
          ],
          "name": "stderr"
        },
        {
          "output_type": "stream",
          "text": [
            "\r 64%|██████▍   | 640/1000 [00:34<00:19, 18.62it/s]"
          ],
          "name": "stderr"
        },
        {
          "output_type": "stream",
          "text": [
            "\r 64%|██████▍   | 643/1000 [00:34<00:19, 18.63it/s]"
          ],
          "name": "stderr"
        },
        {
          "output_type": "stream",
          "text": [
            "\r 64%|██████▍   | 645/1000 [00:34<00:19, 18.63it/s]"
          ],
          "name": "stderr"
        },
        {
          "output_type": "stream",
          "text": [
            "\r 65%|██████▍   | 647/1000 [00:34<00:18, 18.60it/s]"
          ],
          "name": "stderr"
        },
        {
          "output_type": "stream",
          "text": [
            "\r 65%|██████▍   | 649/1000 [00:34<00:18, 18.55it/s]"
          ],
          "name": "stderr"
        },
        {
          "output_type": "stream",
          "text": [
            "\r 65%|██████▌   | 651/1000 [00:35<00:18, 18.51it/s]"
          ],
          "name": "stderr"
        },
        {
          "output_type": "stream",
          "text": [
            "\r 65%|██████▌   | 653/1000 [00:35<00:18, 18.47it/s]"
          ],
          "name": "stderr"
        },
        {
          "output_type": "stream",
          "text": [
            "\r 66%|██████▌   | 655/1000 [00:35<00:18, 18.35it/s]"
          ],
          "name": "stderr"
        },
        {
          "output_type": "stream",
          "text": [
            "\r 66%|██████▌   | 657/1000 [00:35<00:18, 18.30it/s]"
          ],
          "name": "stderr"
        },
        {
          "output_type": "stream",
          "text": [
            "\r 66%|██████▌   | 659/1000 [00:36<00:18, 18.24it/s]"
          ],
          "name": "stderr"
        },
        {
          "output_type": "stream",
          "text": [
            "\r 66%|██████▌   | 662/1000 [00:36<00:18, 18.24it/s]"
          ],
          "name": "stderr"
        },
        {
          "output_type": "stream",
          "text": [
            "\r 66%|██████▋   | 664/1000 [00:36<00:18, 18.16it/s]"
          ],
          "name": "stderr"
        },
        {
          "output_type": "stream",
          "text": [
            "\r 67%|██████▋   | 666/1000 [00:36<00:18, 18.13it/s]"
          ],
          "name": "stderr"
        },
        {
          "output_type": "stream",
          "text": [
            "\r 67%|██████▋   | 669/1000 [00:36<00:18, 18.15it/s]"
          ],
          "name": "stderr"
        },
        {
          "output_type": "stream",
          "text": [
            "\r 67%|██████▋   | 671/1000 [00:37<00:18, 18.11it/s]"
          ],
          "name": "stderr"
        },
        {
          "output_type": "stream",
          "text": [
            "\r 67%|██████▋   | 673/1000 [00:37<00:18, 18.11it/s]"
          ],
          "name": "stderr"
        },
        {
          "output_type": "stream",
          "text": [
            "\r 68%|██████▊   | 675/1000 [00:37<00:17, 18.08it/s]"
          ],
          "name": "stderr"
        },
        {
          "output_type": "stream",
          "text": [
            "\r 68%|██████▊   | 678/1000 [00:37<00:17, 18.10it/s]"
          ],
          "name": "stderr"
        },
        {
          "output_type": "stream",
          "text": [
            "\r 68%|██████▊   | 680/1000 [00:37<00:17, 18.07it/s]"
          ],
          "name": "stderr"
        },
        {
          "output_type": "stream",
          "text": [
            "\r 68%|██████▊   | 682/1000 [00:37<00:17, 17.98it/s]"
          ],
          "name": "stderr"
        },
        {
          "output_type": "stream",
          "text": [
            "\r 68%|██████▊   | 684/1000 [00:38<00:17, 17.93it/s]"
          ],
          "name": "stderr"
        },
        {
          "output_type": "stream",
          "text": [
            "\r 69%|██████▊   | 686/1000 [00:38<00:17, 17.91it/s]"
          ],
          "name": "stderr"
        },
        {
          "output_type": "stream",
          "text": [
            "\r 69%|██████▉   | 689/1000 [00:38<00:17, 17.94it/s]"
          ],
          "name": "stderr"
        },
        {
          "output_type": "stream",
          "text": [
            "\r 69%|██████▉   | 692/1000 [00:38<00:17, 17.93it/s]"
          ],
          "name": "stderr"
        },
        {
          "output_type": "stream",
          "text": [
            "\r 69%|██████▉   | 694/1000 [00:38<00:17, 17.91it/s]"
          ],
          "name": "stderr"
        },
        {
          "output_type": "stream",
          "text": [
            "\r 70%|██████▉   | 696/1000 [00:38<00:17, 17.86it/s]"
          ],
          "name": "stderr"
        },
        {
          "output_type": "stream",
          "text": [
            "\r 70%|██████▉   | 698/1000 [00:39<00:16, 17.81it/s]"
          ],
          "name": "stderr"
        },
        {
          "output_type": "stream",
          "text": [
            "\r 70%|███████   | 700/1000 [00:39<00:16, 17.79it/s]"
          ],
          "name": "stderr"
        },
        {
          "output_type": "stream",
          "text": [
            "\r 70%|███████   | 702/1000 [00:39<00:16, 17.72it/s]"
          ],
          "name": "stderr"
        },
        {
          "output_type": "stream",
          "text": [
            "\r 71%|███████   | 706/1000 [00:39<00:16, 17.73it/s]"
          ],
          "name": "stderr"
        },
        {
          "output_type": "stream",
          "text": [
            "\r 71%|███████   | 708/1000 [00:39<00:16, 17.71it/s]"
          ],
          "name": "stderr"
        },
        {
          "output_type": "stream",
          "text": [
            "\r 71%|███████   | 710/1000 [00:40<00:16, 17.67it/s]"
          ],
          "name": "stderr"
        },
        {
          "output_type": "stream",
          "text": [
            "\r 71%|███████   | 712/1000 [00:40<00:16, 17.65it/s]"
          ],
          "name": "stderr"
        },
        {
          "output_type": "stream",
          "text": [
            "\r 71%|███████▏  | 714/1000 [00:40<00:16, 17.64it/s]"
          ],
          "name": "stderr"
        },
        {
          "output_type": "stream",
          "text": [
            "\r 72%|███████▏  | 716/1000 [00:40<00:16, 17.63it/s]"
          ],
          "name": "stderr"
        },
        {
          "output_type": "stream",
          "text": [
            "\r 72%|███████▏  | 718/1000 [00:40<00:16, 17.57it/s]"
          ],
          "name": "stderr"
        },
        {
          "output_type": "stream",
          "text": [
            "\r 72%|███████▏  | 720/1000 [00:41<00:15, 17.52it/s]"
          ],
          "name": "stderr"
        },
        {
          "output_type": "stream",
          "text": [
            "\r 72%|███████▏  | 722/1000 [00:41<00:15, 17.49it/s]"
          ],
          "name": "stderr"
        },
        {
          "output_type": "stream",
          "text": [
            "\r 72%|███████▏  | 724/1000 [00:41<00:15, 17.46it/s]"
          ],
          "name": "stderr"
        },
        {
          "output_type": "stream",
          "text": [
            "\r 73%|███████▎  | 726/1000 [00:41<00:15, 17.39it/s]"
          ],
          "name": "stderr"
        },
        {
          "output_type": "stream",
          "text": [
            "\r 73%|███████▎  | 728/1000 [00:41<00:15, 17.38it/s]"
          ],
          "name": "stderr"
        },
        {
          "output_type": "stream",
          "text": [
            "\r 73%|███████▎  | 730/1000 [00:42<00:15, 17.30it/s]"
          ],
          "name": "stderr"
        },
        {
          "output_type": "stream",
          "text": [
            "\r 73%|███████▎  | 733/1000 [00:42<00:15, 17.32it/s]"
          ],
          "name": "stderr"
        },
        {
          "output_type": "stream",
          "text": [
            "\r 74%|███████▎  | 735/1000 [00:42<00:15, 17.32it/s]"
          ],
          "name": "stderr"
        },
        {
          "output_type": "stream",
          "text": [
            "\r 74%|███████▎  | 737/1000 [00:42<00:15, 17.26it/s]"
          ],
          "name": "stderr"
        },
        {
          "output_type": "stream",
          "text": [
            "\r 74%|███████▍  | 739/1000 [00:42<00:15, 17.22it/s]"
          ],
          "name": "stderr"
        },
        {
          "output_type": "stream",
          "text": [
            "\r 74%|███████▍  | 741/1000 [00:43<00:15, 17.20it/s]"
          ],
          "name": "stderr"
        },
        {
          "output_type": "stream",
          "text": [
            "\r 74%|███████▍  | 743/1000 [00:43<00:14, 17.21it/s]"
          ],
          "name": "stderr"
        },
        {
          "output_type": "stream",
          "text": [
            "\r 74%|███████▍  | 745/1000 [00:43<00:14, 17.21it/s]"
          ],
          "name": "stderr"
        },
        {
          "output_type": "stream",
          "text": [
            "\r 75%|███████▍  | 747/1000 [00:43<00:14, 17.14it/s]"
          ],
          "name": "stderr"
        },
        {
          "output_type": "stream",
          "text": [
            "\r 75%|███████▍  | 749/1000 [00:43<00:14, 17.08it/s]"
          ],
          "name": "stderr"
        },
        {
          "output_type": "stream",
          "text": [
            "\r 75%|███████▌  | 751/1000 [00:44<00:14, 17.05it/s]"
          ],
          "name": "stderr"
        },
        {
          "output_type": "stream",
          "text": [
            "\r 75%|███████▌  | 754/1000 [00:44<00:14, 17.03it/s]"
          ],
          "name": "stderr"
        },
        {
          "output_type": "stream",
          "text": [
            "\r 76%|███████▌  | 756/1000 [00:44<00:14, 17.04it/s]"
          ],
          "name": "stderr"
        },
        {
          "output_type": "stream",
          "text": [
            "\r 76%|███████▌  | 758/1000 [00:44<00:14, 17.04it/s]"
          ],
          "name": "stderr"
        },
        {
          "output_type": "stream",
          "text": [
            "\r 76%|███████▌  | 760/1000 [00:44<00:14, 16.99it/s]"
          ],
          "name": "stderr"
        },
        {
          "output_type": "stream",
          "text": [
            "\r 76%|███████▌  | 762/1000 [00:44<00:14, 16.97it/s]"
          ],
          "name": "stderr"
        },
        {
          "output_type": "stream",
          "text": [
            "\r 76%|███████▋  | 764/1000 [00:45<00:13, 16.94it/s]"
          ],
          "name": "stderr"
        },
        {
          "output_type": "stream",
          "text": [
            "\r 77%|███████▋  | 766/1000 [00:45<00:13, 16.91it/s]"
          ],
          "name": "stderr"
        },
        {
          "output_type": "stream",
          "text": [
            "\r 77%|███████▋  | 768/1000 [00:45<00:13, 16.88it/s]"
          ],
          "name": "stderr"
        },
        {
          "output_type": "stream",
          "text": [
            "\r 77%|███████▋  | 770/1000 [00:45<00:13, 16.88it/s]"
          ],
          "name": "stderr"
        },
        {
          "output_type": "stream",
          "text": [
            "\r 77%|███████▋  | 772/1000 [00:45<00:13, 16.86it/s]"
          ],
          "name": "stderr"
        },
        {
          "output_type": "stream",
          "text": [
            "\r 77%|███████▋  | 774/1000 [00:45<00:13, 16.83it/s]"
          ],
          "name": "stderr"
        },
        {
          "output_type": "stream",
          "text": [
            "\r 78%|███████▊  | 776/1000 [00:46<00:13, 16.82it/s]"
          ],
          "name": "stderr"
        },
        {
          "output_type": "stream",
          "text": [
            "\r 78%|███████▊  | 779/1000 [00:46<00:13, 16.79it/s]"
          ],
          "name": "stderr"
        },
        {
          "output_type": "stream",
          "text": [
            "\r 78%|███████▊  | 781/1000 [00:46<00:13, 16.78it/s]"
          ],
          "name": "stderr"
        },
        {
          "output_type": "stream",
          "text": [
            "\r 78%|███████▊  | 783/1000 [00:46<00:12, 16.77it/s]"
          ],
          "name": "stderr"
        },
        {
          "output_type": "stream",
          "text": [
            "\r 78%|███████▊  | 785/1000 [00:46<00:12, 16.73it/s]"
          ],
          "name": "stderr"
        },
        {
          "output_type": "stream",
          "text": [
            "\r 79%|███████▊  | 787/1000 [00:47<00:12, 16.73it/s]"
          ],
          "name": "stderr"
        },
        {
          "output_type": "stream",
          "text": [
            "\r 79%|███████▉  | 790/1000 [00:47<00:12, 16.72it/s]"
          ],
          "name": "stderr"
        },
        {
          "output_type": "stream",
          "text": [
            "\r 79%|███████▉  | 792/1000 [00:47<00:12, 16.71it/s]"
          ],
          "name": "stderr"
        },
        {
          "output_type": "stream",
          "text": [
            "\r 80%|███████▉  | 795/1000 [00:47<00:12, 16.74it/s]"
          ],
          "name": "stderr"
        },
        {
          "output_type": "stream",
          "text": [
            "\r 80%|███████▉  | 798/1000 [00:47<00:12, 16.69it/s]"
          ],
          "name": "stderr"
        },
        {
          "output_type": "stream",
          "text": [
            "\r 80%|████████  | 800/1000 [00:47<00:11, 16.67it/s]"
          ],
          "name": "stderr"
        },
        {
          "output_type": "stream",
          "text": [
            "\r 80%|████████  | 802/1000 [00:48<00:11, 16.66it/s]"
          ],
          "name": "stderr"
        },
        {
          "output_type": "stream",
          "text": [
            "\r 80%|████████  | 804/1000 [00:48<00:11, 16.61it/s]"
          ],
          "name": "stderr"
        },
        {
          "output_type": "stream",
          "text": [
            "\r 81%|████████  | 806/1000 [00:48<00:11, 16.62it/s]"
          ],
          "name": "stderr"
        },
        {
          "output_type": "stream",
          "text": [
            "\r 81%|████████  | 809/1000 [00:48<00:11, 16.64it/s]"
          ],
          "name": "stderr"
        },
        {
          "output_type": "stream",
          "text": [
            "\r 81%|████████  | 811/1000 [00:48<00:11, 16.64it/s]"
          ],
          "name": "stderr"
        },
        {
          "output_type": "stream",
          "text": [
            "\r 81%|████████▏ | 813/1000 [00:48<00:11, 16.64it/s]"
          ],
          "name": "stderr"
        },
        {
          "output_type": "stream",
          "text": [
            "\r 82%|████████▏ | 815/1000 [00:49<00:11, 16.62it/s]"
          ],
          "name": "stderr"
        },
        {
          "output_type": "stream",
          "text": [
            "\r 82%|████████▏ | 817/1000 [00:49<00:11, 16.55it/s]"
          ],
          "name": "stderr"
        },
        {
          "output_type": "stream",
          "text": [
            "\r 82%|████████▏ | 820/1000 [00:49<00:10, 16.53it/s]"
          ],
          "name": "stderr"
        },
        {
          "output_type": "stream",
          "text": [
            "\r 82%|████████▏ | 822/1000 [00:49<00:10, 16.45it/s]"
          ],
          "name": "stderr"
        },
        {
          "output_type": "stream",
          "text": [
            "\r 82%|████████▏ | 824/1000 [00:50<00:10, 16.45it/s]"
          ],
          "name": "stderr"
        },
        {
          "output_type": "stream",
          "text": [
            "\r 83%|████████▎ | 826/1000 [00:50<00:10, 16.42it/s]"
          ],
          "name": "stderr"
        },
        {
          "output_type": "stream",
          "text": [
            "\r 83%|████████▎ | 828/1000 [00:50<00:10, 16.39it/s]"
          ],
          "name": "stderr"
        },
        {
          "output_type": "stream",
          "text": [
            "\r 83%|████████▎ | 830/1000 [00:50<00:10, 16.34it/s]"
          ],
          "name": "stderr"
        },
        {
          "output_type": "stream",
          "text": [
            "\r 83%|████████▎ | 832/1000 [00:51<00:10, 16.30it/s]"
          ],
          "name": "stderr"
        },
        {
          "output_type": "stream",
          "text": [
            "\r 83%|████████▎ | 833/1000 [00:51<00:10, 16.23it/s]"
          ],
          "name": "stderr"
        },
        {
          "output_type": "stream",
          "text": [
            "\r 84%|████████▎ | 835/1000 [00:51<00:10, 16.22it/s]"
          ],
          "name": "stderr"
        },
        {
          "output_type": "stream",
          "text": [
            "\r 84%|████████▎ | 837/1000 [00:51<00:10, 16.21it/s]"
          ],
          "name": "stderr"
        },
        {
          "output_type": "stream",
          "text": [
            "\r 84%|████████▍ | 840/1000 [00:51<00:09, 16.20it/s]"
          ],
          "name": "stderr"
        },
        {
          "output_type": "stream",
          "text": [
            "\r 84%|████████▍ | 842/1000 [00:51<00:09, 16.20it/s]"
          ],
          "name": "stderr"
        },
        {
          "output_type": "stream",
          "text": [
            "\r 84%|████████▍ | 844/1000 [00:52<00:09, 16.16it/s]"
          ],
          "name": "stderr"
        },
        {
          "output_type": "stream",
          "text": [
            "\r 85%|████████▍ | 846/1000 [00:52<00:09, 16.13it/s]"
          ],
          "name": "stderr"
        },
        {
          "output_type": "stream",
          "text": [
            "\r 85%|████████▍ | 848/1000 [00:52<00:09, 16.06it/s]"
          ],
          "name": "stderr"
        },
        {
          "output_type": "stream",
          "text": [
            "\r 85%|████████▍ | 849/1000 [00:52<00:09, 16.03it/s]"
          ],
          "name": "stderr"
        },
        {
          "output_type": "stream",
          "text": [
            "\r 85%|████████▌ | 852/1000 [00:53<00:09, 16.04it/s]"
          ],
          "name": "stderr"
        },
        {
          "output_type": "stream",
          "text": [
            "\r 85%|████████▌ | 854/1000 [00:53<00:09, 15.97it/s]"
          ],
          "name": "stderr"
        },
        {
          "output_type": "stream",
          "text": [
            "\r 86%|████████▌ | 855/1000 [00:53<00:09, 15.94it/s]"
          ],
          "name": "stderr"
        },
        {
          "output_type": "stream",
          "text": [
            "\r 86%|████████▌ | 856/1000 [00:53<00:09, 15.89it/s]"
          ],
          "name": "stderr"
        },
        {
          "output_type": "stream",
          "text": [
            "\r 86%|████████▌ | 857/1000 [00:54<00:09, 15.85it/s]"
          ],
          "name": "stderr"
        },
        {
          "output_type": "stream",
          "text": [
            "\r 86%|████████▌ | 859/1000 [00:54<00:08, 15.85it/s]"
          ],
          "name": "stderr"
        },
        {
          "output_type": "stream",
          "text": [
            "\r 86%|████████▌ | 860/1000 [00:54<00:08, 15.82it/s]"
          ],
          "name": "stderr"
        },
        {
          "output_type": "stream",
          "text": [
            "\r 86%|████████▋ | 863/1000 [00:54<00:08, 15.82it/s]"
          ],
          "name": "stderr"
        },
        {
          "output_type": "stream",
          "text": [
            "\r 86%|████████▋ | 865/1000 [00:54<00:08, 15.82it/s]"
          ],
          "name": "stderr"
        },
        {
          "output_type": "stream",
          "text": [
            "\r 87%|████████▋ | 867/1000 [00:54<00:08, 15.78it/s]"
          ],
          "name": "stderr"
        },
        {
          "output_type": "stream",
          "text": [
            "\r 87%|████████▋ | 869/1000 [00:55<00:08, 15.76it/s]"
          ],
          "name": "stderr"
        },
        {
          "output_type": "stream",
          "text": [
            "\r 87%|████████▋ | 871/1000 [00:55<00:08, 15.72it/s]"
          ],
          "name": "stderr"
        },
        {
          "output_type": "stream",
          "text": [
            "\r 87%|████████▋ | 873/1000 [00:55<00:08, 15.72it/s]"
          ],
          "name": "stderr"
        },
        {
          "output_type": "stream",
          "text": [
            "\r 88%|████████▊ | 875/1000 [00:55<00:07, 15.72it/s]"
          ],
          "name": "stderr"
        },
        {
          "output_type": "stream",
          "text": [
            "\r 88%|████████▊ | 877/1000 [00:55<00:07, 15.68it/s]"
          ],
          "name": "stderr"
        },
        {
          "output_type": "stream",
          "text": [
            "\r 88%|████████▊ | 879/1000 [00:56<00:07, 15.68it/s]"
          ],
          "name": "stderr"
        },
        {
          "output_type": "stream",
          "text": [
            "\r 88%|████████▊ | 881/1000 [00:56<00:07, 15.66it/s]"
          ],
          "name": "stderr"
        },
        {
          "output_type": "stream",
          "text": [
            "\r 88%|████████▊ | 883/1000 [00:56<00:07, 15.65it/s]"
          ],
          "name": "stderr"
        },
        {
          "output_type": "stream",
          "text": [
            "\r 88%|████████▊ | 885/1000 [00:56<00:07, 15.60it/s]"
          ],
          "name": "stderr"
        },
        {
          "output_type": "stream",
          "text": [
            "\r 89%|████████▊ | 887/1000 [00:57<00:07, 15.55it/s]"
          ],
          "name": "stderr"
        },
        {
          "output_type": "stream",
          "text": [
            "\r 89%|████████▉ | 888/1000 [00:57<00:07, 15.53it/s]"
          ],
          "name": "stderr"
        },
        {
          "output_type": "stream",
          "text": [
            "\r 89%|████████▉ | 890/1000 [00:57<00:07, 15.52it/s]"
          ],
          "name": "stderr"
        },
        {
          "output_type": "stream",
          "text": [
            "\r 89%|████████▉ | 892/1000 [00:57<00:06, 15.52it/s]"
          ],
          "name": "stderr"
        },
        {
          "output_type": "stream",
          "text": [
            "\r 89%|████████▉ | 894/1000 [00:57<00:06, 15.52it/s]"
          ],
          "name": "stderr"
        },
        {
          "output_type": "stream",
          "text": [
            "\r 90%|████████▉ | 896/1000 [00:57<00:06, 15.52it/s]"
          ],
          "name": "stderr"
        },
        {
          "output_type": "stream",
          "text": [
            "\r 90%|████████▉ | 898/1000 [00:57<00:06, 15.51it/s]"
          ],
          "name": "stderr"
        },
        {
          "output_type": "stream",
          "text": [
            "\r 90%|█████████ | 900/1000 [00:58<00:06, 15.50it/s]"
          ],
          "name": "stderr"
        },
        {
          "output_type": "stream",
          "text": [
            "\r 90%|█████████ | 902/1000 [00:58<00:06, 15.50it/s]"
          ],
          "name": "stderr"
        },
        {
          "output_type": "stream",
          "text": [
            "\r 90%|█████████ | 904/1000 [00:58<00:06, 15.47it/s]"
          ],
          "name": "stderr"
        },
        {
          "output_type": "stream",
          "text": [
            "\r 91%|█████████ | 906/1000 [00:58<00:06, 15.39it/s]"
          ],
          "name": "stderr"
        },
        {
          "output_type": "stream",
          "text": [
            "\r 91%|█████████ | 907/1000 [00:59<00:06, 15.37it/s]"
          ],
          "name": "stderr"
        },
        {
          "output_type": "stream",
          "text": [
            "\r 91%|█████████ | 909/1000 [00:59<00:05, 15.35it/s]"
          ],
          "name": "stderr"
        },
        {
          "output_type": "stream",
          "text": [
            "\r 91%|█████████ | 911/1000 [00:59<00:05, 15.33it/s]"
          ],
          "name": "stderr"
        },
        {
          "output_type": "stream",
          "text": [
            "\r 91%|█████████▏| 913/1000 [00:59<00:05, 15.30it/s]"
          ],
          "name": "stderr"
        },
        {
          "output_type": "stream",
          "text": [
            "\r 91%|█████████▏| 914/1000 [00:59<00:05, 15.27it/s]"
          ],
          "name": "stderr"
        },
        {
          "output_type": "stream",
          "text": [
            "\r 92%|█████████▏| 915/1000 [01:00<00:05, 15.25it/s]"
          ],
          "name": "stderr"
        },
        {
          "output_type": "stream",
          "text": [
            "\r 92%|█████████▏| 917/1000 [01:00<00:05, 15.22it/s]"
          ],
          "name": "stderr"
        },
        {
          "output_type": "stream",
          "text": [
            "\r 92%|█████████▏| 918/1000 [01:00<00:05, 15.17it/s]"
          ],
          "name": "stderr"
        },
        {
          "output_type": "stream",
          "text": [
            "\r 92%|█████████▏| 919/1000 [01:00<00:05, 15.14it/s]"
          ],
          "name": "stderr"
        },
        {
          "output_type": "stream",
          "text": [
            "\r 92%|█████████▏| 921/1000 [01:00<00:05, 15.11it/s]"
          ],
          "name": "stderr"
        },
        {
          "output_type": "stream",
          "text": [
            "\r 92%|█████████▏| 922/1000 [01:01<00:05, 15.09it/s]"
          ],
          "name": "stderr"
        },
        {
          "output_type": "stream",
          "text": [
            "\r 92%|█████████▏| 923/1000 [01:01<00:05, 15.08it/s]"
          ],
          "name": "stderr"
        },
        {
          "output_type": "stream",
          "text": [
            "\r 92%|█████████▏| 924/1000 [01:01<00:05, 15.05it/s]"
          ],
          "name": "stderr"
        },
        {
          "output_type": "stream",
          "text": [
            "\r 92%|█████████▎| 925/1000 [01:01<00:04, 15.02it/s]"
          ],
          "name": "stderr"
        },
        {
          "output_type": "stream",
          "text": [
            "\r 93%|█████████▎| 927/1000 [01:01<00:04, 14.99it/s]"
          ],
          "name": "stderr"
        },
        {
          "output_type": "stream",
          "text": [
            "\r 93%|█████████▎| 929/1000 [01:02<00:04, 14.96it/s]"
          ],
          "name": "stderr"
        },
        {
          "output_type": "stream",
          "text": [
            "\r 93%|█████████▎| 930/1000 [01:02<00:04, 14.94it/s]"
          ],
          "name": "stderr"
        },
        {
          "output_type": "stream",
          "text": [
            "\r 93%|█████████▎| 933/1000 [01:02<00:04, 14.94it/s]"
          ],
          "name": "stderr"
        },
        {
          "output_type": "stream",
          "text": [
            "\r 93%|█████████▎| 934/1000 [01:02<00:04, 14.92it/s]"
          ],
          "name": "stderr"
        },
        {
          "output_type": "stream",
          "text": [
            "\r 94%|█████████▎| 935/1000 [01:02<00:04, 14.88it/s]"
          ],
          "name": "stderr"
        },
        {
          "output_type": "stream",
          "text": [
            "\r 94%|█████████▎| 936/1000 [01:02<00:04, 14.87it/s]"
          ],
          "name": "stderr"
        },
        {
          "output_type": "stream",
          "text": [
            "\r 94%|█████████▍| 938/1000 [01:03<00:04, 14.86it/s]"
          ],
          "name": "stderr"
        },
        {
          "output_type": "stream",
          "text": [
            "\r 94%|█████████▍| 939/1000 [01:03<00:04, 14.84it/s]"
          ],
          "name": "stderr"
        },
        {
          "output_type": "stream",
          "text": [
            "\r 94%|█████████▍| 940/1000 [01:03<00:04, 14.79it/s]"
          ],
          "name": "stderr"
        },
        {
          "output_type": "stream",
          "text": [
            "\r 94%|█████████▍| 941/1000 [01:03<00:04, 14.75it/s]"
          ],
          "name": "stderr"
        },
        {
          "output_type": "stream",
          "text": [
            "\r 94%|█████████▍| 942/1000 [01:03<00:03, 14.73it/s]"
          ],
          "name": "stderr"
        },
        {
          "output_type": "stream",
          "text": [
            "\r 94%|█████████▍| 943/1000 [01:04<00:03, 14.72it/s]"
          ],
          "name": "stderr"
        },
        {
          "output_type": "stream",
          "text": [
            "\r 94%|█████████▍| 944/1000 [01:04<00:03, 14.71it/s]"
          ],
          "name": "stderr"
        },
        {
          "output_type": "stream",
          "text": [
            "\r 94%|█████████▍| 945/1000 [01:04<00:03, 14.66it/s]"
          ],
          "name": "stderr"
        },
        {
          "output_type": "stream",
          "text": [
            "\r 95%|█████████▍| 946/1000 [01:04<00:03, 14.65it/s]"
          ],
          "name": "stderr"
        },
        {
          "output_type": "stream",
          "text": [
            "\r 95%|█████████▍| 947/1000 [01:04<00:03, 14.63it/s]"
          ],
          "name": "stderr"
        },
        {
          "output_type": "stream",
          "text": [
            "\r 95%|█████████▍| 948/1000 [01:04<00:03, 14.60it/s]"
          ],
          "name": "stderr"
        },
        {
          "output_type": "stream",
          "text": [
            "\r 95%|█████████▍| 949/1000 [01:05<00:03, 14.55it/s]"
          ],
          "name": "stderr"
        },
        {
          "output_type": "stream",
          "text": [
            "\r 95%|█████████▌| 951/1000 [01:05<00:03, 14.54it/s]"
          ],
          "name": "stderr"
        },
        {
          "output_type": "stream",
          "text": [
            "\r 95%|█████████▌| 952/1000 [01:05<00:03, 14.54it/s]"
          ],
          "name": "stderr"
        },
        {
          "output_type": "stream",
          "text": [
            "\r 95%|█████████▌| 953/1000 [01:05<00:03, 14.51it/s]"
          ],
          "name": "stderr"
        },
        {
          "output_type": "stream",
          "text": [
            "\r 96%|█████████▌| 955/1000 [01:05<00:03, 14.50it/s]"
          ],
          "name": "stderr"
        },
        {
          "output_type": "stream",
          "text": [
            "\r 96%|█████████▌| 956/1000 [01:05<00:03, 14.49it/s]"
          ],
          "name": "stderr"
        },
        {
          "output_type": "stream",
          "text": [
            "\r 96%|█████████▌| 958/1000 [01:06<00:02, 14.46it/s]"
          ],
          "name": "stderr"
        },
        {
          "output_type": "stream",
          "text": [
            "\r 96%|█████████▌| 959/1000 [01:06<00:02, 14.44it/s]"
          ],
          "name": "stderr"
        },
        {
          "output_type": "stream",
          "text": [
            "\r 96%|█████████▌| 961/1000 [01:06<00:02, 14.39it/s]"
          ],
          "name": "stderr"
        },
        {
          "output_type": "stream",
          "text": [
            "\r 96%|█████████▋| 963/1000 [01:07<00:02, 14.36it/s]"
          ],
          "name": "stderr"
        },
        {
          "output_type": "stream",
          "text": [
            "\r 96%|█████████▋| 964/1000 [01:07<00:02, 14.32it/s]"
          ],
          "name": "stderr"
        },
        {
          "output_type": "stream",
          "text": [
            "\r 96%|█████████▋| 965/1000 [01:07<00:02, 14.30it/s]"
          ],
          "name": "stderr"
        },
        {
          "output_type": "stream",
          "text": [
            "\r 97%|█████████▋| 967/1000 [01:07<00:02, 14.26it/s]"
          ],
          "name": "stderr"
        },
        {
          "output_type": "stream",
          "text": [
            "\r 97%|█████████▋| 968/1000 [01:07<00:02, 14.26it/s]"
          ],
          "name": "stderr"
        },
        {
          "output_type": "stream",
          "text": [
            "\r 97%|█████████▋| 970/1000 [01:08<00:02, 14.25it/s]"
          ],
          "name": "stderr"
        },
        {
          "output_type": "stream",
          "text": [
            "\r 97%|█████████▋| 971/1000 [01:08<00:02, 14.21it/s]"
          ],
          "name": "stderr"
        },
        {
          "output_type": "stream",
          "text": [
            "\r 97%|█████████▋| 972/1000 [01:08<00:01, 14.20it/s]"
          ],
          "name": "stderr"
        },
        {
          "output_type": "stream",
          "text": [
            "\r 97%|█████████▋| 973/1000 [01:08<00:01, 14.17it/s]"
          ],
          "name": "stderr"
        },
        {
          "output_type": "stream",
          "text": [
            "\r 98%|█████████▊| 975/1000 [01:08<00:01, 14.16it/s]"
          ],
          "name": "stderr"
        },
        {
          "output_type": "stream",
          "text": [
            "\r 98%|█████████▊| 976/1000 [01:09<00:01, 14.12it/s]"
          ],
          "name": "stderr"
        },
        {
          "output_type": "stream",
          "text": [
            "\r 98%|█████████▊| 977/1000 [01:09<00:01, 14.10it/s]"
          ],
          "name": "stderr"
        },
        {
          "output_type": "stream",
          "text": [
            "\r 98%|█████████▊| 978/1000 [01:09<00:01, 14.07it/s]"
          ],
          "name": "stderr"
        },
        {
          "output_type": "stream",
          "text": [
            "\r 98%|█████████▊| 980/1000 [01:09<00:01, 14.04it/s]"
          ],
          "name": "stderr"
        },
        {
          "output_type": "stream",
          "text": [
            "\r 98%|█████████▊| 981/1000 [01:09<00:01, 14.02it/s]"
          ],
          "name": "stderr"
        },
        {
          "output_type": "stream",
          "text": [
            "\r 98%|█████████▊| 982/1000 [01:10<00:01, 13.99it/s]"
          ],
          "name": "stderr"
        },
        {
          "output_type": "stream",
          "text": [
            "\r 98%|█████████▊| 983/1000 [01:10<00:01, 13.97it/s]"
          ],
          "name": "stderr"
        },
        {
          "output_type": "stream",
          "text": [
            "\r 98%|█████████▊| 984/1000 [01:10<00:01, 13.95it/s]"
          ],
          "name": "stderr"
        },
        {
          "output_type": "stream",
          "text": [
            "\r 99%|█████████▊| 986/1000 [01:10<00:01, 13.94it/s]"
          ],
          "name": "stderr"
        },
        {
          "output_type": "stream",
          "text": [
            "\r 99%|█████████▊| 987/1000 [01:10<00:00, 13.93it/s]"
          ],
          "name": "stderr"
        },
        {
          "output_type": "stream",
          "text": [
            "\r 99%|█████████▉| 988/1000 [01:11<00:00, 13.91it/s]"
          ],
          "name": "stderr"
        },
        {
          "output_type": "stream",
          "text": [
            "\r 99%|█████████▉| 990/1000 [01:11<00:00, 13.91it/s]"
          ],
          "name": "stderr"
        },
        {
          "output_type": "stream",
          "text": [
            "\r 99%|█████████▉| 991/1000 [01:11<00:00, 13.88it/s]"
          ],
          "name": "stderr"
        },
        {
          "output_type": "stream",
          "text": [
            "\r 99%|█████████▉| 992/1000 [01:11<00:00, 13.87it/s]"
          ],
          "name": "stderr"
        },
        {
          "output_type": "stream",
          "text": [
            "\r 99%|█████████▉| 993/1000 [01:11<00:00, 13.84it/s]"
          ],
          "name": "stderr"
        },
        {
          "output_type": "stream",
          "text": [
            "\r 99%|█████████▉| 994/1000 [01:12<00:00, 13.80it/s]"
          ],
          "name": "stderr"
        },
        {
          "output_type": "stream",
          "text": [
            "\r100%|█████████▉| 995/1000 [01:12<00:00, 13.79it/s]"
          ],
          "name": "stderr"
        },
        {
          "output_type": "stream",
          "text": [
            "\r100%|█████████▉| 996/1000 [01:12<00:00, 13.77it/s]"
          ],
          "name": "stderr"
        },
        {
          "output_type": "stream",
          "text": [
            "\r100%|█████████▉| 998/1000 [01:12<00:00, 13.74it/s]"
          ],
          "name": "stderr"
        },
        {
          "output_type": "stream",
          "text": [
            "\r100%|█████████▉| 999/1000 [01:12<00:00, 13.73it/s]"
          ],
          "name": "stderr"
        },
        {
          "output_type": "stream",
          "text": [
            "\r100%|██████████| 1000/1000 [01:12<00:00, 13.72it/s]"
          ],
          "name": "stderr"
        },
        {
          "output_type": "stream",
          "text": [
            "\n"
          ],
          "name": "stderr"
        }
      ]
    },
    {
      "metadata": {
        "id": "9je0fcmFJbz6",
        "colab_type": "code",
        "colab": {}
      },
      "cell_type": "code",
      "source": [
        "# You may want to run a video of the trained agent performing in the environment using the env.render() function.\n",
        "#\n",
        "# for i in range(3):\n",
        "#\n",
        "#     ob = env.reset()\n",
        "#\n",
        "#     while True:\n",
        "#\n",
        "#         action, policy = agent.act(ob, reward, done)\n",
        "#\n",
        "#         ob, reward, done, _ = env.step(action[0])\n",
        "#\n",
        "#         if done:\n",
        "#             break\n",
        "#       \n",
        "#         env.render()"
      ],
      "execution_count": 0,
      "outputs": []
    },
    {
      "metadata": {
        "id": "V0fKGA1TJb0E",
        "colab_type": "text"
      },
      "cell_type": "markdown",
      "source": [
        "2: Plot the cumulative reward for both RandomAgent and REINFORCEAgent."
      ]
    }
  ]
}